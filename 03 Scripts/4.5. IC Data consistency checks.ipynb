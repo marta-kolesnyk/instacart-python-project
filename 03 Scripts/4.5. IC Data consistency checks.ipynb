{
 "cells": [
  {
   "cell_type": "markdown",
   "id": "754e3906",
   "metadata": {},
   "source": [
    "# Data consistency checks\n",
    "#"
   ]
  },
  {
   "cell_type": "markdown",
   "id": "9366d0b4",
   "metadata": {},
   "source": [
    "# List of contents:\n",
    "## 1. Import libraries\n",
    "## 2. Import 'orders_wrangled' and 'products' datasets\n",
    "## 3. Data consistency checks for df_prods\n",
    "### 3.1. Practicing mixed-type data with a test dataframe\n",
    "### 3.2. Check for missing values within df_prods\n",
    "### 3.3. Check for duplicates\n",
    "### 3.4. Descriptive statistics for df_prods_clean_no_dupes\n",
    "## 4. Consistency checks for df_ords\n",
    "### 4.1. Descriptive statistics\n",
    "### 4.2. Checking for mixed-type data\n",
    "### 4.3. Checking for missing values\n",
    "### 4.4. Checking for duplicates\n",
    "## 5. Export 'df_prods_clean_final' and 'df_ords' dataframes\n",
    "#"
   ]
  },
  {
   "cell_type": "markdown",
   "id": "fa065259",
   "metadata": {},
   "source": [
    "## 1. Import libraries"
   ]
  },
  {
   "cell_type": "code",
   "execution_count": 1,
   "id": "58af4b4e",
   "metadata": {},
   "outputs": [],
   "source": [
    "# Importing libraries\n",
    "import pandas as pd\n",
    "import numpy as np\n",
    "import os"
   ]
  },
  {
   "cell_type": "markdown",
   "id": "cd1cc50b",
   "metadata": {},
   "source": [
    "## 2. Import datasets"
   ]
  },
  {
   "cell_type": "code",
   "execution_count": 2,
   "id": "446addba",
   "metadata": {},
   "outputs": [],
   "source": [
    "# Creating folder path variable\n",
    "path = r'C:\\Users\\marta\\OneDrive\\Documents\\2023-09-18 Instacart Basket Analysis'"
   ]
  },
  {
   "cell_type": "code",
   "execution_count": 3,
   "id": "09eb59d2",
   "metadata": {},
   "outputs": [],
   "source": [
    "# Importing orders_wrangled dataset\n",
    "df_ords = pd.read_csv(os.path.join (path, '02 Data', 'Prepared Data', 'orders_wrangled.csv'), index_col = False)"
   ]
  },
  {
   "cell_type": "code",
   "execution_count": 5,
   "id": "c12350d6",
   "metadata": {},
   "outputs": [],
   "source": [
    "# Removing 'Unnamed: 0 ' column from df_ords\n",
    "df_ords = df_ords.drop(columns = ['Unnamed: 0'])"
   ]
  },
  {
   "cell_type": "markdown",
   "id": "0d03ba79",
   "metadata": {},
   "source": [
    "## 3. Data consistency checks for df_prods"
   ]
  },
  {
   "cell_type": "markdown",
   "id": "eb44844f",
   "metadata": {},
   "source": [
    "### 3.1. Practicing mixed-type data with a test dataframe"
   ]
  },
  {
   "cell_type": "code",
   "execution_count": 6,
   "id": "1e57f7f7",
   "metadata": {},
   "outputs": [],
   "source": [
    "# Creating a dataframe\n",
    "df_test = pd.DataFrame()"
   ]
  },
  {
   "cell_type": "code",
   "execution_count": 7,
   "id": "15eda905",
   "metadata": {},
   "outputs": [],
   "source": [
    "# Creating a mixed-type column\n",
    "df_test['mix'] = ['a', 'b', 1, True]"
   ]
  },
  {
   "cell_type": "code",
   "execution_count": 8,
   "id": "5880ae37",
   "metadata": {},
   "outputs": [
    {
     "data": {
      "text/html": [
       "<div>\n",
       "<style scoped>\n",
       "    .dataframe tbody tr th:only-of-type {\n",
       "        vertical-align: middle;\n",
       "    }\n",
       "\n",
       "    .dataframe tbody tr th {\n",
       "        vertical-align: top;\n",
       "    }\n",
       "\n",
       "    .dataframe thead th {\n",
       "        text-align: right;\n",
       "    }\n",
       "</style>\n",
       "<table border=\"1\" class=\"dataframe\">\n",
       "  <thead>\n",
       "    <tr style=\"text-align: right;\">\n",
       "      <th></th>\n",
       "      <th>mix</th>\n",
       "    </tr>\n",
       "  </thead>\n",
       "  <tbody>\n",
       "    <tr>\n",
       "      <th>0</th>\n",
       "      <td>a</td>\n",
       "    </tr>\n",
       "    <tr>\n",
       "      <th>1</th>\n",
       "      <td>b</td>\n",
       "    </tr>\n",
       "    <tr>\n",
       "      <th>2</th>\n",
       "      <td>1</td>\n",
       "    </tr>\n",
       "    <tr>\n",
       "      <th>3</th>\n",
       "      <td>True</td>\n",
       "    </tr>\n",
       "  </tbody>\n",
       "</table>\n",
       "</div>"
      ],
      "text/plain": [
       "    mix\n",
       "0     a\n",
       "1     b\n",
       "2     1\n",
       "3  True"
      ]
     },
     "execution_count": 8,
     "metadata": {},
     "output_type": "execute_result"
    }
   ],
   "source": [
    "# Check the output\n",
    "df_test.head()"
   ]
  },
  {
   "cell_type": "code",
   "execution_count": 9,
   "id": "46edba41",
   "metadata": {},
   "outputs": [
    {
     "name": "stdout",
     "output_type": "stream",
     "text": [
      "mix\n"
     ]
    }
   ],
   "source": [
    "# Checking for mixed types\n",
    "for col in df_test.columns.tolist():\n",
    "  weird = (df_test[[col]].applymap(type) != df_test[[col]].iloc[0].apply(type)).any(axis = 1)\n",
    "  if len (df_test[weird]) > 0:\n",
    "    print (col)"
   ]
  },
  {
   "cell_type": "code",
   "execution_count": 10,
   "id": "b08863a8",
   "metadata": {},
   "outputs": [],
   "source": [
    "# Changing column data type to string\n",
    "df_test['mix'] = df_test['mix'].astype('str')"
   ]
  },
  {
   "cell_type": "markdown",
   "id": "aec90ce7",
   "metadata": {},
   "source": [
    "### 3.2. Check for missing values within df_prods"
   ]
  },
  {
   "cell_type": "code",
   "execution_count": 11,
   "id": "1a4d11e6",
   "metadata": {},
   "outputs": [
    {
     "data": {
      "text/plain": [
       "product_id        0\n",
       "product_name     16\n",
       "aisle_id          0\n",
       "department_id     0\n",
       "prices            0\n",
       "dtype: int64"
      ]
     },
     "execution_count": 11,
     "metadata": {},
     "output_type": "execute_result"
    }
   ],
   "source": [
    "# Finding missing values within df_prods\n",
    "df_prods.isnull().sum()"
   ]
  },
  {
   "cell_type": "code",
   "execution_count": 12,
   "id": "731943b0",
   "metadata": {},
   "outputs": [],
   "source": [
    "# Creating a subset dataframe for missing values\n",
    "df_nan = df_prods[df_prods['product_name'].isnull() == True]"
   ]
  },
  {
   "cell_type": "code",
   "execution_count": 13,
   "id": "0872c5eb",
   "metadata": {},
   "outputs": [
    {
     "data": {
      "text/html": [
       "<div>\n",
       "<style scoped>\n",
       "    .dataframe tbody tr th:only-of-type {\n",
       "        vertical-align: middle;\n",
       "    }\n",
       "\n",
       "    .dataframe tbody tr th {\n",
       "        vertical-align: top;\n",
       "    }\n",
       "\n",
       "    .dataframe thead th {\n",
       "        text-align: right;\n",
       "    }\n",
       "</style>\n",
       "<table border=\"1\" class=\"dataframe\">\n",
       "  <thead>\n",
       "    <tr style=\"text-align: right;\">\n",
       "      <th></th>\n",
       "      <th>product_id</th>\n",
       "      <th>product_name</th>\n",
       "      <th>aisle_id</th>\n",
       "      <th>department_id</th>\n",
       "      <th>prices</th>\n",
       "    </tr>\n",
       "  </thead>\n",
       "  <tbody>\n",
       "    <tr>\n",
       "      <th>33</th>\n",
       "      <td>34</td>\n",
       "      <td>NaN</td>\n",
       "      <td>121</td>\n",
       "      <td>14</td>\n",
       "      <td>12.2</td>\n",
       "    </tr>\n",
       "    <tr>\n",
       "      <th>68</th>\n",
       "      <td>69</td>\n",
       "      <td>NaN</td>\n",
       "      <td>26</td>\n",
       "      <td>7</td>\n",
       "      <td>11.8</td>\n",
       "    </tr>\n",
       "    <tr>\n",
       "      <th>115</th>\n",
       "      <td>116</td>\n",
       "      <td>NaN</td>\n",
       "      <td>93</td>\n",
       "      <td>3</td>\n",
       "      <td>10.8</td>\n",
       "    </tr>\n",
       "    <tr>\n",
       "      <th>261</th>\n",
       "      <td>262</td>\n",
       "      <td>NaN</td>\n",
       "      <td>110</td>\n",
       "      <td>13</td>\n",
       "      <td>12.1</td>\n",
       "    </tr>\n",
       "    <tr>\n",
       "      <th>525</th>\n",
       "      <td>525</td>\n",
       "      <td>NaN</td>\n",
       "      <td>109</td>\n",
       "      <td>11</td>\n",
       "      <td>1.2</td>\n",
       "    </tr>\n",
       "    <tr>\n",
       "      <th>1511</th>\n",
       "      <td>1511</td>\n",
       "      <td>NaN</td>\n",
       "      <td>84</td>\n",
       "      <td>16</td>\n",
       "      <td>14.3</td>\n",
       "    </tr>\n",
       "    <tr>\n",
       "      <th>1780</th>\n",
       "      <td>1780</td>\n",
       "      <td>NaN</td>\n",
       "      <td>126</td>\n",
       "      <td>11</td>\n",
       "      <td>12.3</td>\n",
       "    </tr>\n",
       "    <tr>\n",
       "      <th>2240</th>\n",
       "      <td>2240</td>\n",
       "      <td>NaN</td>\n",
       "      <td>52</td>\n",
       "      <td>1</td>\n",
       "      <td>14.2</td>\n",
       "    </tr>\n",
       "    <tr>\n",
       "      <th>2586</th>\n",
       "      <td>2586</td>\n",
       "      <td>NaN</td>\n",
       "      <td>104</td>\n",
       "      <td>13</td>\n",
       "      <td>12.4</td>\n",
       "    </tr>\n",
       "    <tr>\n",
       "      <th>3159</th>\n",
       "      <td>3159</td>\n",
       "      <td>NaN</td>\n",
       "      <td>126</td>\n",
       "      <td>11</td>\n",
       "      <td>13.1</td>\n",
       "    </tr>\n",
       "    <tr>\n",
       "      <th>3230</th>\n",
       "      <td>3230</td>\n",
       "      <td>NaN</td>\n",
       "      <td>120</td>\n",
       "      <td>16</td>\n",
       "      <td>14.4</td>\n",
       "    </tr>\n",
       "    <tr>\n",
       "      <th>3736</th>\n",
       "      <td>3736</td>\n",
       "      <td>NaN</td>\n",
       "      <td>41</td>\n",
       "      <td>8</td>\n",
       "      <td>14.8</td>\n",
       "    </tr>\n",
       "    <tr>\n",
       "      <th>4283</th>\n",
       "      <td>4283</td>\n",
       "      <td>NaN</td>\n",
       "      <td>77</td>\n",
       "      <td>7</td>\n",
       "      <td>14.4</td>\n",
       "    </tr>\n",
       "    <tr>\n",
       "      <th>4790</th>\n",
       "      <td>4790</td>\n",
       "      <td>NaN</td>\n",
       "      <td>91</td>\n",
       "      <td>16</td>\n",
       "      <td>14.5</td>\n",
       "    </tr>\n",
       "    <tr>\n",
       "      <th>38187</th>\n",
       "      <td>38183</td>\n",
       "      <td>NaN</td>\n",
       "      <td>39</td>\n",
       "      <td>12</td>\n",
       "      <td>20.9</td>\n",
       "    </tr>\n",
       "    <tr>\n",
       "      <th>40444</th>\n",
       "      <td>40440</td>\n",
       "      <td>NaN</td>\n",
       "      <td>120</td>\n",
       "      <td>16</td>\n",
       "      <td>14.8</td>\n",
       "    </tr>\n",
       "  </tbody>\n",
       "</table>\n",
       "</div>"
      ],
      "text/plain": [
       "       product_id product_name  aisle_id  department_id  prices\n",
       "33             34          NaN       121             14    12.2\n",
       "68             69          NaN        26              7    11.8\n",
       "115           116          NaN        93              3    10.8\n",
       "261           262          NaN       110             13    12.1\n",
       "525           525          NaN       109             11     1.2\n",
       "1511         1511          NaN        84             16    14.3\n",
       "1780         1780          NaN       126             11    12.3\n",
       "2240         2240          NaN        52              1    14.2\n",
       "2586         2586          NaN       104             13    12.4\n",
       "3159         3159          NaN       126             11    13.1\n",
       "3230         3230          NaN       120             16    14.4\n",
       "3736         3736          NaN        41              8    14.8\n",
       "4283         4283          NaN        77              7    14.4\n",
       "4790         4790          NaN        91             16    14.5\n",
       "38187       38183          NaN        39             12    20.9\n",
       "40444       40440          NaN       120             16    14.8"
      ]
     },
     "execution_count": 13,
     "metadata": {},
     "output_type": "execute_result"
    }
   ],
   "source": [
    "df_nan"
   ]
  },
  {
   "cell_type": "code",
   "execution_count": 14,
   "id": "e963c19b",
   "metadata": {},
   "outputs": [
    {
     "data": {
      "text/plain": [
       "(49693, 5)"
      ]
     },
     "execution_count": 14,
     "metadata": {},
     "output_type": "execute_result"
    }
   ],
   "source": [
    "# Dimensions of df_prods\n",
    "df_prods.shape"
   ]
  },
  {
   "cell_type": "code",
   "execution_count": 15,
   "id": "6a57fd49",
   "metadata": {},
   "outputs": [],
   "source": [
    "# Creating new dataframe without missing values\n",
    "df_prods_clean = df_prods[df_prods['product_name'].isnull() == False]"
   ]
  },
  {
   "cell_type": "code",
   "execution_count": 16,
   "id": "6b3bf218",
   "metadata": {},
   "outputs": [
    {
     "data": {
      "text/plain": [
       "(49677, 5)"
      ]
     },
     "execution_count": 16,
     "metadata": {},
     "output_type": "execute_result"
    }
   ],
   "source": [
    "# Check dimensions\n",
    "df_prods_clean.shape"
   ]
  },
  {
   "cell_type": "markdown",
   "id": "0e631924",
   "metadata": {},
   "source": [
    "### 3.3. Check for duplicates"
   ]
  },
  {
   "cell_type": "code",
   "execution_count": 17,
   "id": "4208f6f7",
   "metadata": {},
   "outputs": [],
   "source": [
    "# Creating subset df for dupes\n",
    "df_dups = df_prods_clean[df_prods_clean.duplicated()]"
   ]
  },
  {
   "cell_type": "code",
   "execution_count": 18,
   "id": "916f7bc1",
   "metadata": {},
   "outputs": [
    {
     "data": {
      "text/html": [
       "<div>\n",
       "<style scoped>\n",
       "    .dataframe tbody tr th:only-of-type {\n",
       "        vertical-align: middle;\n",
       "    }\n",
       "\n",
       "    .dataframe tbody tr th {\n",
       "        vertical-align: top;\n",
       "    }\n",
       "\n",
       "    .dataframe thead th {\n",
       "        text-align: right;\n",
       "    }\n",
       "</style>\n",
       "<table border=\"1\" class=\"dataframe\">\n",
       "  <thead>\n",
       "    <tr style=\"text-align: right;\">\n",
       "      <th></th>\n",
       "      <th>product_id</th>\n",
       "      <th>product_name</th>\n",
       "      <th>aisle_id</th>\n",
       "      <th>department_id</th>\n",
       "      <th>prices</th>\n",
       "    </tr>\n",
       "  </thead>\n",
       "  <tbody>\n",
       "    <tr>\n",
       "      <th>462</th>\n",
       "      <td>462</td>\n",
       "      <td>Fiber 4g Gummy Dietary Supplement</td>\n",
       "      <td>70</td>\n",
       "      <td>11</td>\n",
       "      <td>4.8</td>\n",
       "    </tr>\n",
       "    <tr>\n",
       "      <th>18459</th>\n",
       "      <td>18458</td>\n",
       "      <td>Ranger IPA</td>\n",
       "      <td>27</td>\n",
       "      <td>5</td>\n",
       "      <td>9.2</td>\n",
       "    </tr>\n",
       "    <tr>\n",
       "      <th>26810</th>\n",
       "      <td>26808</td>\n",
       "      <td>Black House Coffee Roasty Stout Beer</td>\n",
       "      <td>27</td>\n",
       "      <td>5</td>\n",
       "      <td>13.4</td>\n",
       "    </tr>\n",
       "    <tr>\n",
       "      <th>35309</th>\n",
       "      <td>35306</td>\n",
       "      <td>Gluten Free Organic Peanut Butter &amp; Chocolate ...</td>\n",
       "      <td>121</td>\n",
       "      <td>14</td>\n",
       "      <td>6.8</td>\n",
       "    </tr>\n",
       "    <tr>\n",
       "      <th>35495</th>\n",
       "      <td>35491</td>\n",
       "      <td>Adore Forever Body Wash</td>\n",
       "      <td>127</td>\n",
       "      <td>11</td>\n",
       "      <td>9.9</td>\n",
       "    </tr>\n",
       "  </tbody>\n",
       "</table>\n",
       "</div>"
      ],
      "text/plain": [
       "       product_id                                       product_name  \\\n",
       "462           462                  Fiber 4g Gummy Dietary Supplement   \n",
       "18459       18458                                         Ranger IPA   \n",
       "26810       26808               Black House Coffee Roasty Stout Beer   \n",
       "35309       35306  Gluten Free Organic Peanut Butter & Chocolate ...   \n",
       "35495       35491                            Adore Forever Body Wash   \n",
       "\n",
       "       aisle_id  department_id  prices  \n",
       "462          70             11     4.8  \n",
       "18459        27              5     9.2  \n",
       "26810        27              5    13.4  \n",
       "35309       121             14     6.8  \n",
       "35495       127             11     9.9  "
      ]
     },
     "execution_count": 18,
     "metadata": {},
     "output_type": "execute_result"
    }
   ],
   "source": [
    "df_dups"
   ]
  },
  {
   "cell_type": "code",
   "execution_count": 19,
   "id": "ea3cba65",
   "metadata": {},
   "outputs": [
    {
     "data": {
      "text/plain": [
       "(49677, 5)"
      ]
     },
     "execution_count": 19,
     "metadata": {},
     "output_type": "execute_result"
    }
   ],
   "source": [
    "# Check dimensions\n",
    "df_prods_clean.shape"
   ]
  },
  {
   "cell_type": "code",
   "execution_count": 20,
   "id": "081ea5f7",
   "metadata": {},
   "outputs": [],
   "source": [
    "# Removing duplicates from df_prods_clean\n",
    "df_prods_clean_no_dupes = df_prods_clean.drop_duplicates()"
   ]
  },
  {
   "cell_type": "code",
   "execution_count": 21,
   "id": "f6e95930",
   "metadata": {},
   "outputs": [
    {
     "data": {
      "text/plain": [
       "(49672, 5)"
      ]
     },
     "execution_count": 21,
     "metadata": {},
     "output_type": "execute_result"
    }
   ],
   "source": [
    "# Check dimensions\n",
    "df_prods_clean_no_dupes.shape"
   ]
  },
  {
   "cell_type": "markdown",
   "id": "06249864",
   "metadata": {},
   "source": [
    "### 3.4. Descriptive statistics for df_prods_clean_no_dupes"
   ]
  },
  {
   "cell_type": "code",
   "execution_count": 22,
   "id": "de7401b6",
   "metadata": {},
   "outputs": [
    {
     "data": {
      "text/html": [
       "<div>\n",
       "<style scoped>\n",
       "    .dataframe tbody tr th:only-of-type {\n",
       "        vertical-align: middle;\n",
       "    }\n",
       "\n",
       "    .dataframe tbody tr th {\n",
       "        vertical-align: top;\n",
       "    }\n",
       "\n",
       "    .dataframe thead th {\n",
       "        text-align: right;\n",
       "    }\n",
       "</style>\n",
       "<table border=\"1\" class=\"dataframe\">\n",
       "  <thead>\n",
       "    <tr style=\"text-align: right;\">\n",
       "      <th></th>\n",
       "      <th>product_id</th>\n",
       "      <th>aisle_id</th>\n",
       "      <th>department_id</th>\n",
       "      <th>prices</th>\n",
       "    </tr>\n",
       "  </thead>\n",
       "  <tbody>\n",
       "    <tr>\n",
       "      <th>count</th>\n",
       "      <td>49672.000000</td>\n",
       "      <td>49672.000000</td>\n",
       "      <td>49672.000000</td>\n",
       "      <td>49672.000000</td>\n",
       "    </tr>\n",
       "    <tr>\n",
       "      <th>mean</th>\n",
       "      <td>24850.349775</td>\n",
       "      <td>67.762442</td>\n",
       "      <td>11.728942</td>\n",
       "      <td>9.993282</td>\n",
       "    </tr>\n",
       "    <tr>\n",
       "      <th>std</th>\n",
       "      <td>14340.705287</td>\n",
       "      <td>38.315784</td>\n",
       "      <td>5.850779</td>\n",
       "      <td>453.615536</td>\n",
       "    </tr>\n",
       "    <tr>\n",
       "      <th>min</th>\n",
       "      <td>1.000000</td>\n",
       "      <td>1.000000</td>\n",
       "      <td>1.000000</td>\n",
       "      <td>1.000000</td>\n",
       "    </tr>\n",
       "    <tr>\n",
       "      <th>25%</th>\n",
       "      <td>12432.750000</td>\n",
       "      <td>35.000000</td>\n",
       "      <td>7.000000</td>\n",
       "      <td>4.100000</td>\n",
       "    </tr>\n",
       "    <tr>\n",
       "      <th>50%</th>\n",
       "      <td>24850.500000</td>\n",
       "      <td>69.000000</td>\n",
       "      <td>13.000000</td>\n",
       "      <td>7.100000</td>\n",
       "    </tr>\n",
       "    <tr>\n",
       "      <th>75%</th>\n",
       "      <td>37268.250000</td>\n",
       "      <td>100.000000</td>\n",
       "      <td>17.000000</td>\n",
       "      <td>11.100000</td>\n",
       "    </tr>\n",
       "    <tr>\n",
       "      <th>max</th>\n",
       "      <td>49688.000000</td>\n",
       "      <td>134.000000</td>\n",
       "      <td>21.000000</td>\n",
       "      <td>99999.000000</td>\n",
       "    </tr>\n",
       "  </tbody>\n",
       "</table>\n",
       "</div>"
      ],
      "text/plain": [
       "         product_id      aisle_id  department_id        prices\n",
       "count  49672.000000  49672.000000   49672.000000  49672.000000\n",
       "mean   24850.349775     67.762442      11.728942      9.993282\n",
       "std    14340.705287     38.315784       5.850779    453.615536\n",
       "min        1.000000      1.000000       1.000000      1.000000\n",
       "25%    12432.750000     35.000000       7.000000      4.100000\n",
       "50%    24850.500000     69.000000      13.000000      7.100000\n",
       "75%    37268.250000    100.000000      17.000000     11.100000\n",
       "max    49688.000000    134.000000      21.000000  99999.000000"
      ]
     },
     "execution_count": 22,
     "metadata": {},
     "output_type": "execute_result"
    }
   ],
   "source": [
    "# Calculating descriptive statistics\n",
    "df_prods_clean_no_dupes.describe()"
   ]
  },
  {
   "cell_type": "markdown",
   "id": "e0cccd83",
   "metadata": {},
   "source": [
    "#### product_id, aisle_id and department_id columns seem to have consistent data. Min value is 1, which is expected for the id columns, max values look realistic. Count number is the same across all columns, which indicate that no rows have missing data now. \n",
    "#### The only thing that looks unrealistic, is the max value for price column, which is 99999.00.\n"
   ]
  },
  {
   "cell_type": "code",
   "execution_count": 23,
   "id": "d7f09f76",
   "metadata": {},
   "outputs": [],
   "source": [
    "# Function to display all records \n",
    "pd.set_option('display.max_rows', None)"
   ]
  },
  {
   "cell_type": "code",
   "execution_count": 24,
   "id": "361d641d",
   "metadata": {},
   "outputs": [],
   "source": [
    "# Frequency table for prices column as a dataframe\n",
    "df = df_prods_clean_no_dupes['prices'].value_counts(dropna = False).to_frame()\n"
   ]
  },
  {
   "cell_type": "code",
   "execution_count": 25,
   "id": "25cf4f14",
   "metadata": {},
   "outputs": [
    {
     "data": {
      "text/plain": [
       "prices\n",
       "2.5        470\n",
       "5.3        458\n",
       "6.2        451\n",
       "2.6        447\n",
       "5.4        444\n",
       "3.8        442\n",
       "6.3        442\n",
       "2.4        442\n",
       "6.9        442\n",
       "3.0        441\n",
       "3.4        438\n",
       "6.8        438\n",
       "5.2        437\n",
       "4.5        437\n",
       "3.3        435\n",
       "2.8        435\n",
       "1.8        434\n",
       "5.1        431\n",
       "6.5        430\n",
       "5.6        428\n",
       "4.6        427\n",
       "4.4        426\n",
       "3.6        425\n",
       "2.0        424\n",
       "4.9        423\n",
       "5.7        423\n",
       "4.3        420\n",
       "6.4        419\n",
       "4.0        419\n",
       "5.8        418\n",
       "6.6        417\n",
       "1.7        417\n",
       "3.5        416\n",
       "2.9        416\n",
       "2.1        415\n",
       "4.2        415\n",
       "2.3        415\n",
       "5.0        414\n",
       "2.2        413\n",
       "2.7        412\n",
       "4.7        411\n",
       "6.0        408\n",
       "3.1        407\n",
       "4.1        406\n",
       "3.9        406\n",
       "4.8        405\n",
       "6.7        404\n",
       "3.2        403\n",
       "3.7        399\n",
       "5.9        399\n",
       "7.0        396\n",
       "5.5        386\n",
       "6.1        385\n",
       "1.9        377\n",
       "1.6        371\n",
       "12.6       356\n",
       "11.5       348\n",
       "8.3        347\n",
       "9.4        340\n",
       "8.2        334\n",
       "11.3       333\n",
       "14.4       330\n",
       "9.2        329\n",
       "12.9       328\n",
       "14.2       327\n",
       "14.3       326\n",
       "7.5        325\n",
       "11.7       324\n",
       "11.4       323\n",
       "8.7        323\n",
       "10.2       322\n",
       "13.0       322\n",
       "1.4        321\n",
       "13.6       320\n",
       "12.3       319\n",
       "11.8       318\n",
       "12.2       316\n",
       "9.1        315\n",
       "7.7        313\n",
       "13.5       313\n",
       "11.1       313\n",
       "14.1       312\n",
       "12.1       311\n",
       "13.4       311\n",
       "12.8       310\n",
       "8.8        310\n",
       "8.6        310\n",
       "14.6       310\n",
       "14.9       310\n",
       "9.0        309\n",
       "7.2        309\n",
       "9.6        308\n",
       "9.3        307\n",
       "11.9       307\n",
       "11.0       306\n",
       "7.9        305\n",
       "8.4        305\n",
       "10.6       305\n",
       "14.0       304\n",
       "14.7       304\n",
       "9.7        303\n",
       "10.5       303\n",
       "13.2       302\n",
       "7.3        302\n",
       "13.3       301\n",
       "10.3       301\n",
       "9.5        300\n",
       "10.7       300\n",
       "10.8       299\n",
       "10.9       299\n",
       "12.5       299\n",
       "9.8        299\n",
       "12.7       297\n",
       "10.1       297\n",
       "1.1        296\n",
       "10.0       296\n",
       "8.1        296\n",
       "1.2        296\n",
       "8.5        295\n",
       "13.9       293\n",
       "9.9        292\n",
       "8.9        292\n",
       "12.0       292\n",
       "10.4       291\n",
       "11.6       291\n",
       "11.2       290\n",
       "8.0        289\n",
       "13.1       289\n",
       "7.4        288\n",
       "1.3        286\n",
       "14.8       285\n",
       "13.7       284\n",
       "13.8       282\n",
       "7.1        281\n",
       "7.8        280\n",
       "12.4       278\n",
       "1.5        276\n",
       "7.6        267\n",
       "14.5       262\n",
       "15.0       143\n",
       "1.0        116\n",
       "18.4        11\n",
       "21.6        10\n",
       "21.3        10\n",
       "15.7        10\n",
       "22.2        10\n",
       "20.9        10\n",
       "23.8         9\n",
       "18.8         9\n",
       "19.1         9\n",
       "18.5         9\n",
       "22.0         8\n",
       "22.8         8\n",
       "18.1         8\n",
       "15.9         8\n",
       "19.3         8\n",
       "20.1         8\n",
       "16.8         8\n",
       "23.2         8\n",
       "21.8         8\n",
       "21.7         8\n",
       "23.1         7\n",
       "18.7         7\n",
       "17.0         7\n",
       "15.4         7\n",
       "20.7         7\n",
       "16.7         7\n",
       "23.9         7\n",
       "18.6         7\n",
       "15.1         7\n",
       "19.0         6\n",
       "22.3         6\n",
       "24.0         6\n",
       "24.9         6\n",
       "23.5         6\n",
       "19.6         6\n",
       "17.6         6\n",
       "23.6         6\n",
       "17.3         6\n",
       "20.0         6\n",
       "22.5         6\n",
       "19.9         6\n",
       "20.6         6\n",
       "17.8         6\n",
       "19.2         6\n",
       "22.9         6\n",
       "21.1         6\n",
       "17.2         6\n",
       "24.3         5\n",
       "24.7         5\n",
       "18.2         5\n",
       "22.4         5\n",
       "18.0         5\n",
       "24.8         5\n",
       "25.0         5\n",
       "24.4         5\n",
       "17.9         5\n",
       "16.1         5\n",
       "16.6         5\n",
       "15.5         5\n",
       "15.2         5\n",
       "22.1         5\n",
       "20.3         5\n",
       "24.1         5\n",
       "19.4         5\n",
       "24.5         5\n",
       "16.2         4\n",
       "15.3         4\n",
       "22.7         4\n",
       "16.4         4\n",
       "20.4         4\n",
       "16.5         4\n",
       "16.0         4\n",
       "17.4         4\n",
       "20.8         4\n",
       "18.9         4\n",
       "21.5         4\n",
       "22.6         4\n",
       "16.3         4\n",
       "24.6         4\n",
       "16.9         4\n",
       "19.8         4\n",
       "19.5         3\n",
       "17.5         3\n",
       "20.5         3\n",
       "23.7         3\n",
       "23.4         3\n",
       "17.1         3\n",
       "23.0         3\n",
       "19.7         3\n",
       "21.9         3\n",
       "20.2         3\n",
       "23.3         3\n",
       "15.8         2\n",
       "17.7         2\n",
       "24.2         2\n",
       "21.4         1\n",
       "15.6         1\n",
       "21.0         1\n",
       "99999.0      1\n",
       "14900.0      1\n",
       "18.3         1\n",
       "Name: count, dtype: int64"
      ]
     },
     "execution_count": 25,
     "metadata": {},
     "output_type": "execute_result"
    }
   ],
   "source": [
    "# Frequency table for prices column\n",
    "df_prods_clean_no_dupes['prices'].value_counts(dropna = False)"
   ]
  },
  {
   "cell_type": "markdown",
   "id": "51203c56",
   "metadata": {},
   "source": [
    "#### Frequency table shows that value 99999 occured only once within the whole dataframe. It also showed another unrealistic value: 14900, that also occured once. I think it's safe to remove rows that contain this two values."
   ]
  },
  {
   "cell_type": "code",
   "execution_count": 26,
   "id": "8f8637d3",
   "metadata": {},
   "outputs": [
    {
     "data": {
      "text/html": [
       "<div>\n",
       "<style scoped>\n",
       "    .dataframe tbody tr th:only-of-type {\n",
       "        vertical-align: middle;\n",
       "    }\n",
       "\n",
       "    .dataframe tbody tr th {\n",
       "        vertical-align: top;\n",
       "    }\n",
       "\n",
       "    .dataframe thead th {\n",
       "        text-align: right;\n",
       "    }\n",
       "</style>\n",
       "<table border=\"1\" class=\"dataframe\">\n",
       "  <thead>\n",
       "    <tr style=\"text-align: right;\">\n",
       "      <th></th>\n",
       "      <th>count</th>\n",
       "    </tr>\n",
       "  </thead>\n",
       "  <tbody>\n",
       "    <tr>\n",
       "      <th>count</th>\n",
       "      <td>242.000000</td>\n",
       "    </tr>\n",
       "    <tr>\n",
       "      <th>mean</th>\n",
       "      <td>205.256198</td>\n",
       "    </tr>\n",
       "    <tr>\n",
       "      <th>std</th>\n",
       "      <td>176.496448</td>\n",
       "    </tr>\n",
       "    <tr>\n",
       "      <th>min</th>\n",
       "      <td>1.000000</td>\n",
       "    </tr>\n",
       "    <tr>\n",
       "      <th>25%</th>\n",
       "      <td>6.000000</td>\n",
       "    </tr>\n",
       "    <tr>\n",
       "      <th>50%</th>\n",
       "      <td>292.000000</td>\n",
       "    </tr>\n",
       "    <tr>\n",
       "      <th>75%</th>\n",
       "      <td>332.250000</td>\n",
       "    </tr>\n",
       "    <tr>\n",
       "      <th>max</th>\n",
       "      <td>470.000000</td>\n",
       "    </tr>\n",
       "  </tbody>\n",
       "</table>\n",
       "</div>"
      ],
      "text/plain": [
       "            count\n",
       "count  242.000000\n",
       "mean   205.256198\n",
       "std    176.496448\n",
       "min      1.000000\n",
       "25%      6.000000\n",
       "50%    292.000000\n",
       "75%    332.250000\n",
       "max    470.000000"
      ]
     },
     "execution_count": 26,
     "metadata": {},
     "output_type": "execute_result"
    }
   ],
   "source": [
    "# Descriptive statistics for df\n",
    "df.describe()"
   ]
  },
  {
   "cell_type": "code",
   "execution_count": 27,
   "id": "e8117354",
   "metadata": {},
   "outputs": [
    {
     "data": {
      "text/html": [
       "<div>\n",
       "<style scoped>\n",
       "    .dataframe tbody tr th:only-of-type {\n",
       "        vertical-align: middle;\n",
       "    }\n",
       "\n",
       "    .dataframe tbody tr th {\n",
       "        vertical-align: top;\n",
       "    }\n",
       "\n",
       "    .dataframe thead th {\n",
       "        text-align: right;\n",
       "    }\n",
       "</style>\n",
       "<table border=\"1\" class=\"dataframe\">\n",
       "  <thead>\n",
       "    <tr style=\"text-align: right;\">\n",
       "      <th></th>\n",
       "      <th>product_id</th>\n",
       "      <th>product_name</th>\n",
       "      <th>aisle_id</th>\n",
       "      <th>department_id</th>\n",
       "      <th>prices</th>\n",
       "    </tr>\n",
       "  </thead>\n",
       "  <tbody>\n",
       "    <tr>\n",
       "      <th>21554</th>\n",
       "      <td>21553</td>\n",
       "      <td>Lowfat 2% Milkfat Cottage Cheese</td>\n",
       "      <td>108</td>\n",
       "      <td>16</td>\n",
       "      <td>14900.0</td>\n",
       "    </tr>\n",
       "    <tr>\n",
       "      <th>33666</th>\n",
       "      <td>33664</td>\n",
       "      <td>2 % Reduced Fat  Milk</td>\n",
       "      <td>84</td>\n",
       "      <td>16</td>\n",
       "      <td>99999.0</td>\n",
       "    </tr>\n",
       "  </tbody>\n",
       "</table>\n",
       "</div>"
      ],
      "text/plain": [
       "       product_id                      product_name  aisle_id  department_id  \\\n",
       "21554       21553  Lowfat 2% Milkfat Cottage Cheese       108             16   \n",
       "33666       33664             2 % Reduced Fat  Milk        84             16   \n",
       "\n",
       "        prices  \n",
       "21554  14900.0  \n",
       "33666  99999.0  "
      ]
     },
     "execution_count": 27,
     "metadata": {},
     "output_type": "execute_result"
    }
   ],
   "source": [
    "# Filtering rows where price = [99999.00, 14900.00]\n",
    "df_prods_clean_no_dupes[df_prods_clean_no_dupes['prices'].isin([99999, 14900])]"
   ]
  },
  {
   "cell_type": "code",
   "execution_count": 28,
   "id": "5e5da44b",
   "metadata": {},
   "outputs": [],
   "source": [
    "# Creating df_unreal that contains filtered rows\n",
    "df_unreal = df_prods_clean_no_dupes[df_prods_clean_no_dupes['prices'].isin([99999, 14900])]"
   ]
  },
  {
   "cell_type": "code",
   "execution_count": 29,
   "id": "b801162e",
   "metadata": {},
   "outputs": [
    {
     "data": {
      "text/html": [
       "<div>\n",
       "<style scoped>\n",
       "    .dataframe tbody tr th:only-of-type {\n",
       "        vertical-align: middle;\n",
       "    }\n",
       "\n",
       "    .dataframe tbody tr th {\n",
       "        vertical-align: top;\n",
       "    }\n",
       "\n",
       "    .dataframe thead th {\n",
       "        text-align: right;\n",
       "    }\n",
       "</style>\n",
       "<table border=\"1\" class=\"dataframe\">\n",
       "  <thead>\n",
       "    <tr style=\"text-align: right;\">\n",
       "      <th></th>\n",
       "      <th>product_id</th>\n",
       "      <th>product_name</th>\n",
       "      <th>aisle_id</th>\n",
       "      <th>department_id</th>\n",
       "      <th>prices</th>\n",
       "    </tr>\n",
       "  </thead>\n",
       "  <tbody>\n",
       "    <tr>\n",
       "      <th>21554</th>\n",
       "      <td>21553</td>\n",
       "      <td>Lowfat 2% Milkfat Cottage Cheese</td>\n",
       "      <td>108</td>\n",
       "      <td>16</td>\n",
       "      <td>14900.0</td>\n",
       "    </tr>\n",
       "    <tr>\n",
       "      <th>33666</th>\n",
       "      <td>33664</td>\n",
       "      <td>2 % Reduced Fat  Milk</td>\n",
       "      <td>84</td>\n",
       "      <td>16</td>\n",
       "      <td>99999.0</td>\n",
       "    </tr>\n",
       "  </tbody>\n",
       "</table>\n",
       "</div>"
      ],
      "text/plain": [
       "       product_id                      product_name  aisle_id  department_id  \\\n",
       "21554       21553  Lowfat 2% Milkfat Cottage Cheese       108             16   \n",
       "33666       33664             2 % Reduced Fat  Milk        84             16   \n",
       "\n",
       "        prices  \n",
       "21554  14900.0  \n",
       "33666  99999.0  "
      ]
     },
     "execution_count": 29,
     "metadata": {},
     "output_type": "execute_result"
    }
   ],
   "source": [
    "# Check the output\n",
    "df_unreal"
   ]
  },
  {
   "cell_type": "code",
   "execution_count": 30,
   "id": "92f6e38d",
   "metadata": {},
   "outputs": [],
   "source": [
    "# Removing row with price = [99999.00, 14900.00] from df_prods\n",
    "df_prods_clean_final = df_prods_clean_no_dupes.drop(df_unreal.index)"
   ]
  },
  {
   "cell_type": "code",
   "execution_count": 31,
   "id": "116bcc4b",
   "metadata": {},
   "outputs": [
    {
     "data": {
      "text/plain": [
       "(49670, 5)"
      ]
     },
     "execution_count": 31,
     "metadata": {},
     "output_type": "execute_result"
    }
   ],
   "source": [
    "# Check dimensions\n",
    "df_prods_clean_final.shape"
   ]
  },
  {
   "cell_type": "code",
   "execution_count": 32,
   "id": "e76e876c",
   "metadata": {},
   "outputs": [],
   "source": [
    "# Method 2 of removing unwanted rows\n",
    "df_prods_clean_no_dupes_v2 = df_prods_clean_no_dupes[df_prods_clean_no_dupes['prices']<500]"
   ]
  },
  {
   "cell_type": "code",
   "execution_count": 33,
   "id": "eede188e",
   "metadata": {},
   "outputs": [
    {
     "data": {
      "text/plain": [
       "(49670, 5)"
      ]
     },
     "execution_count": 33,
     "metadata": {},
     "output_type": "execute_result"
    }
   ],
   "source": [
    "# Check dimensions\n",
    "df_prods_clean_no_dupes_v2.shape"
   ]
  },
  {
   "cell_type": "markdown",
   "id": "d708d577",
   "metadata": {},
   "source": [
    "## 4. Consistency checks for df_ords"
   ]
  },
  {
   "cell_type": "markdown",
   "id": "d086a7e1",
   "metadata": {},
   "source": [
    "### 4.1. Descriptive statistics"
   ]
  },
  {
   "cell_type": "code",
   "execution_count": 34,
   "id": "ee5166cd",
   "metadata": {},
   "outputs": [
    {
     "data": {
      "text/html": [
       "<div>\n",
       "<style scoped>\n",
       "    .dataframe tbody tr th:only-of-type {\n",
       "        vertical-align: middle;\n",
       "    }\n",
       "\n",
       "    .dataframe tbody tr th {\n",
       "        vertical-align: top;\n",
       "    }\n",
       "\n",
       "    .dataframe thead th {\n",
       "        text-align: right;\n",
       "    }\n",
       "</style>\n",
       "<table border=\"1\" class=\"dataframe\">\n",
       "  <thead>\n",
       "    <tr style=\"text-align: right;\">\n",
       "      <th></th>\n",
       "      <th>order_id</th>\n",
       "      <th>user_id</th>\n",
       "      <th>order_number</th>\n",
       "      <th>order_day_of_week</th>\n",
       "      <th>order_hour_of_day</th>\n",
       "      <th>days_since_prior_order</th>\n",
       "    </tr>\n",
       "  </thead>\n",
       "  <tbody>\n",
       "    <tr>\n",
       "      <th>count</th>\n",
       "      <td>3421083.00</td>\n",
       "      <td>3421083.00</td>\n",
       "      <td>3421083.00</td>\n",
       "      <td>3421083.00</td>\n",
       "      <td>3421083.00</td>\n",
       "      <td>3214874.00</td>\n",
       "    </tr>\n",
       "    <tr>\n",
       "      <th>mean</th>\n",
       "      <td>1710542.00</td>\n",
       "      <td>102978.21</td>\n",
       "      <td>17.15</td>\n",
       "      <td>2.78</td>\n",
       "      <td>13.45</td>\n",
       "      <td>11.11</td>\n",
       "    </tr>\n",
       "    <tr>\n",
       "      <th>std</th>\n",
       "      <td>987581.74</td>\n",
       "      <td>59533.72</td>\n",
       "      <td>17.73</td>\n",
       "      <td>2.05</td>\n",
       "      <td>4.23</td>\n",
       "      <td>9.21</td>\n",
       "    </tr>\n",
       "    <tr>\n",
       "      <th>min</th>\n",
       "      <td>1.00</td>\n",
       "      <td>1.00</td>\n",
       "      <td>1.00</td>\n",
       "      <td>0.00</td>\n",
       "      <td>0.00</td>\n",
       "      <td>0.00</td>\n",
       "    </tr>\n",
       "    <tr>\n",
       "      <th>25%</th>\n",
       "      <td>855271.50</td>\n",
       "      <td>51394.00</td>\n",
       "      <td>5.00</td>\n",
       "      <td>1.00</td>\n",
       "      <td>10.00</td>\n",
       "      <td>4.00</td>\n",
       "    </tr>\n",
       "    <tr>\n",
       "      <th>50%</th>\n",
       "      <td>1710542.00</td>\n",
       "      <td>102689.00</td>\n",
       "      <td>11.00</td>\n",
       "      <td>3.00</td>\n",
       "      <td>13.00</td>\n",
       "      <td>7.00</td>\n",
       "    </tr>\n",
       "    <tr>\n",
       "      <th>75%</th>\n",
       "      <td>2565812.50</td>\n",
       "      <td>154385.00</td>\n",
       "      <td>23.00</td>\n",
       "      <td>5.00</td>\n",
       "      <td>16.00</td>\n",
       "      <td>15.00</td>\n",
       "    </tr>\n",
       "    <tr>\n",
       "      <th>max</th>\n",
       "      <td>3421083.00</td>\n",
       "      <td>206209.00</td>\n",
       "      <td>100.00</td>\n",
       "      <td>6.00</td>\n",
       "      <td>23.00</td>\n",
       "      <td>30.00</td>\n",
       "    </tr>\n",
       "  </tbody>\n",
       "</table>\n",
       "</div>"
      ],
      "text/plain": [
       "         order_id     user_id order_number order_day_of_week  \\\n",
       "count  3421083.00  3421083.00   3421083.00        3421083.00   \n",
       "mean   1710542.00   102978.21        17.15              2.78   \n",
       "std     987581.74    59533.72        17.73              2.05   \n",
       "min          1.00        1.00         1.00              0.00   \n",
       "25%     855271.50    51394.00         5.00              1.00   \n",
       "50%    1710542.00   102689.00        11.00              3.00   \n",
       "75%    2565812.50   154385.00        23.00              5.00   \n",
       "max    3421083.00   206209.00       100.00              6.00   \n",
       "\n",
       "      order_hour_of_day days_since_prior_order  \n",
       "count        3421083.00             3214874.00  \n",
       "mean              13.45                  11.11  \n",
       "std                4.23                   9.21  \n",
       "min                0.00                   0.00  \n",
       "25%               10.00                   4.00  \n",
       "50%               13.00                   7.00  \n",
       "75%               16.00                  15.00  \n",
       "max               23.00                  30.00  "
      ]
     },
     "execution_count": 34,
     "metadata": {},
     "output_type": "execute_result"
    }
   ],
   "source": [
    "# Descriptive statistics for df_ords with converting scientific notation to decimal form\n",
    "df_ords.describe().apply(lambda s: s.apply('{0:.2f}'.format))"
   ]
  },
  {
   "cell_type": "markdown",
   "id": "958ba70e",
   "metadata": {},
   "source": [
    "#### Min and max values look realistic for all columns. Min value 0 for order_dow and order_hour_of_day are expected, as this indicates first day of the week and hour of a day respectively.\n",
    "#### days_since_prior_order doesn't have the same count as other columns, so this might be a case of missing values."
   ]
  },
  {
   "cell_type": "markdown",
   "id": "cd85506a",
   "metadata": {},
   "source": [
    "### 4.2. Checking for mixed-type data"
   ]
  },
  {
   "cell_type": "code",
   "execution_count": null,
   "id": "464fabbc",
   "metadata": {},
   "outputs": [],
   "source": [
    "# Checking for mixed types\n",
    "for col in df_ords.columns.tolist():\n",
    "  weird = (df_ords[[col]].applymap(type) != df_ords[[col]].iloc[0].apply(type)).any(axis = 1)\n",
    "  if len (df_ords[weird]) > 0:\n",
    "    print (col)"
   ]
  },
  {
   "cell_type": "markdown",
   "id": "40a8c48a",
   "metadata": {},
   "source": [
    "#### According to the check, this dataframe doesn't have mixed-type columns."
   ]
  },
  {
   "cell_type": "markdown",
   "id": "56ba22cb",
   "metadata": {},
   "source": [
    "### 4.3. Checking for missing values"
   ]
  },
  {
   "cell_type": "code",
   "execution_count": null,
   "id": "dc86a84e",
   "metadata": {},
   "outputs": [],
   "source": [
    "# Checking for missing values within df_ords\n",
    "df_ords.isnull().sum()"
   ]
  },
  {
   "cell_type": "code",
   "execution_count": null,
   "id": "24971e47",
   "metadata": {},
   "outputs": [],
   "source": [
    "# Displaying observations with missing values\n",
    "df_ords[df_ords['days_since_prior_order'].isnull() == True]"
   ]
  },
  {
   "cell_type": "markdown",
   "id": "f9824fb5",
   "metadata": {},
   "source": [
    "#### days_since_prior_order column has 206,209 missing values. This missing value are present in the rows with only one order, which makes sense, as if no further orders were made, there is no day number to display.\n",
    "#### I wouldn't delete or impute missing values in this case, as they actually provide useful information about the orders."
   ]
  },
  {
   "cell_type": "markdown",
   "id": "bf7b5285",
   "metadata": {},
   "source": [
    "### 4.4. Checking for duplicates"
   ]
  },
  {
   "cell_type": "code",
   "execution_count": 38,
   "id": "ed6e827f",
   "metadata": {},
   "outputs": [],
   "source": [
    "# Duplicates checks within df_ords\n",
    "df_dups_ords = df_ords[df_ords.duplicated()]"
   ]
  },
  {
   "cell_type": "code",
   "execution_count": 39,
   "id": "87bd3aee",
   "metadata": {},
   "outputs": [
    {
     "data": {
      "text/html": [
       "<div>\n",
       "<style scoped>\n",
       "    .dataframe tbody tr th:only-of-type {\n",
       "        vertical-align: middle;\n",
       "    }\n",
       "\n",
       "    .dataframe tbody tr th {\n",
       "        vertical-align: top;\n",
       "    }\n",
       "\n",
       "    .dataframe thead th {\n",
       "        text-align: right;\n",
       "    }\n",
       "</style>\n",
       "<table border=\"1\" class=\"dataframe\">\n",
       "  <thead>\n",
       "    <tr style=\"text-align: right;\">\n",
       "      <th></th>\n",
       "      <th>order_id</th>\n",
       "      <th>user_id</th>\n",
       "      <th>order_number</th>\n",
       "      <th>order_day_of_week</th>\n",
       "      <th>order_hour_of_day</th>\n",
       "      <th>days_since_prior_order</th>\n",
       "    </tr>\n",
       "  </thead>\n",
       "  <tbody>\n",
       "  </tbody>\n",
       "</table>\n",
       "</div>"
      ],
      "text/plain": [
       "Empty DataFrame\n",
       "Columns: [order_id, user_id, order_number, order_day_of_week, order_hour_of_day, days_since_prior_order]\n",
       "Index: []"
      ]
     },
     "execution_count": 39,
     "metadata": {},
     "output_type": "execute_result"
    }
   ],
   "source": [
    "df_dups_ords"
   ]
  },
  {
   "cell_type": "markdown",
   "id": "6da14151",
   "metadata": {},
   "source": [
    "#### No duplicate rows were found within df_ords."
   ]
  },
  {
   "cell_type": "markdown",
   "id": "09dc8de6",
   "metadata": {},
   "source": [
    "## 5. Export 'df_prods_clean_final' and 'df_ords' dataframes"
   ]
  },
  {
   "cell_type": "code",
   "execution_count": null,
   "id": "9923f828",
   "metadata": {},
   "outputs": [],
   "source": [
    "# Export df_prods_clean_final as 'products_clean'\n",
    "df_prods_clean_final.to_csv(os.path.join(path, '02 Data','Prepared Data', 'products_clean.csv'))"
   ]
  },
  {
   "cell_type": "code",
   "execution_count": null,
   "id": "45940200",
   "metadata": {},
   "outputs": [],
   "source": [
    "# Export df_ords as 'orders_clean'\n",
    "df_ords.to_csv(os.path.join(path, '02 Data','Prepared Data', 'orders_clean.csv'))"
   ]
  }
 ],
 "metadata": {
  "kernelspec": {
   "display_name": "Python 3 (ipykernel)",
   "language": "python",
   "name": "python3"
  },
  "language_info": {
   "codemirror_mode": {
    "name": "ipython",
    "version": 3
   },
   "file_extension": ".py",
   "mimetype": "text/x-python",
   "name": "python",
   "nbconvert_exporter": "python",
   "pygments_lexer": "ipython3",
   "version": "3.11.4"
  }
 },
 "nbformat": 4,
 "nbformat_minor": 5
}
