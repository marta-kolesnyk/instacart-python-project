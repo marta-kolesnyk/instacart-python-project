{
 "cells": [
  {
   "cell_type": "markdown",
   "id": "1b8f9f0a",
   "metadata": {},
   "source": [
    "# Importing libraries and Python data types\n",
    "#"
   ]
  },
  {
   "cell_type": "markdown",
   "id": "acb144e7",
   "metadata": {},
   "source": [
    "# List of contents:\n",
    "## 1. Import libraries\n",
    "## 2. Data types\n",
    "#\n",
    "\n"
   ]
  },
  {
   "cell_type": "markdown",
   "id": "d47d5927",
   "metadata": {},
   "source": [
    "## 1. Import libraries"
   ]
  },
  {
   "cell_type": "code",
   "execution_count": 2,
   "id": "eec3b4a2",
   "metadata": {},
   "outputs": [],
   "source": [
    "# Import libraries\n",
    "import pandas as pd\n",
    "import numpy as np\n",
    "import os"
   ]
  },
  {
   "cell_type": "markdown",
   "id": "3eb5488e",
   "metadata": {},
   "source": [
    "## 2. Data types"
   ]
  },
  {
   "cell_type": "markdown",
   "id": "2a63341b",
   "metadata": {},
   "source": [
    "### -- 3 different ways to get 100"
   ]
  },
  {
   "cell_type": "markdown",
   "id": "86491806",
   "metadata": {},
   "source": [
    "### Option 1"
   ]
  },
  {
   "cell_type": "code",
   "execution_count": 34,
   "id": "0aec4281",
   "metadata": {},
   "outputs": [],
   "source": [
    "x = 25"
   ]
  },
  {
   "cell_type": "code",
   "execution_count": 35,
   "id": "e1f46f89",
   "metadata": {},
   "outputs": [],
   "source": [
    "y = 75"
   ]
  },
  {
   "cell_type": "code",
   "execution_count": 36,
   "id": "68d78feb",
   "metadata": {},
   "outputs": [
    {
     "data": {
      "text/plain": [
       "100"
      ]
     },
     "execution_count": 36,
     "metadata": {},
     "output_type": "execute_result"
    }
   ],
   "source": [
    "x + y"
   ]
  },
  {
   "cell_type": "markdown",
   "id": "47952662",
   "metadata": {},
   "source": [
    "### Option 2"
   ]
  },
  {
   "cell_type": "code",
   "execution_count": 37,
   "id": "01642011",
   "metadata": {},
   "outputs": [
    {
     "data": {
      "text/plain": [
       "100"
      ]
     },
     "execution_count": 37,
     "metadata": {},
     "output_type": "execute_result"
    }
   ],
   "source": [
    "x * 4"
   ]
  },
  {
   "cell_type": "markdown",
   "id": "7505123f",
   "metadata": {},
   "source": [
    "### Option 3"
   ]
  },
  {
   "cell_type": "code",
   "execution_count": 38,
   "id": "ceaeb35d",
   "metadata": {},
   "outputs": [],
   "source": [
    "z = 150"
   ]
  },
  {
   "cell_type": "code",
   "execution_count": 39,
   "id": "8db25dfd",
   "metadata": {},
   "outputs": [
    {
     "data": {
      "text/plain": [
       "100"
      ]
     },
     "execution_count": 39,
     "metadata": {},
     "output_type": "execute_result"
    }
   ],
   "source": [
    "z - 2 * x"
   ]
  },
  {
   "cell_type": "markdown",
   "id": "016a2bda",
   "metadata": {},
   "source": [
    "### -- Division of 2 floating-point variables"
   ]
  },
  {
   "cell_type": "code",
   "execution_count": 40,
   "id": "534916eb",
   "metadata": {},
   "outputs": [],
   "source": [
    "a = 15.93"
   ]
  },
  {
   "cell_type": "code",
   "execution_count": 41,
   "id": "62238ab4",
   "metadata": {},
   "outputs": [],
   "source": [
    "b = 3.45"
   ]
  },
  {
   "cell_type": "code",
   "execution_count": 42,
   "id": "7f0700a9",
   "metadata": {},
   "outputs": [
    {
     "data": {
      "text/plain": [
       "0.21657250470809794"
      ]
     },
     "execution_count": 42,
     "metadata": {},
     "output_type": "execute_result"
    }
   ],
   "source": [
    "b / a"
   ]
  },
  {
   "cell_type": "markdown",
   "id": "34ee1bb1",
   "metadata": {},
   "source": [
    "### -- A word made of separate strings"
   ]
  },
  {
   "cell_type": "code",
   "execution_count": 43,
   "id": "c64f9c3b",
   "metadata": {},
   "outputs": [],
   "source": [
    "c = 'butter'"
   ]
  },
  {
   "cell_type": "code",
   "execution_count": 44,
   "id": "65c0b1f3",
   "metadata": {},
   "outputs": [],
   "source": [
    "d = 'fly'"
   ]
  },
  {
   "cell_type": "code",
   "execution_count": 45,
   "id": "04e4f643",
   "metadata": {},
   "outputs": [
    {
     "data": {
      "text/plain": [
       "'butterfly'"
      ]
     },
     "execution_count": 45,
     "metadata": {},
     "output_type": "execute_result"
    }
   ],
   "source": [
    "c + d"
   ]
  },
  {
   "cell_type": "markdown",
   "id": "62e98f67",
   "metadata": {},
   "source": [
    "### -- Two sentences made of separate strings "
   ]
  },
  {
   "cell_type": "code",
   "execution_count": 49,
   "id": "8203c742",
   "metadata": {},
   "outputs": [],
   "source": [
    "e = 'Hello, Python! '"
   ]
  },
  {
   "cell_type": "code",
   "execution_count": 50,
   "id": "8f588add",
   "metadata": {},
   "outputs": [],
   "source": [
    "f = 'Мене звати Марта'"
   ]
  },
  {
   "cell_type": "code",
   "execution_count": 51,
   "id": "8f07ea3b",
   "metadata": {},
   "outputs": [
    {
     "data": {
      "text/plain": [
       "'Hello, Python! Мене звати Марта'"
      ]
     },
     "execution_count": 51,
     "metadata": {},
     "output_type": "execute_result"
    }
   ],
   "source": [
    "e + f"
   ]
  },
  {
   "cell_type": "markdown",
   "id": "530bf973",
   "metadata": {},
   "source": [
    "### -- Bonus Task - Make a string appear 100 times"
   ]
  },
  {
   "cell_type": "code",
   "execution_count": 2,
   "id": "457e4740",
   "metadata": {},
   "outputs": [],
   "source": [
    "g = 'autumn '"
   ]
  },
  {
   "cell_type": "code",
   "execution_count": 3,
   "id": "0ab62b8e",
   "metadata": {},
   "outputs": [
    {
     "data": {
      "text/plain": [
       "'autumn autumn autumn autumn autumn autumn autumn autumn autumn autumn autumn autumn autumn autumn autumn autumn autumn autumn autumn autumn autumn autumn autumn autumn autumn autumn autumn autumn autumn autumn autumn autumn autumn autumn autumn autumn autumn autumn autumn autumn autumn autumn autumn autumn autumn autumn autumn autumn autumn autumn autumn autumn autumn autumn autumn autumn autumn autumn autumn autumn autumn autumn autumn autumn autumn autumn autumn autumn autumn autumn autumn autumn autumn autumn autumn autumn autumn autumn autumn autumn autumn autumn autumn autumn autumn autumn autumn autumn autumn autumn autumn autumn autumn autumn autumn autumn autumn autumn autumn autumn '"
      ]
     },
     "execution_count": 3,
     "metadata": {},
     "output_type": "execute_result"
    }
   ],
   "source": [
    "g * 100"
   ]
  }
 ],
 "metadata": {
  "kernelspec": {
   "display_name": "Python 3 (ipykernel)",
   "language": "python",
   "name": "python3"
  },
  "language_info": {
   "codemirror_mode": {
    "name": "ipython",
    "version": 3
   },
   "file_extension": ".py",
   "mimetype": "text/x-python",
   "name": "python",
   "nbconvert_exporter": "python",
   "pygments_lexer": "ipython3",
   "version": "3.11.4"
  }
 },
 "nbformat": 4,
 "nbformat_minor": 5
}
