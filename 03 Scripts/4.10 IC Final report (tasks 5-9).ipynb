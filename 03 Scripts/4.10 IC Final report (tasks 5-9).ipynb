{
 "cells": [
  {
   "cell_type": "markdown",
   "id": "20b2953e",
   "metadata": {},
   "source": [
    "# 4.10. Final report (tasks 5-9)\n",
    "#"
   ]
  },
  {
   "cell_type": "markdown",
   "id": "8b9ad04e",
   "metadata": {},
   "source": [
    "# List of contents:\n",
    "## 1. Import libraries\n",
    "## 2. Import 'subset_customers_norm_activity' dataset\n",
    "## 3. Merge df_active_customers and df_departments\n",
    "## 4. Create customer profiles:\n",
    "### 4.1. Profiles based on age\n",
    "### 4.2. Profiles based on income\n",
    "### 4.3. Profiles based on family status and number of dependants\n",
    "### 4.4. Profile based on department\n",
    "## 5. Create crosstabs and visualizations\n",
    "## 6. Additional visualization\n",
    "## 7. Export final dataframe\n",
    "#"
   ]
  },
  {
   "cell_type": "markdown",
   "id": "558c6ac2",
   "metadata": {},
   "source": [
    "## 1. Import libraries"
   ]
  },
  {
   "cell_type": "code",
   "execution_count": 1,
   "id": "79ee5046",
   "metadata": {},
   "outputs": [],
   "source": [
    "# Import libraries\n",
    "import pandas as pd\n",
    "import numpy as np\n",
    "import os\n",
    "import seaborn as sns\n",
    "import matplotlib.pyplot as plt\n",
    "import scipy\n",
    "%matplotlib inline"
   ]
  },
  {
   "cell_type": "markdown",
   "id": "763387c1",
   "metadata": {},
   "source": [
    "## 2. Import 'subset_customers_norm_activity' dataset"
   ]
  },
  {
   "cell_type": "code",
   "execution_count": 2,
   "id": "338efbc6",
   "metadata": {},
   "outputs": [],
   "source": [
    "# Create path variable\n",
    "path = r'C:\\Users\\marta\\OneDrive\\Documents\\2023-09-18 Instacart Basket Analysis'"
   ]
  },
  {
   "cell_type": "code",
   "execution_count": 3,
   "id": "2666ba4a",
   "metadata": {},
   "outputs": [],
   "source": [
    "# Import dataset\n",
    "df_active_customers = pd.read_pickle(os.path.join(path, '02 Data', 'Prepared Data', 'subset_customers_norm_activity.pkl'))"
   ]
  },
  {
   "cell_type": "code",
   "execution_count": 4,
   "id": "66c5d180",
   "metadata": {},
   "outputs": [],
   "source": [
    "# Function to display all columns\n",
    "pd.set_option('display.max_columns', None)"
   ]
  },
  {
   "cell_type": "code",
   "execution_count": 5,
   "id": "fd65bcac",
   "metadata": {},
   "outputs": [
    {
     "data": {
      "text/html": [
       "<div>\n",
       "<style scoped>\n",
       "    .dataframe tbody tr th:only-of-type {\n",
       "        vertical-align: middle;\n",
       "    }\n",
       "\n",
       "    .dataframe tbody tr th {\n",
       "        vertical-align: top;\n",
       "    }\n",
       "\n",
       "    .dataframe thead th {\n",
       "        text-align: right;\n",
       "    }\n",
       "</style>\n",
       "<table border=\"1\" class=\"dataframe\">\n",
       "  <thead>\n",
       "    <tr style=\"text-align: right;\">\n",
       "      <th></th>\n",
       "      <th>order_id</th>\n",
       "      <th>user_id</th>\n",
       "      <th>order_number</th>\n",
       "      <th>order_day_of_week</th>\n",
       "      <th>order_hour_of_day</th>\n",
       "      <th>days_since_prior_order</th>\n",
       "      <th>product_id</th>\n",
       "      <th>add_to_cart_order</th>\n",
       "      <th>reordered</th>\n",
       "      <th>product_name</th>\n",
       "      <th>aisle_id</th>\n",
       "      <th>department_id</th>\n",
       "      <th>prices</th>\n",
       "      <th>price_range_loc</th>\n",
       "      <th>busiest_day</th>\n",
       "      <th>busiest_days</th>\n",
       "      <th>busiest_period_of_day</th>\n",
       "      <th>max_order</th>\n",
       "      <th>loyalty_flag</th>\n",
       "      <th>mean_price</th>\n",
       "      <th>spending_flag</th>\n",
       "      <th>median_order_day</th>\n",
       "      <th>order_freq_flag</th>\n",
       "      <th>gender</th>\n",
       "      <th>state</th>\n",
       "      <th>age</th>\n",
       "      <th>date_joined</th>\n",
       "      <th>n_dependants</th>\n",
       "      <th>fam_status</th>\n",
       "      <th>income</th>\n",
       "      <th>regions</th>\n",
       "      <th>user_activity_flag</th>\n",
       "    </tr>\n",
       "  </thead>\n",
       "  <tbody>\n",
       "    <tr>\n",
       "      <th>0</th>\n",
       "      <td>2539329</td>\n",
       "      <td>1</td>\n",
       "      <td>1</td>\n",
       "      <td>2</td>\n",
       "      <td>8</td>\n",
       "      <td>NaN</td>\n",
       "      <td>196</td>\n",
       "      <td>1</td>\n",
       "      <td>0</td>\n",
       "      <td>Soda</td>\n",
       "      <td>77</td>\n",
       "      <td>7</td>\n",
       "      <td>9.0</td>\n",
       "      <td>Mid-range product</td>\n",
       "      <td>Regularly busy</td>\n",
       "      <td>Regularly busy</td>\n",
       "      <td>Average orders</td>\n",
       "      <td>10</td>\n",
       "      <td>New customer</td>\n",
       "      <td>6.367797</td>\n",
       "      <td>Low spender</td>\n",
       "      <td>20.5</td>\n",
       "      <td>Non-frequent customer</td>\n",
       "      <td>Female</td>\n",
       "      <td>Alabama</td>\n",
       "      <td>31</td>\n",
       "      <td>2/17/2019</td>\n",
       "      <td>3</td>\n",
       "      <td>married</td>\n",
       "      <td>40423</td>\n",
       "      <td>South</td>\n",
       "      <td>Normal activity</td>\n",
       "    </tr>\n",
       "    <tr>\n",
       "      <th>1</th>\n",
       "      <td>2398795</td>\n",
       "      <td>1</td>\n",
       "      <td>2</td>\n",
       "      <td>3</td>\n",
       "      <td>7</td>\n",
       "      <td>15.0</td>\n",
       "      <td>196</td>\n",
       "      <td>1</td>\n",
       "      <td>1</td>\n",
       "      <td>Soda</td>\n",
       "      <td>77</td>\n",
       "      <td>7</td>\n",
       "      <td>9.0</td>\n",
       "      <td>Mid-range product</td>\n",
       "      <td>Regularly busy</td>\n",
       "      <td>Least busy</td>\n",
       "      <td>Average orders</td>\n",
       "      <td>10</td>\n",
       "      <td>New customer</td>\n",
       "      <td>6.367797</td>\n",
       "      <td>Low spender</td>\n",
       "      <td>20.5</td>\n",
       "      <td>Non-frequent customer</td>\n",
       "      <td>Female</td>\n",
       "      <td>Alabama</td>\n",
       "      <td>31</td>\n",
       "      <td>2/17/2019</td>\n",
       "      <td>3</td>\n",
       "      <td>married</td>\n",
       "      <td>40423</td>\n",
       "      <td>South</td>\n",
       "      <td>Normal activity</td>\n",
       "    </tr>\n",
       "    <tr>\n",
       "      <th>2</th>\n",
       "      <td>473747</td>\n",
       "      <td>1</td>\n",
       "      <td>3</td>\n",
       "      <td>3</td>\n",
       "      <td>12</td>\n",
       "      <td>21.0</td>\n",
       "      <td>196</td>\n",
       "      <td>1</td>\n",
       "      <td>1</td>\n",
       "      <td>Soda</td>\n",
       "      <td>77</td>\n",
       "      <td>7</td>\n",
       "      <td>9.0</td>\n",
       "      <td>Mid-range product</td>\n",
       "      <td>Regularly busy</td>\n",
       "      <td>Least busy</td>\n",
       "      <td>Most orders</td>\n",
       "      <td>10</td>\n",
       "      <td>New customer</td>\n",
       "      <td>6.367797</td>\n",
       "      <td>Low spender</td>\n",
       "      <td>20.5</td>\n",
       "      <td>Non-frequent customer</td>\n",
       "      <td>Female</td>\n",
       "      <td>Alabama</td>\n",
       "      <td>31</td>\n",
       "      <td>2/17/2019</td>\n",
       "      <td>3</td>\n",
       "      <td>married</td>\n",
       "      <td>40423</td>\n",
       "      <td>South</td>\n",
       "      <td>Normal activity</td>\n",
       "    </tr>\n",
       "    <tr>\n",
       "      <th>3</th>\n",
       "      <td>2254736</td>\n",
       "      <td>1</td>\n",
       "      <td>4</td>\n",
       "      <td>4</td>\n",
       "      <td>7</td>\n",
       "      <td>29.0</td>\n",
       "      <td>196</td>\n",
       "      <td>1</td>\n",
       "      <td>1</td>\n",
       "      <td>Soda</td>\n",
       "      <td>77</td>\n",
       "      <td>7</td>\n",
       "      <td>9.0</td>\n",
       "      <td>Mid-range product</td>\n",
       "      <td>Least busy</td>\n",
       "      <td>Least busy</td>\n",
       "      <td>Average orders</td>\n",
       "      <td>10</td>\n",
       "      <td>New customer</td>\n",
       "      <td>6.367797</td>\n",
       "      <td>Low spender</td>\n",
       "      <td>20.5</td>\n",
       "      <td>Non-frequent customer</td>\n",
       "      <td>Female</td>\n",
       "      <td>Alabama</td>\n",
       "      <td>31</td>\n",
       "      <td>2/17/2019</td>\n",
       "      <td>3</td>\n",
       "      <td>married</td>\n",
       "      <td>40423</td>\n",
       "      <td>South</td>\n",
       "      <td>Normal activity</td>\n",
       "    </tr>\n",
       "    <tr>\n",
       "      <th>4</th>\n",
       "      <td>431534</td>\n",
       "      <td>1</td>\n",
       "      <td>5</td>\n",
       "      <td>4</td>\n",
       "      <td>15</td>\n",
       "      <td>28.0</td>\n",
       "      <td>196</td>\n",
       "      <td>1</td>\n",
       "      <td>1</td>\n",
       "      <td>Soda</td>\n",
       "      <td>77</td>\n",
       "      <td>7</td>\n",
       "      <td>9.0</td>\n",
       "      <td>Mid-range product</td>\n",
       "      <td>Least busy</td>\n",
       "      <td>Least busy</td>\n",
       "      <td>Most orders</td>\n",
       "      <td>10</td>\n",
       "      <td>New customer</td>\n",
       "      <td>6.367797</td>\n",
       "      <td>Low spender</td>\n",
       "      <td>20.5</td>\n",
       "      <td>Non-frequent customer</td>\n",
       "      <td>Female</td>\n",
       "      <td>Alabama</td>\n",
       "      <td>31</td>\n",
       "      <td>2/17/2019</td>\n",
       "      <td>3</td>\n",
       "      <td>married</td>\n",
       "      <td>40423</td>\n",
       "      <td>South</td>\n",
       "      <td>Normal activity</td>\n",
       "    </tr>\n",
       "  </tbody>\n",
       "</table>\n",
       "</div>"
      ],
      "text/plain": [
       "   order_id user_id  order_number  order_day_of_week  order_hour_of_day  \\\n",
       "0   2539329       1             1                  2                  8   \n",
       "1   2398795       1             2                  3                  7   \n",
       "2    473747       1             3                  3                 12   \n",
       "3   2254736       1             4                  4                  7   \n",
       "4    431534       1             5                  4                 15   \n",
       "\n",
       "   days_since_prior_order  product_id  add_to_cart_order  reordered  \\\n",
       "0                     NaN         196                  1          0   \n",
       "1                    15.0         196                  1          1   \n",
       "2                    21.0         196                  1          1   \n",
       "3                    29.0         196                  1          1   \n",
       "4                    28.0         196                  1          1   \n",
       "\n",
       "  product_name  aisle_id  department_id  prices    price_range_loc  \\\n",
       "0         Soda        77              7     9.0  Mid-range product   \n",
       "1         Soda        77              7     9.0  Mid-range product   \n",
       "2         Soda        77              7     9.0  Mid-range product   \n",
       "3         Soda        77              7     9.0  Mid-range product   \n",
       "4         Soda        77              7     9.0  Mid-range product   \n",
       "\n",
       "      busiest_day    busiest_days busiest_period_of_day  max_order  \\\n",
       "0  Regularly busy  Regularly busy        Average orders         10   \n",
       "1  Regularly busy      Least busy        Average orders         10   \n",
       "2  Regularly busy      Least busy           Most orders         10   \n",
       "3      Least busy      Least busy        Average orders         10   \n",
       "4      Least busy      Least busy           Most orders         10   \n",
       "\n",
       "   loyalty_flag  mean_price spending_flag  median_order_day  \\\n",
       "0  New customer    6.367797   Low spender              20.5   \n",
       "1  New customer    6.367797   Low spender              20.5   \n",
       "2  New customer    6.367797   Low spender              20.5   \n",
       "3  New customer    6.367797   Low spender              20.5   \n",
       "4  New customer    6.367797   Low spender              20.5   \n",
       "\n",
       "         order_freq_flag  gender    state  age date_joined  n_dependants  \\\n",
       "0  Non-frequent customer  Female  Alabama   31   2/17/2019             3   \n",
       "1  Non-frequent customer  Female  Alabama   31   2/17/2019             3   \n",
       "2  Non-frequent customer  Female  Alabama   31   2/17/2019             3   \n",
       "3  Non-frequent customer  Female  Alabama   31   2/17/2019             3   \n",
       "4  Non-frequent customer  Female  Alabama   31   2/17/2019             3   \n",
       "\n",
       "  fam_status  income regions user_activity_flag  \n",
       "0    married   40423   South    Normal activity  \n",
       "1    married   40423   South    Normal activity  \n",
       "2    married   40423   South    Normal activity  \n",
       "3    married   40423   South    Normal activity  \n",
       "4    married   40423   South    Normal activity  "
      ]
     },
     "execution_count": 5,
     "metadata": {},
     "output_type": "execute_result"
    }
   ],
   "source": [
    "# Check output\n",
    "df_active_customers.head()"
   ]
  },
  {
   "cell_type": "code",
   "execution_count": 6,
   "id": "d34dc2e8",
   "metadata": {},
   "outputs": [
    {
     "data": {
      "text/plain": [
       "(30959687, 32)"
      ]
     },
     "execution_count": 6,
     "metadata": {},
     "output_type": "execute_result"
    }
   ],
   "source": [
    "# Check dimensions\n",
    "df_active_customers.shape"
   ]
  },
  {
   "cell_type": "markdown",
   "id": "a5f44737",
   "metadata": {},
   "source": [
    "## 3. Merge df_active_customers and df_departments\n"
   ]
  },
  {
   "cell_type": "code",
   "execution_count": 7,
   "id": "777aa09a",
   "metadata": {},
   "outputs": [],
   "source": [
    "# Import 'departments_wrangled' dataset\n",
    "df_departments = pd.read_csv(os.path.join(path, '02 Data', 'Prepared Data', 'departments_wrangled.csv'))"
   ]
  },
  {
   "cell_type": "code",
   "execution_count": 8,
   "id": "e017cefb",
   "metadata": {},
   "outputs": [
    {
     "data": {
      "text/html": [
       "<div>\n",
       "<style scoped>\n",
       "    .dataframe tbody tr th:only-of-type {\n",
       "        vertical-align: middle;\n",
       "    }\n",
       "\n",
       "    .dataframe tbody tr th {\n",
       "        vertical-align: top;\n",
       "    }\n",
       "\n",
       "    .dataframe thead th {\n",
       "        text-align: right;\n",
       "    }\n",
       "</style>\n",
       "<table border=\"1\" class=\"dataframe\">\n",
       "  <thead>\n",
       "    <tr style=\"text-align: right;\">\n",
       "      <th></th>\n",
       "      <th>Unnamed: 0</th>\n",
       "      <th>department</th>\n",
       "    </tr>\n",
       "  </thead>\n",
       "  <tbody>\n",
       "    <tr>\n",
       "      <th>0</th>\n",
       "      <td>1</td>\n",
       "      <td>frozen</td>\n",
       "    </tr>\n",
       "    <tr>\n",
       "      <th>1</th>\n",
       "      <td>2</td>\n",
       "      <td>other</td>\n",
       "    </tr>\n",
       "    <tr>\n",
       "      <th>2</th>\n",
       "      <td>3</td>\n",
       "      <td>bakery</td>\n",
       "    </tr>\n",
       "    <tr>\n",
       "      <th>3</th>\n",
       "      <td>4</td>\n",
       "      <td>produce</td>\n",
       "    </tr>\n",
       "    <tr>\n",
       "      <th>4</th>\n",
       "      <td>5</td>\n",
       "      <td>alcohol</td>\n",
       "    </tr>\n",
       "    <tr>\n",
       "      <th>5</th>\n",
       "      <td>6</td>\n",
       "      <td>international</td>\n",
       "    </tr>\n",
       "    <tr>\n",
       "      <th>6</th>\n",
       "      <td>7</td>\n",
       "      <td>beverages</td>\n",
       "    </tr>\n",
       "    <tr>\n",
       "      <th>7</th>\n",
       "      <td>8</td>\n",
       "      <td>pets</td>\n",
       "    </tr>\n",
       "    <tr>\n",
       "      <th>8</th>\n",
       "      <td>9</td>\n",
       "      <td>dry goods pasta</td>\n",
       "    </tr>\n",
       "    <tr>\n",
       "      <th>9</th>\n",
       "      <td>10</td>\n",
       "      <td>bulk</td>\n",
       "    </tr>\n",
       "    <tr>\n",
       "      <th>10</th>\n",
       "      <td>11</td>\n",
       "      <td>personal care</td>\n",
       "    </tr>\n",
       "    <tr>\n",
       "      <th>11</th>\n",
       "      <td>12</td>\n",
       "      <td>meat seafood</td>\n",
       "    </tr>\n",
       "    <tr>\n",
       "      <th>12</th>\n",
       "      <td>13</td>\n",
       "      <td>pantry</td>\n",
       "    </tr>\n",
       "    <tr>\n",
       "      <th>13</th>\n",
       "      <td>14</td>\n",
       "      <td>breakfast</td>\n",
       "    </tr>\n",
       "    <tr>\n",
       "      <th>14</th>\n",
       "      <td>15</td>\n",
       "      <td>canned goods</td>\n",
       "    </tr>\n",
       "    <tr>\n",
       "      <th>15</th>\n",
       "      <td>16</td>\n",
       "      <td>dairy eggs</td>\n",
       "    </tr>\n",
       "    <tr>\n",
       "      <th>16</th>\n",
       "      <td>17</td>\n",
       "      <td>household</td>\n",
       "    </tr>\n",
       "    <tr>\n",
       "      <th>17</th>\n",
       "      <td>18</td>\n",
       "      <td>babies</td>\n",
       "    </tr>\n",
       "    <tr>\n",
       "      <th>18</th>\n",
       "      <td>19</td>\n",
       "      <td>snacks</td>\n",
       "    </tr>\n",
       "    <tr>\n",
       "      <th>19</th>\n",
       "      <td>20</td>\n",
       "      <td>deli</td>\n",
       "    </tr>\n",
       "    <tr>\n",
       "      <th>20</th>\n",
       "      <td>21</td>\n",
       "      <td>missing</td>\n",
       "    </tr>\n",
       "  </tbody>\n",
       "</table>\n",
       "</div>"
      ],
      "text/plain": [
       "    Unnamed: 0       department\n",
       "0            1           frozen\n",
       "1            2            other\n",
       "2            3           bakery\n",
       "3            4          produce\n",
       "4            5          alcohol\n",
       "5            6    international\n",
       "6            7        beverages\n",
       "7            8             pets\n",
       "8            9  dry goods pasta\n",
       "9           10             bulk\n",
       "10          11    personal care\n",
       "11          12     meat seafood\n",
       "12          13           pantry\n",
       "13          14        breakfast\n",
       "14          15     canned goods\n",
       "15          16       dairy eggs\n",
       "16          17        household\n",
       "17          18           babies\n",
       "18          19           snacks\n",
       "19          20             deli\n",
       "20          21          missing"
      ]
     },
     "execution_count": 8,
     "metadata": {},
     "output_type": "execute_result"
    }
   ],
   "source": [
    "# Check output\n",
    "df_departments"
   ]
  },
  {
   "cell_type": "code",
   "execution_count": 9,
   "id": "a83809ff",
   "metadata": {},
   "outputs": [],
   "source": [
    "# Change 'Unnamed:0' column name to 'department_id'\n",
    "df_departments.rename(columns = {'Unnamed: 0' : 'department_id'}, inplace = True)"
   ]
  },
  {
   "cell_type": "code",
   "execution_count": 10,
   "id": "b1bd9e93",
   "metadata": {},
   "outputs": [
    {
     "data": {
      "text/html": [
       "<div>\n",
       "<style scoped>\n",
       "    .dataframe tbody tr th:only-of-type {\n",
       "        vertical-align: middle;\n",
       "    }\n",
       "\n",
       "    .dataframe tbody tr th {\n",
       "        vertical-align: top;\n",
       "    }\n",
       "\n",
       "    .dataframe thead th {\n",
       "        text-align: right;\n",
       "    }\n",
       "</style>\n",
       "<table border=\"1\" class=\"dataframe\">\n",
       "  <thead>\n",
       "    <tr style=\"text-align: right;\">\n",
       "      <th></th>\n",
       "      <th>department_id</th>\n",
       "      <th>department</th>\n",
       "    </tr>\n",
       "  </thead>\n",
       "  <tbody>\n",
       "    <tr>\n",
       "      <th>0</th>\n",
       "      <td>1</td>\n",
       "      <td>frozen</td>\n",
       "    </tr>\n",
       "    <tr>\n",
       "      <th>1</th>\n",
       "      <td>2</td>\n",
       "      <td>other</td>\n",
       "    </tr>\n",
       "    <tr>\n",
       "      <th>2</th>\n",
       "      <td>3</td>\n",
       "      <td>bakery</td>\n",
       "    </tr>\n",
       "    <tr>\n",
       "      <th>3</th>\n",
       "      <td>4</td>\n",
       "      <td>produce</td>\n",
       "    </tr>\n",
       "    <tr>\n",
       "      <th>4</th>\n",
       "      <td>5</td>\n",
       "      <td>alcohol</td>\n",
       "    </tr>\n",
       "  </tbody>\n",
       "</table>\n",
       "</div>"
      ],
      "text/plain": [
       "   department_id department\n",
       "0              1     frozen\n",
       "1              2      other\n",
       "2              3     bakery\n",
       "3              4    produce\n",
       "4              5    alcohol"
      ]
     },
     "execution_count": 10,
     "metadata": {},
     "output_type": "execute_result"
    }
   ],
   "source": [
    "# Check the output\n",
    "df_departments.head()"
   ]
  },
  {
   "cell_type": "code",
   "execution_count": 11,
   "id": "e2ad1255",
   "metadata": {},
   "outputs": [],
   "source": [
    "# Merge df_active_customers and df_departments on a key column 'department_id'\n",
    "active_customers_departs = df_active_customers.merge(df_departments, on = 'department_id')"
   ]
  },
  {
   "cell_type": "code",
   "execution_count": 12,
   "id": "68f2df15",
   "metadata": {},
   "outputs": [
    {
     "data": {
      "text/html": [
       "<div>\n",
       "<style scoped>\n",
       "    .dataframe tbody tr th:only-of-type {\n",
       "        vertical-align: middle;\n",
       "    }\n",
       "\n",
       "    .dataframe tbody tr th {\n",
       "        vertical-align: top;\n",
       "    }\n",
       "\n",
       "    .dataframe thead th {\n",
       "        text-align: right;\n",
       "    }\n",
       "</style>\n",
       "<table border=\"1\" class=\"dataframe\">\n",
       "  <thead>\n",
       "    <tr style=\"text-align: right;\">\n",
       "      <th></th>\n",
       "      <th>order_id</th>\n",
       "      <th>user_id</th>\n",
       "      <th>order_number</th>\n",
       "      <th>order_day_of_week</th>\n",
       "      <th>order_hour_of_day</th>\n",
       "      <th>days_since_prior_order</th>\n",
       "      <th>product_id</th>\n",
       "      <th>add_to_cart_order</th>\n",
       "      <th>reordered</th>\n",
       "      <th>product_name</th>\n",
       "      <th>aisle_id</th>\n",
       "      <th>department_id</th>\n",
       "      <th>prices</th>\n",
       "      <th>price_range_loc</th>\n",
       "      <th>busiest_day</th>\n",
       "      <th>busiest_days</th>\n",
       "      <th>busiest_period_of_day</th>\n",
       "      <th>max_order</th>\n",
       "      <th>loyalty_flag</th>\n",
       "      <th>mean_price</th>\n",
       "      <th>spending_flag</th>\n",
       "      <th>median_order_day</th>\n",
       "      <th>order_freq_flag</th>\n",
       "      <th>gender</th>\n",
       "      <th>state</th>\n",
       "      <th>age</th>\n",
       "      <th>date_joined</th>\n",
       "      <th>n_dependants</th>\n",
       "      <th>fam_status</th>\n",
       "      <th>income</th>\n",
       "      <th>regions</th>\n",
       "      <th>user_activity_flag</th>\n",
       "      <th>department</th>\n",
       "    </tr>\n",
       "  </thead>\n",
       "  <tbody>\n",
       "    <tr>\n",
       "      <th>0</th>\n",
       "      <td>2539329</td>\n",
       "      <td>1</td>\n",
       "      <td>1</td>\n",
       "      <td>2</td>\n",
       "      <td>8</td>\n",
       "      <td>NaN</td>\n",
       "      <td>196</td>\n",
       "      <td>1</td>\n",
       "      <td>0</td>\n",
       "      <td>Soda</td>\n",
       "      <td>77</td>\n",
       "      <td>7</td>\n",
       "      <td>9.0</td>\n",
       "      <td>Mid-range product</td>\n",
       "      <td>Regularly busy</td>\n",
       "      <td>Regularly busy</td>\n",
       "      <td>Average orders</td>\n",
       "      <td>10</td>\n",
       "      <td>New customer</td>\n",
       "      <td>6.367797</td>\n",
       "      <td>Low spender</td>\n",
       "      <td>20.5</td>\n",
       "      <td>Non-frequent customer</td>\n",
       "      <td>Female</td>\n",
       "      <td>Alabama</td>\n",
       "      <td>31</td>\n",
       "      <td>2/17/2019</td>\n",
       "      <td>3</td>\n",
       "      <td>married</td>\n",
       "      <td>40423</td>\n",
       "      <td>South</td>\n",
       "      <td>Normal activity</td>\n",
       "      <td>beverages</td>\n",
       "    </tr>\n",
       "    <tr>\n",
       "      <th>1</th>\n",
       "      <td>2398795</td>\n",
       "      <td>1</td>\n",
       "      <td>2</td>\n",
       "      <td>3</td>\n",
       "      <td>7</td>\n",
       "      <td>15.0</td>\n",
       "      <td>196</td>\n",
       "      <td>1</td>\n",
       "      <td>1</td>\n",
       "      <td>Soda</td>\n",
       "      <td>77</td>\n",
       "      <td>7</td>\n",
       "      <td>9.0</td>\n",
       "      <td>Mid-range product</td>\n",
       "      <td>Regularly busy</td>\n",
       "      <td>Least busy</td>\n",
       "      <td>Average orders</td>\n",
       "      <td>10</td>\n",
       "      <td>New customer</td>\n",
       "      <td>6.367797</td>\n",
       "      <td>Low spender</td>\n",
       "      <td>20.5</td>\n",
       "      <td>Non-frequent customer</td>\n",
       "      <td>Female</td>\n",
       "      <td>Alabama</td>\n",
       "      <td>31</td>\n",
       "      <td>2/17/2019</td>\n",
       "      <td>3</td>\n",
       "      <td>married</td>\n",
       "      <td>40423</td>\n",
       "      <td>South</td>\n",
       "      <td>Normal activity</td>\n",
       "      <td>beverages</td>\n",
       "    </tr>\n",
       "    <tr>\n",
       "      <th>2</th>\n",
       "      <td>473747</td>\n",
       "      <td>1</td>\n",
       "      <td>3</td>\n",
       "      <td>3</td>\n",
       "      <td>12</td>\n",
       "      <td>21.0</td>\n",
       "      <td>196</td>\n",
       "      <td>1</td>\n",
       "      <td>1</td>\n",
       "      <td>Soda</td>\n",
       "      <td>77</td>\n",
       "      <td>7</td>\n",
       "      <td>9.0</td>\n",
       "      <td>Mid-range product</td>\n",
       "      <td>Regularly busy</td>\n",
       "      <td>Least busy</td>\n",
       "      <td>Most orders</td>\n",
       "      <td>10</td>\n",
       "      <td>New customer</td>\n",
       "      <td>6.367797</td>\n",
       "      <td>Low spender</td>\n",
       "      <td>20.5</td>\n",
       "      <td>Non-frequent customer</td>\n",
       "      <td>Female</td>\n",
       "      <td>Alabama</td>\n",
       "      <td>31</td>\n",
       "      <td>2/17/2019</td>\n",
       "      <td>3</td>\n",
       "      <td>married</td>\n",
       "      <td>40423</td>\n",
       "      <td>South</td>\n",
       "      <td>Normal activity</td>\n",
       "      <td>beverages</td>\n",
       "    </tr>\n",
       "    <tr>\n",
       "      <th>3</th>\n",
       "      <td>2254736</td>\n",
       "      <td>1</td>\n",
       "      <td>4</td>\n",
       "      <td>4</td>\n",
       "      <td>7</td>\n",
       "      <td>29.0</td>\n",
       "      <td>196</td>\n",
       "      <td>1</td>\n",
       "      <td>1</td>\n",
       "      <td>Soda</td>\n",
       "      <td>77</td>\n",
       "      <td>7</td>\n",
       "      <td>9.0</td>\n",
       "      <td>Mid-range product</td>\n",
       "      <td>Least busy</td>\n",
       "      <td>Least busy</td>\n",
       "      <td>Average orders</td>\n",
       "      <td>10</td>\n",
       "      <td>New customer</td>\n",
       "      <td>6.367797</td>\n",
       "      <td>Low spender</td>\n",
       "      <td>20.5</td>\n",
       "      <td>Non-frequent customer</td>\n",
       "      <td>Female</td>\n",
       "      <td>Alabama</td>\n",
       "      <td>31</td>\n",
       "      <td>2/17/2019</td>\n",
       "      <td>3</td>\n",
       "      <td>married</td>\n",
       "      <td>40423</td>\n",
       "      <td>South</td>\n",
       "      <td>Normal activity</td>\n",
       "      <td>beverages</td>\n",
       "    </tr>\n",
       "    <tr>\n",
       "      <th>4</th>\n",
       "      <td>431534</td>\n",
       "      <td>1</td>\n",
       "      <td>5</td>\n",
       "      <td>4</td>\n",
       "      <td>15</td>\n",
       "      <td>28.0</td>\n",
       "      <td>196</td>\n",
       "      <td>1</td>\n",
       "      <td>1</td>\n",
       "      <td>Soda</td>\n",
       "      <td>77</td>\n",
       "      <td>7</td>\n",
       "      <td>9.0</td>\n",
       "      <td>Mid-range product</td>\n",
       "      <td>Least busy</td>\n",
       "      <td>Least busy</td>\n",
       "      <td>Most orders</td>\n",
       "      <td>10</td>\n",
       "      <td>New customer</td>\n",
       "      <td>6.367797</td>\n",
       "      <td>Low spender</td>\n",
       "      <td>20.5</td>\n",
       "      <td>Non-frequent customer</td>\n",
       "      <td>Female</td>\n",
       "      <td>Alabama</td>\n",
       "      <td>31</td>\n",
       "      <td>2/17/2019</td>\n",
       "      <td>3</td>\n",
       "      <td>married</td>\n",
       "      <td>40423</td>\n",
       "      <td>South</td>\n",
       "      <td>Normal activity</td>\n",
       "      <td>beverages</td>\n",
       "    </tr>\n",
       "  </tbody>\n",
       "</table>\n",
       "</div>"
      ],
      "text/plain": [
       "   order_id user_id  order_number  order_day_of_week  order_hour_of_day  \\\n",
       "0   2539329       1             1                  2                  8   \n",
       "1   2398795       1             2                  3                  7   \n",
       "2    473747       1             3                  3                 12   \n",
       "3   2254736       1             4                  4                  7   \n",
       "4    431534       1             5                  4                 15   \n",
       "\n",
       "   days_since_prior_order  product_id  add_to_cart_order  reordered  \\\n",
       "0                     NaN         196                  1          0   \n",
       "1                    15.0         196                  1          1   \n",
       "2                    21.0         196                  1          1   \n",
       "3                    29.0         196                  1          1   \n",
       "4                    28.0         196                  1          1   \n",
       "\n",
       "  product_name  aisle_id  department_id  prices    price_range_loc  \\\n",
       "0         Soda        77              7     9.0  Mid-range product   \n",
       "1         Soda        77              7     9.0  Mid-range product   \n",
       "2         Soda        77              7     9.0  Mid-range product   \n",
       "3         Soda        77              7     9.0  Mid-range product   \n",
       "4         Soda        77              7     9.0  Mid-range product   \n",
       "\n",
       "      busiest_day    busiest_days busiest_period_of_day  max_order  \\\n",
       "0  Regularly busy  Regularly busy        Average orders         10   \n",
       "1  Regularly busy      Least busy        Average orders         10   \n",
       "2  Regularly busy      Least busy           Most orders         10   \n",
       "3      Least busy      Least busy        Average orders         10   \n",
       "4      Least busy      Least busy           Most orders         10   \n",
       "\n",
       "   loyalty_flag  mean_price spending_flag  median_order_day  \\\n",
       "0  New customer    6.367797   Low spender              20.5   \n",
       "1  New customer    6.367797   Low spender              20.5   \n",
       "2  New customer    6.367797   Low spender              20.5   \n",
       "3  New customer    6.367797   Low spender              20.5   \n",
       "4  New customer    6.367797   Low spender              20.5   \n",
       "\n",
       "         order_freq_flag  gender    state  age date_joined  n_dependants  \\\n",
       "0  Non-frequent customer  Female  Alabama   31   2/17/2019             3   \n",
       "1  Non-frequent customer  Female  Alabama   31   2/17/2019             3   \n",
       "2  Non-frequent customer  Female  Alabama   31   2/17/2019             3   \n",
       "3  Non-frequent customer  Female  Alabama   31   2/17/2019             3   \n",
       "4  Non-frequent customer  Female  Alabama   31   2/17/2019             3   \n",
       "\n",
       "  fam_status  income regions user_activity_flag department  \n",
       "0    married   40423   South    Normal activity  beverages  \n",
       "1    married   40423   South    Normal activity  beverages  \n",
       "2    married   40423   South    Normal activity  beverages  \n",
       "3    married   40423   South    Normal activity  beverages  \n",
       "4    married   40423   South    Normal activity  beverages  "
      ]
     },
     "execution_count": 12,
     "metadata": {},
     "output_type": "execute_result"
    }
   ],
   "source": [
    "# Check the output\n",
    "active_customers_departs.head()"
   ]
  },
  {
   "cell_type": "code",
   "execution_count": 13,
   "id": "5d6ddf68",
   "metadata": {},
   "outputs": [
    {
     "data": {
      "text/plain": [
       "(30959687, 33)"
      ]
     },
     "execution_count": 13,
     "metadata": {},
     "output_type": "execute_result"
    }
   ],
   "source": [
    "# Check dimensions\n",
    "active_customers_departs.shape"
   ]
  },
  {
   "cell_type": "code",
   "execution_count": 14,
   "id": "34cb8e74",
   "metadata": {},
   "outputs": [],
   "source": [
    "# Export merged dataframe as 'active_customers_departments_merged.pkl'\n",
    "active_customers_departs.to_pickle(os.path.join(path, '02 Data', 'Prepared Data', 'active_customers_departments_merged.pkl' ))"
   ]
  },
  {
   "cell_type": "markdown",
   "id": "82812224",
   "metadata": {},
   "source": [
    "## 4. Create customer profiles:"
   ]
  },
  {
   "cell_type": "markdown",
   "id": "fcae0ad6",
   "metadata": {},
   "source": [
    "### -- Import 'active_customers_departments_merged.pkl' dataset"
   ]
  },
  {
   "cell_type": "code",
   "execution_count": 15,
   "id": "85cf584f",
   "metadata": {},
   "outputs": [],
   "source": [
    "# Import 'active_customers_departments_merged.pkl' \n",
    "active_customers_departs = pd.read_pickle(os.path.join(path, '02 Data', 'Prepared Data', 'active_customers_departments_merged.pkl'))"
   ]
  },
  {
   "cell_type": "code",
   "execution_count": 16,
   "id": "44e7913c",
   "metadata": {},
   "outputs": [
    {
     "data": {
      "text/html": [
       "<div>\n",
       "<style scoped>\n",
       "    .dataframe tbody tr th:only-of-type {\n",
       "        vertical-align: middle;\n",
       "    }\n",
       "\n",
       "    .dataframe tbody tr th {\n",
       "        vertical-align: top;\n",
       "    }\n",
       "\n",
       "    .dataframe thead th {\n",
       "        text-align: right;\n",
       "    }\n",
       "</style>\n",
       "<table border=\"1\" class=\"dataframe\">\n",
       "  <thead>\n",
       "    <tr style=\"text-align: right;\">\n",
       "      <th></th>\n",
       "      <th>order_id</th>\n",
       "      <th>user_id</th>\n",
       "      <th>order_number</th>\n",
       "      <th>order_day_of_week</th>\n",
       "      <th>order_hour_of_day</th>\n",
       "      <th>days_since_prior_order</th>\n",
       "      <th>product_id</th>\n",
       "      <th>add_to_cart_order</th>\n",
       "      <th>reordered</th>\n",
       "      <th>product_name</th>\n",
       "      <th>aisle_id</th>\n",
       "      <th>department_id</th>\n",
       "      <th>prices</th>\n",
       "      <th>price_range_loc</th>\n",
       "      <th>busiest_day</th>\n",
       "      <th>busiest_days</th>\n",
       "      <th>busiest_period_of_day</th>\n",
       "      <th>max_order</th>\n",
       "      <th>loyalty_flag</th>\n",
       "      <th>mean_price</th>\n",
       "      <th>spending_flag</th>\n",
       "      <th>median_order_day</th>\n",
       "      <th>order_freq_flag</th>\n",
       "      <th>gender</th>\n",
       "      <th>state</th>\n",
       "      <th>age</th>\n",
       "      <th>date_joined</th>\n",
       "      <th>n_dependants</th>\n",
       "      <th>fam_status</th>\n",
       "      <th>income</th>\n",
       "      <th>regions</th>\n",
       "      <th>user_activity_flag</th>\n",
       "      <th>department</th>\n",
       "    </tr>\n",
       "  </thead>\n",
       "  <tbody>\n",
       "    <tr>\n",
       "      <th>0</th>\n",
       "      <td>2539329</td>\n",
       "      <td>1</td>\n",
       "      <td>1</td>\n",
       "      <td>2</td>\n",
       "      <td>8</td>\n",
       "      <td>NaN</td>\n",
       "      <td>196</td>\n",
       "      <td>1</td>\n",
       "      <td>0</td>\n",
       "      <td>Soda</td>\n",
       "      <td>77</td>\n",
       "      <td>7</td>\n",
       "      <td>9.0</td>\n",
       "      <td>Mid-range product</td>\n",
       "      <td>Regularly busy</td>\n",
       "      <td>Regularly busy</td>\n",
       "      <td>Average orders</td>\n",
       "      <td>10</td>\n",
       "      <td>New customer</td>\n",
       "      <td>6.367797</td>\n",
       "      <td>Low spender</td>\n",
       "      <td>20.5</td>\n",
       "      <td>Non-frequent customer</td>\n",
       "      <td>Female</td>\n",
       "      <td>Alabama</td>\n",
       "      <td>31</td>\n",
       "      <td>2/17/2019</td>\n",
       "      <td>3</td>\n",
       "      <td>married</td>\n",
       "      <td>40423</td>\n",
       "      <td>South</td>\n",
       "      <td>Normal activity</td>\n",
       "      <td>beverages</td>\n",
       "    </tr>\n",
       "    <tr>\n",
       "      <th>1</th>\n",
       "      <td>2398795</td>\n",
       "      <td>1</td>\n",
       "      <td>2</td>\n",
       "      <td>3</td>\n",
       "      <td>7</td>\n",
       "      <td>15.0</td>\n",
       "      <td>196</td>\n",
       "      <td>1</td>\n",
       "      <td>1</td>\n",
       "      <td>Soda</td>\n",
       "      <td>77</td>\n",
       "      <td>7</td>\n",
       "      <td>9.0</td>\n",
       "      <td>Mid-range product</td>\n",
       "      <td>Regularly busy</td>\n",
       "      <td>Least busy</td>\n",
       "      <td>Average orders</td>\n",
       "      <td>10</td>\n",
       "      <td>New customer</td>\n",
       "      <td>6.367797</td>\n",
       "      <td>Low spender</td>\n",
       "      <td>20.5</td>\n",
       "      <td>Non-frequent customer</td>\n",
       "      <td>Female</td>\n",
       "      <td>Alabama</td>\n",
       "      <td>31</td>\n",
       "      <td>2/17/2019</td>\n",
       "      <td>3</td>\n",
       "      <td>married</td>\n",
       "      <td>40423</td>\n",
       "      <td>South</td>\n",
       "      <td>Normal activity</td>\n",
       "      <td>beverages</td>\n",
       "    </tr>\n",
       "    <tr>\n",
       "      <th>2</th>\n",
       "      <td>473747</td>\n",
       "      <td>1</td>\n",
       "      <td>3</td>\n",
       "      <td>3</td>\n",
       "      <td>12</td>\n",
       "      <td>21.0</td>\n",
       "      <td>196</td>\n",
       "      <td>1</td>\n",
       "      <td>1</td>\n",
       "      <td>Soda</td>\n",
       "      <td>77</td>\n",
       "      <td>7</td>\n",
       "      <td>9.0</td>\n",
       "      <td>Mid-range product</td>\n",
       "      <td>Regularly busy</td>\n",
       "      <td>Least busy</td>\n",
       "      <td>Most orders</td>\n",
       "      <td>10</td>\n",
       "      <td>New customer</td>\n",
       "      <td>6.367797</td>\n",
       "      <td>Low spender</td>\n",
       "      <td>20.5</td>\n",
       "      <td>Non-frequent customer</td>\n",
       "      <td>Female</td>\n",
       "      <td>Alabama</td>\n",
       "      <td>31</td>\n",
       "      <td>2/17/2019</td>\n",
       "      <td>3</td>\n",
       "      <td>married</td>\n",
       "      <td>40423</td>\n",
       "      <td>South</td>\n",
       "      <td>Normal activity</td>\n",
       "      <td>beverages</td>\n",
       "    </tr>\n",
       "  </tbody>\n",
       "</table>\n",
       "</div>"
      ],
      "text/plain": [
       "   order_id user_id  order_number  order_day_of_week  order_hour_of_day  \\\n",
       "0   2539329       1             1                  2                  8   \n",
       "1   2398795       1             2                  3                  7   \n",
       "2    473747       1             3                  3                 12   \n",
       "\n",
       "   days_since_prior_order  product_id  add_to_cart_order  reordered  \\\n",
       "0                     NaN         196                  1          0   \n",
       "1                    15.0         196                  1          1   \n",
       "2                    21.0         196                  1          1   \n",
       "\n",
       "  product_name  aisle_id  department_id  prices    price_range_loc  \\\n",
       "0         Soda        77              7     9.0  Mid-range product   \n",
       "1         Soda        77              7     9.0  Mid-range product   \n",
       "2         Soda        77              7     9.0  Mid-range product   \n",
       "\n",
       "      busiest_day    busiest_days busiest_period_of_day  max_order  \\\n",
       "0  Regularly busy  Regularly busy        Average orders         10   \n",
       "1  Regularly busy      Least busy        Average orders         10   \n",
       "2  Regularly busy      Least busy           Most orders         10   \n",
       "\n",
       "   loyalty_flag  mean_price spending_flag  median_order_day  \\\n",
       "0  New customer    6.367797   Low spender              20.5   \n",
       "1  New customer    6.367797   Low spender              20.5   \n",
       "2  New customer    6.367797   Low spender              20.5   \n",
       "\n",
       "         order_freq_flag  gender    state  age date_joined  n_dependants  \\\n",
       "0  Non-frequent customer  Female  Alabama   31   2/17/2019             3   \n",
       "1  Non-frequent customer  Female  Alabama   31   2/17/2019             3   \n",
       "2  Non-frequent customer  Female  Alabama   31   2/17/2019             3   \n",
       "\n",
       "  fam_status  income regions user_activity_flag department  \n",
       "0    married   40423   South    Normal activity  beverages  \n",
       "1    married   40423   South    Normal activity  beverages  \n",
       "2    married   40423   South    Normal activity  beverages  "
      ]
     },
     "execution_count": 16,
     "metadata": {},
     "output_type": "execute_result"
    }
   ],
   "source": [
    "# Check the output\n",
    "active_customers_departs.head(3)"
   ]
  },
  {
   "cell_type": "code",
   "execution_count": 17,
   "id": "b971db65",
   "metadata": {},
   "outputs": [
    {
     "data": {
      "text/plain": [
       "(30959687, 33)"
      ]
     },
     "execution_count": 17,
     "metadata": {},
     "output_type": "execute_result"
    }
   ],
   "source": [
    "# Check dimensions\n",
    "active_customers_departs.shape"
   ]
  },
  {
   "cell_type": "markdown",
   "id": "b79588d0",
   "metadata": {},
   "source": [
    "### 4.1. Profiles based on age"
   ]
  },
  {
   "cell_type": "code",
   "execution_count": 18,
   "id": "1ce3af80",
   "metadata": {},
   "outputs": [
    {
     "data": {
      "text/plain": [
       "count    3.095969e+07\n",
       "mean     4.946803e+01\n",
       "std      1.848527e+01\n",
       "min      1.800000e+01\n",
       "25%      3.300000e+01\n",
       "50%      4.900000e+01\n",
       "75%      6.500000e+01\n",
       "max      8.100000e+01\n",
       "Name: age, dtype: float64"
      ]
     },
     "execution_count": 18,
     "metadata": {},
     "output_type": "execute_result"
    }
   ],
   "source": [
    "# Descriptive statistics for 'age' column \n",
    "active_customers_departs['age'].describe()"
   ]
  },
  {
   "cell_type": "markdown",
   "id": "541e4c42",
   "metadata": {},
   "source": [
    "##### Min age is 18 years, max age - 81 years, average age - 49 years. Based on this, I decided to create next age groups:<br> \n",
    "- 18-29 years old,\n",
    "- 30-49 years old,\n",
    "- 50-64 years old,\n",
    "- 65-81 years old."
   ]
  },
  {
   "cell_type": "code",
   "execution_count": 19,
   "id": "645f8e9c",
   "metadata": {},
   "outputs": [],
   "source": [
    "# Create a flag for 18-29 years old\n",
    "active_customers_departs.loc[(active_customers_departs['age'] >=18) & (active_customers_departs['age'] <30), 'age_group'] = '18-29 years old'"
   ]
  },
  {
   "cell_type": "code",
   "execution_count": 20,
   "id": "d9ed2aeb",
   "metadata": {},
   "outputs": [],
   "source": [
    "# Create a flag for 30-49 years old\n",
    "active_customers_departs.loc[(active_customers_departs['age'] >=30) & (active_customers_departs['age'] <50), 'age_group'] = '30-49 years old'"
   ]
  },
  {
   "cell_type": "code",
   "execution_count": 21,
   "id": "1ec4caf0",
   "metadata": {},
   "outputs": [],
   "source": [
    "# Create a flag for 50-64 years old\n",
    "active_customers_departs.loc[(active_customers_departs['age'] >=50) & (active_customers_departs['age'] <65), 'age_group'] = '50-64 years old'"
   ]
  },
  {
   "cell_type": "code",
   "execution_count": 22,
   "id": "34893548",
   "metadata": {},
   "outputs": [],
   "source": [
    "# Create a flag for 65-81 years old\n",
    "active_customers_departs.loc[(active_customers_departs['age'] >=65) & (active_customers_departs['age'] <=81), 'age_group'] = '65-81 years old'"
   ]
  },
  {
   "cell_type": "code",
   "execution_count": 23,
   "id": "3df20ab6",
   "metadata": {},
   "outputs": [
    {
     "data": {
      "text/plain": [
       "age_group\n",
       "18-29 years old    5816632\n",
       "30-49 years old    9729166\n",
       "50-64 years old    7219622\n",
       "65-81 years old    8194267\n",
       "Name: count, dtype: int64"
      ]
     },
     "execution_count": 23,
     "metadata": {},
     "output_type": "execute_result"
    }
   ],
   "source": [
    "# Check the output\n",
    "active_customers_departs['age_group'].value_counts().sort_index()"
   ]
  },
  {
   "cell_type": "markdown",
   "id": "659cbfe1",
   "metadata": {},
   "source": [
    "### -- Distribution chart for 'age_group'"
   ]
  },
  {
   "cell_type": "code",
   "execution_count": 24,
   "id": "58bd15ac",
   "metadata": {},
   "outputs": [
    {
     "data": {
      "text/plain": [
       "(array([0, 1, 2, 3]),\n",
       " [Text(0, 0, '18-29 years old'),\n",
       "  Text(1, 0, '30-49 years old'),\n",
       "  Text(2, 0, '50-64 years old'),\n",
       "  Text(3, 0, '65-81 years old')])"
      ]
     },
     "execution_count": 24,
     "metadata": {},
     "output_type": "execute_result"
    },
    {
     "data": {
      "image/png": "[encoded data removed]",
      "text/plain": [
       "<Figure size 640x480 with 1 Axes>"
      ]
     },
     "metadata": {},
     "output_type": "display_data"
    }
   ],
   "source": [
    "# Create distribution chart for 'age_groups'\n",
    "bar_age_group_distr = active_customers_departs['age_group'].value_counts().sort_index().plot.bar()\n",
    "\n",
    "plt.xlabel('Age Group')\n",
    "plt.ylabel('Frequency')\n",
    "plt.title('Distributiion of Customer Age Groups')\n",
    "\n",
    "plt.xticks(rotation = 360)"
   ]
  },
  {
   "cell_type": "code",
   "execution_count": 25,
   "id": "907bfc99",
   "metadata": {},
   "outputs": [],
   "source": [
    "# Export bar chart\n",
    "bar_age_group_distr.figure.savefig(os.path.join(path, '04 Analysis', 'Visualizations', 'bar_age_group_distrib.png'),bbox_inches='tight')"
   ]
  },
  {
   "cell_type": "markdown",
   "id": "149b6eae",
   "metadata": {},
   "source": [
    "### -- Aggregation of 'prices' and 'order_number' for age groups"
   ]
  },
  {
   "cell_type": "code",
   "execution_count": 26,
   "id": "add79d58",
   "metadata": {},
   "outputs": [
    {
     "data": {
      "text/html": [
       "<div>\n",
       "<style scoped>\n",
       "    .dataframe tbody tr th:only-of-type {\n",
       "        vertical-align: middle;\n",
       "    }\n",
       "\n",
       "    .dataframe tbody tr th {\n",
       "        vertical-align: top;\n",
       "    }\n",
       "\n",
       "    .dataframe thead tr th {\n",
       "        text-align: left;\n",
       "    }\n",
       "\n",
       "    .dataframe thead tr:last-of-type th {\n",
       "        text-align: right;\n",
       "    }\n",
       "</style>\n",
       "<table border=\"1\" class=\"dataframe\">\n",
       "  <thead>\n",
       "    <tr>\n",
       "      <th></th>\n",
       "      <th colspan=\"3\" halign=\"left\">order_number</th>\n",
       "      <th colspan=\"3\" halign=\"left\">prices</th>\n",
       "    </tr>\n",
       "    <tr>\n",
       "      <th></th>\n",
       "      <th>mean</th>\n",
       "      <th>max</th>\n",
       "      <th>min</th>\n",
       "      <th>mean</th>\n",
       "      <th>max</th>\n",
       "      <th>min</th>\n",
       "    </tr>\n",
       "    <tr>\n",
       "      <th>age_group</th>\n",
       "      <th></th>\n",
       "      <th></th>\n",
       "      <th></th>\n",
       "      <th></th>\n",
       "      <th></th>\n",
       "      <th></th>\n",
       "    </tr>\n",
       "  </thead>\n",
       "  <tbody>\n",
       "    <tr>\n",
       "      <th>18-29 years old</th>\n",
       "      <td>17.803479</td>\n",
       "      <td>99</td>\n",
       "      <td>1</td>\n",
       "      <td>7.782198</td>\n",
       "      <td>25.0</td>\n",
       "      <td>1.0</td>\n",
       "    </tr>\n",
       "    <tr>\n",
       "      <th>30-49 years old</th>\n",
       "      <td>17.891946</td>\n",
       "      <td>99</td>\n",
       "      <td>1</td>\n",
       "      <td>7.793116</td>\n",
       "      <td>25.0</td>\n",
       "      <td>1.0</td>\n",
       "    </tr>\n",
       "    <tr>\n",
       "      <th>50-64 years old</th>\n",
       "      <td>17.837796</td>\n",
       "      <td>99</td>\n",
       "      <td>1</td>\n",
       "      <td>7.786995</td>\n",
       "      <td>25.0</td>\n",
       "      <td>1.0</td>\n",
       "    </tr>\n",
       "    <tr>\n",
       "      <th>65-81 years old</th>\n",
       "      <td>17.785164</td>\n",
       "      <td>99</td>\n",
       "      <td>1</td>\n",
       "      <td>7.796715</td>\n",
       "      <td>25.0</td>\n",
       "      <td>1.0</td>\n",
       "    </tr>\n",
       "  </tbody>\n",
       "</table>\n",
       "</div>"
      ],
      "text/plain": [
       "                order_number            prices           \n",
       "                        mean max min      mean   max  min\n",
       "age_group                                                \n",
       "18-29 years old    17.803479  99   1  7.782198  25.0  1.0\n",
       "30-49 years old    17.891946  99   1  7.793116  25.0  1.0\n",
       "50-64 years old    17.837796  99   1  7.786995  25.0  1.0\n",
       "65-81 years old    17.785164  99   1  7.796715  25.0  1.0"
      ]
     },
     "execution_count": 26,
     "metadata": {},
     "output_type": "execute_result"
    }
   ],
   "source": [
    "# Aggregate 'order_number' and 'prices' for age groups\n",
    "active_customers_departs.groupby('age_group').agg({'order_number': ['mean','max','min'], 'prices': ['mean','max','min']})"
   ]
  },
  {
   "cell_type": "markdown",
   "id": "15601cbe",
   "metadata": {},
   "source": [
    "### 4.2. Profiles based on income"
   ]
  },
  {
   "cell_type": "code",
   "execution_count": 27,
   "id": "5af49d91",
   "metadata": {
    "scrolled": true
   },
   "outputs": [
    {
     "data": {
      "text/plain": [
       "count    3.095969e+07\n",
       "mean     9.965502e+04\n",
       "std      4.309143e+04\n",
       "min      2.590300e+04\n",
       "25%      6.728600e+04\n",
       "50%      9.676100e+04\n",
       "75%      1.280810e+05\n",
       "max      5.939010e+05\n",
       "Name: income, dtype: float64"
      ]
     },
     "execution_count": 27,
     "metadata": {},
     "output_type": "execute_result"
    }
   ],
   "source": [
    "# Descriptive statistics for 'age' column \n",
    "active_customers_departs['income'].describe()"
   ]
  },
  {
   "cell_type": "markdown",
   "id": "606d8590",
   "metadata": {},
   "source": [
    "###### Mean = 99,655, min = 25,903, max = 593,901. Income can be divided into the following categories:<br>\n",
    "- low = <65,000,\n",
    "- medium = 65,001-145,000, \n",
    "- high = 145,001+"
   ]
  },
  {
   "cell_type": "code",
   "execution_count": 28,
   "id": "e5a93503",
   "metadata": {},
   "outputs": [],
   "source": [
    "# Create low income flag\n",
    "active_customers_departs.loc[active_customers_departs['income'] <= 65000, 'income_group'] = 'Low income'"
   ]
  },
  {
   "cell_type": "code",
   "execution_count": 29,
   "id": "db379699",
   "metadata": {},
   "outputs": [],
   "source": [
    "# Create medium income flag\n",
    "active_customers_departs.loc[(active_customers_departs['income'] > 65000) & (active_customers_departs['income'] <= 145000), 'income_group'] = 'Medium income'"
   ]
  },
  {
   "cell_type": "code",
   "execution_count": 30,
   "id": "7226848d",
   "metadata": {},
   "outputs": [],
   "source": [
    "# Create low income flag\n",
    "active_customers_departs.loc[active_customers_departs['income'] > 145000, 'income_group'] = 'High income'"
   ]
  },
  {
   "cell_type": "code",
   "execution_count": 31,
   "id": "dbfe873d",
   "metadata": {},
   "outputs": [
    {
     "data": {
      "text/plain": [
       "income_group\n",
       "Medium income    19075278\n",
       "Low income        7107833\n",
       "High income       4776576\n",
       "Name: count, dtype: int64"
      ]
     },
     "execution_count": 31,
     "metadata": {},
     "output_type": "execute_result"
    }
   ],
   "source": [
    "# Check the output\n",
    "active_customers_departs['income_group'].value_counts()"
   ]
  },
  {
   "cell_type": "markdown",
   "id": "3d71e088",
   "metadata": {},
   "source": [
    "### -- Distribution chart for 'income_group'"
   ]
  },
  {
   "cell_type": "code",
   "execution_count": 32,
   "id": "56018479",
   "metadata": {},
   "outputs": [
    {
     "data": {
      "text/plain": [
       "(array([0, 1, 2]),\n",
       " [Text(0, 0, 'Medium income'),\n",
       "  Text(1, 0, 'Low income'),\n",
       "  Text(2, 0, 'High income')])"
      ]
     },
     "execution_count": 32,
     "metadata": {},
     "output_type": "execute_result"
    },
    {
     "data": {
      "image/png": "[encoded data removed]",
      "text/plain": [
       "<Figure size 640x480 with 1 Axes>"
      ]
     },
     "metadata": {},
     "output_type": "display_data"
    }
   ],
   "source": [
    "# Create distribution chart for 'income_group'\n",
    "bar_income_group_distr = active_customers_departs['income_group'].value_counts().plot.bar()\n",
    "\n",
    "plt.xlabel('Income Group')\n",
    "plt.ylabel('Frequency')\n",
    "plt.title('Distributiion of Customer Income Groups')\n",
    "\n",
    "plt.xticks(rotation = 360)"
   ]
  },
  {
   "cell_type": "code",
   "execution_count": 33,
   "id": "6917b657",
   "metadata": {},
   "outputs": [],
   "source": [
    "# Export bar chart\n",
    "bar_income_group_distr.figure.savefig(os.path.join(path, '04 Analysis', 'Visualizations', 'bar_income_group_distrib.png'),bbox_inches='tight')"
   ]
  },
  {
   "cell_type": "markdown",
   "id": "bc94c9de",
   "metadata": {},
   "source": [
    "### -- Aggregate prices and orders number for income groups"
   ]
  },
  {
   "cell_type": "code",
   "execution_count": 34,
   "id": "0006db48",
   "metadata": {},
   "outputs": [
    {
     "data": {
      "text/html": [
       "<div>\n",
       "<style scoped>\n",
       "    .dataframe tbody tr th:only-of-type {\n",
       "        vertical-align: middle;\n",
       "    }\n",
       "\n",
       "    .dataframe tbody tr th {\n",
       "        vertical-align: top;\n",
       "    }\n",
       "\n",
       "    .dataframe thead tr th {\n",
       "        text-align: left;\n",
       "    }\n",
       "\n",
       "    .dataframe thead tr:last-of-type th {\n",
       "        text-align: right;\n",
       "    }\n",
       "</style>\n",
       "<table border=\"1\" class=\"dataframe\">\n",
       "  <thead>\n",
       "    <tr>\n",
       "      <th></th>\n",
       "      <th colspan=\"3\" halign=\"left\">order_number</th>\n",
       "      <th colspan=\"3\" halign=\"left\">prices</th>\n",
       "    </tr>\n",
       "    <tr>\n",
       "      <th></th>\n",
       "      <th>mean</th>\n",
       "      <th>max</th>\n",
       "      <th>min</th>\n",
       "      <th>mean</th>\n",
       "      <th>max</th>\n",
       "      <th>min</th>\n",
       "    </tr>\n",
       "    <tr>\n",
       "      <th>income_group</th>\n",
       "      <th></th>\n",
       "      <th></th>\n",
       "      <th></th>\n",
       "      <th></th>\n",
       "      <th></th>\n",
       "      <th></th>\n",
       "    </tr>\n",
       "  </thead>\n",
       "  <tbody>\n",
       "    <tr>\n",
       "      <th>High income</th>\n",
       "      <td>18.004112</td>\n",
       "      <td>99</td>\n",
       "      <td>1</td>\n",
       "      <td>7.943191</td>\n",
       "      <td>25.0</td>\n",
       "      <td>1.0</td>\n",
       "    </tr>\n",
       "    <tr>\n",
       "      <th>Low income</th>\n",
       "      <td>17.432673</td>\n",
       "      <td>99</td>\n",
       "      <td>1</td>\n",
       "      <td>7.242977</td>\n",
       "      <td>25.0</td>\n",
       "      <td>1.0</td>\n",
       "    </tr>\n",
       "    <tr>\n",
       "      <th>Medium income</th>\n",
       "      <td>17.941651</td>\n",
       "      <td>99</td>\n",
       "      <td>1</td>\n",
       "      <td>7.956430</td>\n",
       "      <td>25.0</td>\n",
       "      <td>1.0</td>\n",
       "    </tr>\n",
       "  </tbody>\n",
       "</table>\n",
       "</div>"
      ],
      "text/plain": [
       "              order_number            prices           \n",
       "                      mean max min      mean   max  min\n",
       "income_group                                           \n",
       "High income      18.004112  99   1  7.943191  25.0  1.0\n",
       "Low income       17.432673  99   1  7.242977  25.0  1.0\n",
       "Medium income    17.941651  99   1  7.956430  25.0  1.0"
      ]
     },
     "execution_count": 34,
     "metadata": {},
     "output_type": "execute_result"
    }
   ],
   "source": [
    "# Aggregate 'order_number' and 'prices' for income groups\n",
    "active_customers_departs.groupby('income_group').agg({'order_number': ['mean','max','min'], 'prices': ['mean','max','min']})"
   ]
  },
  {
   "cell_type": "markdown",
   "id": "e32e243e",
   "metadata": {},
   "source": [
    "### 4.4. Profiles based on family status and number of dependants"
   ]
  },
  {
   "cell_type": "code",
   "execution_count": 35,
   "id": "52626f0d",
   "metadata": {},
   "outputs": [
    {
     "data": {
      "text/plain": [
       "fam_status\n",
       "married                             21740200\n",
       "single                               5093677\n",
       "divorced/widowed                     2644831\n",
       "living with parents and siblings     1480979\n",
       "Name: count, dtype: int64"
      ]
     },
     "execution_count": 35,
     "metadata": {},
     "output_type": "execute_result"
    }
   ],
   "source": [
    "# Frequency table for 'fam_status' column \n",
    "active_customers_departs['fam_status'].value_counts()"
   ]
  },
  {
   "cell_type": "code",
   "execution_count": 36,
   "id": "fbb1acfb",
   "metadata": {},
   "outputs": [
    {
     "data": {
      "text/plain": [
       "n_dependants\n",
       "0    7738508\n",
       "1    7717946\n",
       "2    7731924\n",
       "3    7771309\n",
       "Name: count, dtype: int64"
      ]
     },
     "execution_count": 36,
     "metadata": {},
     "output_type": "execute_result"
    }
   ],
   "source": [
    "# Frequency table for 'n_dependants' column \n",
    "active_customers_departs['n_dependants'].value_counts().sort_index()"
   ]
  },
  {
   "cell_type": "code",
   "execution_count": 37,
   "id": "fa2178dd",
   "metadata": {},
   "outputs": [],
   "source": [
    "# Create a crosstab between 'fam_status' and 'n_dependants'\n",
    "cross_family_dependant = pd.crosstab(active_customers_departs['fam_status'], active_customers_departs['n_dependants'], dropna = False)"
   ]
  },
  {
   "cell_type": "code",
   "execution_count": 38,
   "id": "d6fbd6e4",
   "metadata": {},
   "outputs": [
    {
     "data": {
      "text/html": [
       "<div>\n",
       "<style scoped>\n",
       "    .dataframe tbody tr th:only-of-type {\n",
       "        vertical-align: middle;\n",
       "    }\n",
       "\n",
       "    .dataframe tbody tr th {\n",
       "        vertical-align: top;\n",
       "    }\n",
       "\n",
       "    .dataframe thead th {\n",
       "        text-align: right;\n",
       "    }\n",
       "</style>\n",
       "<table border=\"1\" class=\"dataframe\">\n",
       "  <thead>\n",
       "    <tr style=\"text-align: right;\">\n",
       "      <th>n_dependants</th>\n",
       "      <th>0</th>\n",
       "      <th>1</th>\n",
       "      <th>2</th>\n",
       "      <th>3</th>\n",
       "    </tr>\n",
       "    <tr>\n",
       "      <th>fam_status</th>\n",
       "      <th></th>\n",
       "      <th></th>\n",
       "      <th></th>\n",
       "      <th></th>\n",
       "    </tr>\n",
       "  </thead>\n",
       "  <tbody>\n",
       "    <tr>\n",
       "      <th>divorced/widowed</th>\n",
       "      <td>2644831</td>\n",
       "      <td>0</td>\n",
       "      <td>0</td>\n",
       "      <td>0</td>\n",
       "    </tr>\n",
       "    <tr>\n",
       "      <th>living with parents and siblings</th>\n",
       "      <td>0</td>\n",
       "      <td>507980</td>\n",
       "      <td>484596</td>\n",
       "      <td>488403</td>\n",
       "    </tr>\n",
       "    <tr>\n",
       "      <th>married</th>\n",
       "      <td>0</td>\n",
       "      <td>7209966</td>\n",
       "      <td>7247328</td>\n",
       "      <td>7282906</td>\n",
       "    </tr>\n",
       "    <tr>\n",
       "      <th>single</th>\n",
       "      <td>5093677</td>\n",
       "      <td>0</td>\n",
       "      <td>0</td>\n",
       "      <td>0</td>\n",
       "    </tr>\n",
       "  </tbody>\n",
       "</table>\n",
       "</div>"
      ],
      "text/plain": [
       "n_dependants                            0        1        2        3\n",
       "fam_status                                                          \n",
       "divorced/widowed                  2644831        0        0        0\n",
       "living with parents and siblings        0   507980   484596   488403\n",
       "married                                 0  7209966  7247328  7282906\n",
       "single                            5093677        0        0        0"
      ]
     },
     "execution_count": 38,
     "metadata": {},
     "output_type": "execute_result"
    }
   ],
   "source": [
    "# Check the output\n",
    "cross_family_dependant"
   ]
  },
  {
   "cell_type": "markdown",
   "id": "62db578d",
   "metadata": {},
   "source": [
    "##### Based on family status and number of dependants, next groups can be created:<br>\n",
    "- single without dependants (divorced/widowed and single with 0 dependants)\n",
    "- single with dependants (living with parents and siblings with 1/2/3 dependants)\n",
    "- married with dependants (married with 1/2/3 dependants)"
   ]
  },
  {
   "cell_type": "code",
   "execution_count": 39,
   "id": "09104765",
   "metadata": {},
   "outputs": [],
   "source": [
    "# Create 'single without dependants' flag\n",
    "active_customers_departs.loc[active_customers_departs['fam_status'].isin(['divorced/widowed','single']), 'marital_dependant_group'] = 'Single without dependants'"
   ]
  },
  {
   "cell_type": "code",
   "execution_count": 40,
   "id": "3dae131a",
   "metadata": {},
   "outputs": [],
   "source": [
    "# Create 'single with dependants' flag\n",
    "active_customers_departs.loc[active_customers_departs['fam_status'] == 'living with parents and siblings', 'marital_dependant_group'] = 'Single with dependants'"
   ]
  },
  {
   "cell_type": "code",
   "execution_count": 41,
   "id": "9fdc4aa2",
   "metadata": {},
   "outputs": [],
   "source": [
    "# Create 'married with dependants' flag\n",
    "active_customers_departs.loc[active_customers_departs['fam_status'] == 'married', 'marital_dependant_group'] = 'Married with dependants'"
   ]
  },
  {
   "cell_type": "code",
   "execution_count": 42,
   "id": "3213164f",
   "metadata": {},
   "outputs": [
    {
     "data": {
      "text/plain": [
       "marital_dependant_group\n",
       "Married with dependants      21740200\n",
       "Single without dependants     7738508\n",
       "Single with dependants        1480979\n",
       "Name: count, dtype: int64"
      ]
     },
     "execution_count": 42,
     "metadata": {},
     "output_type": "execute_result"
    }
   ],
   "source": [
    "# Check the output\n",
    "active_customers_departs['marital_dependant_group'].value_counts()"
   ]
  },
  {
   "cell_type": "markdown",
   "id": "f1ad3c80",
   "metadata": {},
   "source": [
    "### -- Distribution chart for 'marital_dependant_group'"
   ]
  },
  {
   "cell_type": "code",
   "execution_count": 43,
   "id": "0ef6afda",
   "metadata": {},
   "outputs": [
    {
     "data": {
      "text/plain": [
       "(array([       0.,  5000000., 10000000., 15000000., 20000000., 25000000.]),\n",
       " [Text(0.0, 0, '0.0'),\n",
       "  Text(5000000.0, 0, '0.5'),\n",
       "  Text(10000000.0, 0, '1.0'),\n",
       "  Text(15000000.0, 0, '1.5'),\n",
       "  Text(20000000.0, 0, '2.0'),\n",
       "  Text(25000000.0, 0, '2.5')])"
      ]
     },
     "execution_count": 43,
     "metadata": {},
     "output_type": "execute_result"
    },
    {
     "data": {
      "image/png": "[encoded data removed]",
      "text/plain": [
       "<Figure size 640x480 with 1 Axes>"
      ]
     },
     "metadata": {},
     "output_type": "display_data"
    }
   ],
   "source": [
    "# Create distribution chart for 'martial_dependant_group'\n",
    "bar_marital_dep_group_distr = active_customers_departs['marital_dependant_group'].value_counts().sort_values().plot.barh()\n",
    "\n",
    "plt.ylabel('Family Status Group')\n",
    "plt.xlabel('Frequency')\n",
    "plt.title('Distributiion of Customer Family Status Groups')\n",
    "\n",
    "plt.xticks(rotation = 360)"
   ]
  },
  {
   "cell_type": "code",
   "execution_count": 44,
   "id": "7dac2737",
   "metadata": {},
   "outputs": [],
   "source": [
    "# Export bar chart\n",
    "bar_marital_dep_group_distr.figure.savefig(os.path.join(path, '04 Analysis', 'Visualizations', 'bar_marital_dep_group_distrib.png'),bbox_inches='tight')"
   ]
  },
  {
   "cell_type": "markdown",
   "id": "093c2741",
   "metadata": {},
   "source": [
    "### -- Aggregate prices and orders number for marital and dependant groups"
   ]
  },
  {
   "cell_type": "code",
   "execution_count": 45,
   "id": "732e3e32",
   "metadata": {},
   "outputs": [
    {
     "data": {
      "text/html": [
       "<div>\n",
       "<style scoped>\n",
       "    .dataframe tbody tr th:only-of-type {\n",
       "        vertical-align: middle;\n",
       "    }\n",
       "\n",
       "    .dataframe tbody tr th {\n",
       "        vertical-align: top;\n",
       "    }\n",
       "\n",
       "    .dataframe thead tr th {\n",
       "        text-align: left;\n",
       "    }\n",
       "\n",
       "    .dataframe thead tr:last-of-type th {\n",
       "        text-align: right;\n",
       "    }\n",
       "</style>\n",
       "<table border=\"1\" class=\"dataframe\">\n",
       "  <thead>\n",
       "    <tr>\n",
       "      <th></th>\n",
       "      <th colspan=\"3\" halign=\"left\">order_number</th>\n",
       "      <th colspan=\"3\" halign=\"left\">prices</th>\n",
       "    </tr>\n",
       "    <tr>\n",
       "      <th></th>\n",
       "      <th>mean</th>\n",
       "      <th>max</th>\n",
       "      <th>min</th>\n",
       "      <th>mean</th>\n",
       "      <th>max</th>\n",
       "      <th>min</th>\n",
       "    </tr>\n",
       "    <tr>\n",
       "      <th>marital_dependant_group</th>\n",
       "      <th></th>\n",
       "      <th></th>\n",
       "      <th></th>\n",
       "      <th></th>\n",
       "      <th></th>\n",
       "      <th></th>\n",
       "    </tr>\n",
       "  </thead>\n",
       "  <tbody>\n",
       "    <tr>\n",
       "      <th>Married with dependants</th>\n",
       "      <td>17.779028</td>\n",
       "      <td>99</td>\n",
       "      <td>1</td>\n",
       "      <td>7.790278</td>\n",
       "      <td>25.0</td>\n",
       "      <td>1.0</td>\n",
       "    </tr>\n",
       "    <tr>\n",
       "      <th>Single with dependants</th>\n",
       "      <td>18.000750</td>\n",
       "      <td>99</td>\n",
       "      <td>1</td>\n",
       "      <td>7.800604</td>\n",
       "      <td>25.0</td>\n",
       "      <td>1.0</td>\n",
       "    </tr>\n",
       "    <tr>\n",
       "      <th>Single without dependants</th>\n",
       "      <td>17.958265</td>\n",
       "      <td>99</td>\n",
       "      <td>1</td>\n",
       "      <td>7.789550</td>\n",
       "      <td>25.0</td>\n",
       "      <td>1.0</td>\n",
       "    </tr>\n",
       "  </tbody>\n",
       "</table>\n",
       "</div>"
      ],
      "text/plain": [
       "                          order_number            prices           \n",
       "                                  mean max min      mean   max  min\n",
       "marital_dependant_group                                            \n",
       "Married with dependants      17.779028  99   1  7.790278  25.0  1.0\n",
       "Single with dependants       18.000750  99   1  7.800604  25.0  1.0\n",
       "Single without dependants    17.958265  99   1  7.789550  25.0  1.0"
      ]
     },
     "execution_count": 45,
     "metadata": {},
     "output_type": "execute_result"
    }
   ],
   "source": [
    "# Aggregate 'order_number' and 'prices' for marital_dependant_group\n",
    "active_customers_departs.groupby('marital_dependant_group').agg({'order_number': ['mean','max','min'], 'prices': ['mean','max','min']})"
   ]
  },
  {
   "cell_type": "markdown",
   "id": "8cd1f6fa",
   "metadata": {},
   "source": [
    "## 4.4. Profile based on department"
   ]
  },
  {
   "cell_type": "code",
   "execution_count": 46,
   "id": "4d6bb3ef",
   "metadata": {},
   "outputs": [
    {
     "data": {
      "text/plain": [
       "department\n",
       "produce            9079273\n",
       "dairy eggs         5172305\n",
       "snacks             2766406\n",
       "beverages          2571901\n",
       "frozen             2121731\n",
       "pantry             1782705\n",
       "bakery             1120828\n",
       "canned goods       1012074\n",
       "deli               1003834\n",
       "dry goods pasta     822136\n",
       "household           699857\n",
       "meat seafood        674781\n",
       "breakfast           670850\n",
       "personal care       424306\n",
       "babies              410392\n",
       "international       255991\n",
       "alcohol             144627\n",
       "pets                 93060\n",
       "missing              64768\n",
       "other                34411\n",
       "bulk                 33451\n",
       "Name: count, dtype: int64"
      ]
     },
     "execution_count": 46,
     "metadata": {},
     "output_type": "execute_result"
    }
   ],
   "source": [
    "# Frequency of products purchased by department\n",
    "active_customers_departs['department'].value_counts()"
   ]
  },
  {
   "cell_type": "markdown",
   "id": "8b5a4002",
   "metadata": {},
   "source": [
    "### -- Distribution chart for 'department'"
   ]
  },
  {
   "cell_type": "code",
   "execution_count": 47,
   "id": "38d9fe84",
   "metadata": {},
   "outputs": [
    {
     "data": {
      "text/plain": [
       "Text(0.5, 1.0, 'Total Number of Products Purchased per Department')"
      ]
     },
     "execution_count": 47,
     "metadata": {},
     "output_type": "execute_result"
    },
    {
     "data": {
      "image/png": "[encoded data removed]",
      "text/plain": [
       "<Figure size 640x480 with 1 Axes>"
      ]
     },
     "metadata": {},
     "output_type": "display_data"
    }
   ],
   "source": [
    "# Create bar chart to show amount of products purchased per department\n",
    "bar_department_ords = active_customers_departs['department'].value_counts().sort_values().plot.barh()\n",
    "\n",
    "plt.ylabel('Department')\n",
    "plt.xlabel('Number of Products Purchased, in Millions')\n",
    "plt.title('Total Number of Products Purchased per Department')"
   ]
  },
  {
   "cell_type": "code",
   "execution_count": 48,
   "id": "dac4fc0d",
   "metadata": {},
   "outputs": [],
   "source": [
    "# Export bar chart\n",
    "bar_department_ords.figure.savefig(os.path.join(path, '04 Analysis', 'Visualizations', 'bar_departments_orders.png'),bbox_inches='tight')"
   ]
  },
  {
   "cell_type": "code",
   "execution_count": 49,
   "id": "f81fd484",
   "metadata": {},
   "outputs": [
    {
     "data": {
      "text/plain": [
       "department\n",
       "produce            72455761.7\n",
       "dairy eggs         43118260.7\n",
       "beverages          19758773.9\n",
       "frozen             16408884.0\n",
       "pantry             14287456.5\n",
       "snacks             11827920.3\n",
       "meat seafood       10998953.4\n",
       "bakery              8806886.2\n",
       "deli                7813188.1\n",
       "canned goods        7637778.5\n",
       "dry goods pasta     6042181.4\n",
       "breakfast           5388030.2\n",
       "household           5164910.3\n",
       "personal care       3393915.0\n",
       "babies              3133096.4\n",
       "international       1965702.9\n",
       "alcohol             1178811.1\n",
       "pets                 734009.7\n",
       "missing              560933.3\n",
       "bulk                 279212.8\n",
       "other                239569.2\n",
       "Name: prices, dtype: float64"
      ]
     },
     "execution_count": 49,
     "metadata": {},
     "output_type": "execute_result"
    }
   ],
   "source": [
    "# Check income per department\n",
    "active_customers_departs.groupby('department').prices.sum().sort_values(ascending = False)"
   ]
  },
  {
   "cell_type": "code",
   "execution_count": 50,
   "id": "e00c6a70",
   "metadata": {},
   "outputs": [
    {
     "data": {
      "text/plain": [
       "Text(0.5, 1.0, 'Total Income by Department')"
      ]
     },
     "execution_count": 50,
     "metadata": {},
     "output_type": "execute_result"
    },
    {
     "data": {
      "image/png": "[encoded data removed]",
      "text/plain": [
       "<Figure size 640x480 with 1 Axes>"
      ]
     },
     "metadata": {},
     "output_type": "display_data"
    }
   ],
   "source": [
    "# Create bar chart to show income per department\n",
    "bar_depart_income = active_customers_departs.groupby('department').prices.sum().sort_values(ascending = True).plot(kind = 'barh', color = 'tab:green')\n",
    "\n",
    "plt.ylabel('Department')\n",
    "plt.xlabel('Income, in 10 Millions')\n",
    "plt.title('Total Income by Department')\n"
   ]
  },
  {
   "cell_type": "code",
   "execution_count": 51,
   "id": "9ae2658d",
   "metadata": {},
   "outputs": [],
   "source": [
    "# Export bar chart\n",
    "bar_depart_income.figure.savefig(os.path.join(path, '04 Analysis', 'Visualizations', 'bar_departments_income.png'),bbox_inches='tight')"
   ]
  },
  {
   "cell_type": "code",
   "execution_count": 52,
   "id": "ea49ac6b",
   "metadata": {},
   "outputs": [
    {
     "data": {
      "text/plain": [
       "Text(0.5, 1.0, 'Average Prices by Department')"
      ]
     },
     "execution_count": 52,
     "metadata": {},
     "output_type": "execute_result"
    },
    {
     "data": {
      "image/png": "[encoded data removed]",
      "text/plain": [
       "<Figure size 640x480 with 1 Axes>"
      ]
     },
     "metadata": {},
     "output_type": "display_data"
    }
   ],
   "source": [
    "# Create bar chart to show avg prices per department\n",
    "bar_depart_avg_price = active_customers_departs.groupby('department').prices.mean().sort_values(ascending = True).plot(kind = 'barh', color = 'tab:green')\n",
    "\n",
    "plt.ylabel('Department')\n",
    "plt.xlabel('Average Price')\n",
    "plt.title('Average Prices by Department')\n"
   ]
  },
  {
   "cell_type": "code",
   "execution_count": 53,
   "id": "39c787e8",
   "metadata": {},
   "outputs": [],
   "source": [
    "# Export bar chart\n",
    "bar_depart_avg_price.figure.savefig(os.path.join(path, '04 Analysis', 'Visualizations', 'bar_departments_avg_prices.png'),bbox_inches='tight')"
   ]
  },
  {
   "cell_type": "markdown",
   "id": "75fa2b6b",
   "metadata": {},
   "source": [
    "### -- Aggregate prices and orders number for department"
   ]
  },
  {
   "cell_type": "code",
   "execution_count": 54,
   "id": "983f2938",
   "metadata": {},
   "outputs": [
    {
     "data": {
      "text/html": [
       "<div>\n",
       "<style scoped>\n",
       "    .dataframe tbody tr th:only-of-type {\n",
       "        vertical-align: middle;\n",
       "    }\n",
       "\n",
       "    .dataframe tbody tr th {\n",
       "        vertical-align: top;\n",
       "    }\n",
       "\n",
       "    .dataframe thead tr th {\n",
       "        text-align: left;\n",
       "    }\n",
       "\n",
       "    .dataframe thead tr:last-of-type th {\n",
       "        text-align: right;\n",
       "    }\n",
       "</style>\n",
       "<table border=\"1\" class=\"dataframe\">\n",
       "  <thead>\n",
       "    <tr>\n",
       "      <th></th>\n",
       "      <th colspan=\"3\" halign=\"left\">order_number</th>\n",
       "      <th colspan=\"3\" halign=\"left\">prices</th>\n",
       "    </tr>\n",
       "    <tr>\n",
       "      <th></th>\n",
       "      <th>mean</th>\n",
       "      <th>max</th>\n",
       "      <th>min</th>\n",
       "      <th>mean</th>\n",
       "      <th>max</th>\n",
       "      <th>min</th>\n",
       "    </tr>\n",
       "    <tr>\n",
       "      <th>department</th>\n",
       "      <th></th>\n",
       "      <th></th>\n",
       "      <th></th>\n",
       "      <th></th>\n",
       "      <th></th>\n",
       "      <th></th>\n",
       "    </tr>\n",
       "  </thead>\n",
       "  <tbody>\n",
       "    <tr>\n",
       "      <th>alcohol</th>\n",
       "      <td>16.034226</td>\n",
       "      <td>99</td>\n",
       "      <td>1</td>\n",
       "      <td>8.150699</td>\n",
       "      <td>15.0</td>\n",
       "      <td>1.0</td>\n",
       "    </tr>\n",
       "    <tr>\n",
       "      <th>babies</th>\n",
       "      <td>19.867090</td>\n",
       "      <td>99</td>\n",
       "      <td>1</td>\n",
       "      <td>7.634399</td>\n",
       "      <td>15.0</td>\n",
       "      <td>1.0</td>\n",
       "    </tr>\n",
       "    <tr>\n",
       "      <th>bakery</th>\n",
       "      <td>17.856619</td>\n",
       "      <td>99</td>\n",
       "      <td>1</td>\n",
       "      <td>7.857482</td>\n",
       "      <td>15.0</td>\n",
       "      <td>1.0</td>\n",
       "    </tr>\n",
       "    <tr>\n",
       "      <th>beverages</th>\n",
       "      <td>17.901479</td>\n",
       "      <td>99</td>\n",
       "      <td>1</td>\n",
       "      <td>7.682556</td>\n",
       "      <td>15.0</td>\n",
       "      <td>1.0</td>\n",
       "    </tr>\n",
       "    <tr>\n",
       "      <th>breakfast</th>\n",
       "      <td>17.469987</td>\n",
       "      <td>99</td>\n",
       "      <td>1</td>\n",
       "      <td>8.031647</td>\n",
       "      <td>14.9</td>\n",
       "      <td>1.0</td>\n",
       "    </tr>\n",
       "    <tr>\n",
       "      <th>bulk</th>\n",
       "      <td>20.797555</td>\n",
       "      <td>99</td>\n",
       "      <td>1</td>\n",
       "      <td>8.346919</td>\n",
       "      <td>14.1</td>\n",
       "      <td>1.4</td>\n",
       "    </tr>\n",
       "    <tr>\n",
       "      <th>canned goods</th>\n",
       "      <td>16.933858</td>\n",
       "      <td>99</td>\n",
       "      <td>1</td>\n",
       "      <td>7.546660</td>\n",
       "      <td>15.0</td>\n",
       "      <td>1.0</td>\n",
       "    </tr>\n",
       "    <tr>\n",
       "      <th>dairy eggs</th>\n",
       "      <td>18.326914</td>\n",
       "      <td>99</td>\n",
       "      <td>1</td>\n",
       "      <td>8.336372</td>\n",
       "      <td>15.0</td>\n",
       "      <td>1.0</td>\n",
       "    </tr>\n",
       "    <tr>\n",
       "      <th>deli</th>\n",
       "      <td>17.144802</td>\n",
       "      <td>99</td>\n",
       "      <td>1</td>\n",
       "      <td>7.783347</td>\n",
       "      <td>15.0</td>\n",
       "      <td>1.0</td>\n",
       "    </tr>\n",
       "    <tr>\n",
       "      <th>dry goods pasta</th>\n",
       "      <td>16.633019</td>\n",
       "      <td>99</td>\n",
       "      <td>1</td>\n",
       "      <td>7.349370</td>\n",
       "      <td>15.0</td>\n",
       "      <td>1.0</td>\n",
       "    </tr>\n",
       "    <tr>\n",
       "      <th>frozen</th>\n",
       "      <td>16.160739</td>\n",
       "      <td>99</td>\n",
       "      <td>1</td>\n",
       "      <td>7.733725</td>\n",
       "      <td>15.0</td>\n",
       "      <td>1.0</td>\n",
       "    </tr>\n",
       "    <tr>\n",
       "      <th>household</th>\n",
       "      <td>16.438914</td>\n",
       "      <td>99</td>\n",
       "      <td>1</td>\n",
       "      <td>7.379951</td>\n",
       "      <td>15.0</td>\n",
       "      <td>1.0</td>\n",
       "    </tr>\n",
       "    <tr>\n",
       "      <th>international</th>\n",
       "      <td>17.174694</td>\n",
       "      <td>99</td>\n",
       "      <td>1</td>\n",
       "      <td>7.678797</td>\n",
       "      <td>15.0</td>\n",
       "      <td>1.0</td>\n",
       "    </tr>\n",
       "    <tr>\n",
       "      <th>meat seafood</th>\n",
       "      <td>16.576910</td>\n",
       "      <td>99</td>\n",
       "      <td>1</td>\n",
       "      <td>16.300034</td>\n",
       "      <td>25.0</td>\n",
       "      <td>8.0</td>\n",
       "    </tr>\n",
       "    <tr>\n",
       "      <th>missing</th>\n",
       "      <td>24.281327</td>\n",
       "      <td>99</td>\n",
       "      <td>1</td>\n",
       "      <td>8.660655</td>\n",
       "      <td>15.0</td>\n",
       "      <td>1.0</td>\n",
       "    </tr>\n",
       "    <tr>\n",
       "      <th>other</th>\n",
       "      <td>18.096481</td>\n",
       "      <td>99</td>\n",
       "      <td>1</td>\n",
       "      <td>6.961995</td>\n",
       "      <td>15.0</td>\n",
       "      <td>1.1</td>\n",
       "    </tr>\n",
       "    <tr>\n",
       "      <th>pantry</th>\n",
       "      <td>17.328319</td>\n",
       "      <td>99</td>\n",
       "      <td>1</td>\n",
       "      <td>8.014482</td>\n",
       "      <td>20.0</td>\n",
       "      <td>1.0</td>\n",
       "    </tr>\n",
       "    <tr>\n",
       "      <th>personal care</th>\n",
       "      <td>16.933392</td>\n",
       "      <td>99</td>\n",
       "      <td>1</td>\n",
       "      <td>7.998744</td>\n",
       "      <td>15.0</td>\n",
       "      <td>1.0</td>\n",
       "    </tr>\n",
       "    <tr>\n",
       "      <th>pets</th>\n",
       "      <td>15.995927</td>\n",
       "      <td>99</td>\n",
       "      <td>1</td>\n",
       "      <td>7.887489</td>\n",
       "      <td>15.0</td>\n",
       "      <td>1.0</td>\n",
       "    </tr>\n",
       "    <tr>\n",
       "      <th>produce</th>\n",
       "      <td>18.495730</td>\n",
       "      <td>99</td>\n",
       "      <td>1</td>\n",
       "      <td>7.980348</td>\n",
       "      <td>15.0</td>\n",
       "      <td>1.0</td>\n",
       "    </tr>\n",
       "    <tr>\n",
       "      <th>snacks</th>\n",
       "      <td>17.830354</td>\n",
       "      <td>99</td>\n",
       "      <td>1</td>\n",
       "      <td>4.275555</td>\n",
       "      <td>7.0</td>\n",
       "      <td>1.6</td>\n",
       "    </tr>\n",
       "  </tbody>\n",
       "</table>\n",
       "</div>"
      ],
      "text/plain": [
       "                order_number             prices           \n",
       "                        mean max min       mean   max  min\n",
       "department                                                \n",
       "alcohol            16.034226  99   1   8.150699  15.0  1.0\n",
       "babies             19.867090  99   1   7.634399  15.0  1.0\n",
       "bakery             17.856619  99   1   7.857482  15.0  1.0\n",
       "beverages          17.901479  99   1   7.682556  15.0  1.0\n",
       "breakfast          17.469987  99   1   8.031647  14.9  1.0\n",
       "bulk               20.797555  99   1   8.346919  14.1  1.4\n",
       "canned goods       16.933858  99   1   7.546660  15.0  1.0\n",
       "dairy eggs         18.326914  99   1   8.336372  15.0  1.0\n",
       "deli               17.144802  99   1   7.783347  15.0  1.0\n",
       "dry goods pasta    16.633019  99   1   7.349370  15.0  1.0\n",
       "frozen             16.160739  99   1   7.733725  15.0  1.0\n",
       "household          16.438914  99   1   7.379951  15.0  1.0\n",
       "international      17.174694  99   1   7.678797  15.0  1.0\n",
       "meat seafood       16.576910  99   1  16.300034  25.0  8.0\n",
       "missing            24.281327  99   1   8.660655  15.0  1.0\n",
       "other              18.096481  99   1   6.961995  15.0  1.1\n",
       "pantry             17.328319  99   1   8.014482  20.0  1.0\n",
       "personal care      16.933392  99   1   7.998744  15.0  1.0\n",
       "pets               15.995927  99   1   7.887489  15.0  1.0\n",
       "produce            18.495730  99   1   7.980348  15.0  1.0\n",
       "snacks             17.830354  99   1   4.275555   7.0  1.6"
      ]
     },
     "execution_count": 54,
     "metadata": {},
     "output_type": "execute_result"
    }
   ],
   "source": [
    "# Aggregate 'order_number' and 'prices' for departments\n",
    "active_customers_departs.groupby('department').agg({'order_number': ['mean','max','min'], 'prices': ['mean','max','min']})"
   ]
  },
  {
   "cell_type": "markdown",
   "id": "972cfc32",
   "metadata": {},
   "source": [
    "## 5. Create crosstabs and visualizations"
   ]
  },
  {
   "cell_type": "markdown",
   "id": "db87b04f",
   "metadata": {},
   "source": [
    "### -- 'age_group' and 'department'"
   ]
  },
  {
   "cell_type": "code",
   "execution_count": 55,
   "id": "02967a9b",
   "metadata": {},
   "outputs": [],
   "source": [
    "# Create a crosstab between 'age_group' and 'department'\n",
    "cross_age_department = pd.crosstab(active_customers_departs['department'], active_customers_departs['age_group'].sort_values(), dropna = False)"
   ]
  },
  {
   "cell_type": "code",
   "execution_count": 56,
   "id": "1abb3e18",
   "metadata": {},
   "outputs": [
    {
     "data": {
      "text/html": [
       "<div>\n",
       "<style scoped>\n",
       "    .dataframe tbody tr th:only-of-type {\n",
       "        vertical-align: middle;\n",
       "    }\n",
       "\n",
       "    .dataframe tbody tr th {\n",
       "        vertical-align: top;\n",
       "    }\n",
       "\n",
       "    .dataframe thead th {\n",
       "        text-align: right;\n",
       "    }\n",
       "</style>\n",
       "<table border=\"1\" class=\"dataframe\">\n",
       "  <thead>\n",
       "    <tr style=\"text-align: right;\">\n",
       "      <th>age_group</th>\n",
       "      <th>18-29 years old</th>\n",
       "      <th>30-49 years old</th>\n",
       "      <th>50-64 years old</th>\n",
       "      <th>65-81 years old</th>\n",
       "    </tr>\n",
       "    <tr>\n",
       "      <th>department</th>\n",
       "      <th></th>\n",
       "      <th></th>\n",
       "      <th></th>\n",
       "      <th></th>\n",
       "    </tr>\n",
       "  </thead>\n",
       "  <tbody>\n",
       "    <tr>\n",
       "      <th>alcohol</th>\n",
       "      <td>27938</td>\n",
       "      <td>46155</td>\n",
       "      <td>33841</td>\n",
       "      <td>36693</td>\n",
       "    </tr>\n",
       "    <tr>\n",
       "      <th>babies</th>\n",
       "      <td>77758</td>\n",
       "      <td>130770</td>\n",
       "      <td>95660</td>\n",
       "      <td>106204</td>\n",
       "    </tr>\n",
       "    <tr>\n",
       "      <th>bakery</th>\n",
       "      <td>210358</td>\n",
       "      <td>352255</td>\n",
       "      <td>262218</td>\n",
       "      <td>295997</td>\n",
       "    </tr>\n",
       "    <tr>\n",
       "      <th>beverages</th>\n",
       "      <td>477655</td>\n",
       "      <td>803187</td>\n",
       "      <td>607039</td>\n",
       "      <td>684020</td>\n",
       "    </tr>\n",
       "    <tr>\n",
       "      <th>breakfast</th>\n",
       "      <td>128115</td>\n",
       "      <td>210133</td>\n",
       "      <td>157306</td>\n",
       "      <td>175296</td>\n",
       "    </tr>\n",
       "    <tr>\n",
       "      <th>bulk</th>\n",
       "      <td>6414</td>\n",
       "      <td>10594</td>\n",
       "      <td>7498</td>\n",
       "      <td>8945</td>\n",
       "    </tr>\n",
       "    <tr>\n",
       "      <th>canned goods</th>\n",
       "      <td>192170</td>\n",
       "      <td>316357</td>\n",
       "      <td>236038</td>\n",
       "      <td>267509</td>\n",
       "    </tr>\n",
       "    <tr>\n",
       "      <th>dairy eggs</th>\n",
       "      <td>975307</td>\n",
       "      <td>1635441</td>\n",
       "      <td>1194762</td>\n",
       "      <td>1366795</td>\n",
       "    </tr>\n",
       "    <tr>\n",
       "      <th>deli</th>\n",
       "      <td>188533</td>\n",
       "      <td>315711</td>\n",
       "      <td>234391</td>\n",
       "      <td>265199</td>\n",
       "    </tr>\n",
       "    <tr>\n",
       "      <th>dry goods pasta</th>\n",
       "      <td>155887</td>\n",
       "      <td>255991</td>\n",
       "      <td>192942</td>\n",
       "      <td>217316</td>\n",
       "    </tr>\n",
       "    <tr>\n",
       "      <th>frozen</th>\n",
       "      <td>398217</td>\n",
       "      <td>661420</td>\n",
       "      <td>497844</td>\n",
       "      <td>564250</td>\n",
       "    </tr>\n",
       "    <tr>\n",
       "      <th>household</th>\n",
       "      <td>130400</td>\n",
       "      <td>219522</td>\n",
       "      <td>163305</td>\n",
       "      <td>186630</td>\n",
       "    </tr>\n",
       "    <tr>\n",
       "      <th>international</th>\n",
       "      <td>48830</td>\n",
       "      <td>80789</td>\n",
       "      <td>59173</td>\n",
       "      <td>67199</td>\n",
       "    </tr>\n",
       "    <tr>\n",
       "      <th>meat seafood</th>\n",
       "      <td>126384</td>\n",
       "      <td>210429</td>\n",
       "      <td>156818</td>\n",
       "      <td>181150</td>\n",
       "    </tr>\n",
       "    <tr>\n",
       "      <th>missing</th>\n",
       "      <td>12569</td>\n",
       "      <td>20503</td>\n",
       "      <td>14781</td>\n",
       "      <td>16915</td>\n",
       "    </tr>\n",
       "    <tr>\n",
       "      <th>other</th>\n",
       "      <td>6856</td>\n",
       "      <td>10492</td>\n",
       "      <td>8117</td>\n",
       "      <td>8946</td>\n",
       "    </tr>\n",
       "    <tr>\n",
       "      <th>pantry</th>\n",
       "      <td>334193</td>\n",
       "      <td>559447</td>\n",
       "      <td>416682</td>\n",
       "      <td>472383</td>\n",
       "    </tr>\n",
       "    <tr>\n",
       "      <th>personal care</th>\n",
       "      <td>79540</td>\n",
       "      <td>133326</td>\n",
       "      <td>100388</td>\n",
       "      <td>111052</td>\n",
       "    </tr>\n",
       "    <tr>\n",
       "      <th>pets</th>\n",
       "      <td>18163</td>\n",
       "      <td>28239</td>\n",
       "      <td>21543</td>\n",
       "      <td>25115</td>\n",
       "    </tr>\n",
       "    <tr>\n",
       "      <th>produce</th>\n",
       "      <td>1699431</td>\n",
       "      <td>2861295</td>\n",
       "      <td>2110443</td>\n",
       "      <td>2408104</td>\n",
       "    </tr>\n",
       "    <tr>\n",
       "      <th>snacks</th>\n",
       "      <td>521914</td>\n",
       "      <td>867110</td>\n",
       "      <td>648833</td>\n",
       "      <td>728549</td>\n",
       "    </tr>\n",
       "  </tbody>\n",
       "</table>\n",
       "</div>"
      ],
      "text/plain": [
       "age_group        18-29 years old  30-49 years old  50-64 years old  \\\n",
       "department                                                           \n",
       "alcohol                    27938            46155            33841   \n",
       "babies                     77758           130770            95660   \n",
       "bakery                    210358           352255           262218   \n",
       "beverages                 477655           803187           607039   \n",
       "breakfast                 128115           210133           157306   \n",
       "bulk                        6414            10594             7498   \n",
       "canned goods              192170           316357           236038   \n",
       "dairy eggs                975307          1635441          1194762   \n",
       "deli                      188533           315711           234391   \n",
       "dry goods pasta           155887           255991           192942   \n",
       "frozen                    398217           661420           497844   \n",
       "household                 130400           219522           163305   \n",
       "international              48830            80789            59173   \n",
       "meat seafood              126384           210429           156818   \n",
       "missing                    12569            20503            14781   \n",
       "other                       6856            10492             8117   \n",
       "pantry                    334193           559447           416682   \n",
       "personal care              79540           133326           100388   \n",
       "pets                       18163            28239            21543   \n",
       "produce                  1699431          2861295          2110443   \n",
       "snacks                    521914           867110           648833   \n",
       "\n",
       "age_group        65-81 years old  \n",
       "department                        \n",
       "alcohol                    36693  \n",
       "babies                    106204  \n",
       "bakery                    295997  \n",
       "beverages                 684020  \n",
       "breakfast                 175296  \n",
       "bulk                        8945  \n",
       "canned goods              267509  \n",
       "dairy eggs               1366795  \n",
       "deli                      265199  \n",
       "dry goods pasta           217316  \n",
       "frozen                    564250  \n",
       "household                 186630  \n",
       "international              67199  \n",
       "meat seafood              181150  \n",
       "missing                    16915  \n",
       "other                       8946  \n",
       "pantry                    472383  \n",
       "personal care             111052  \n",
       "pets                       25115  \n",
       "produce                  2408104  \n",
       "snacks                    728549  "
      ]
     },
     "execution_count": 56,
     "metadata": {},
     "output_type": "execute_result"
    }
   ],
   "source": [
    "# Check the output\n",
    "cross_age_department"
   ]
  },
  {
   "cell_type": "code",
   "execution_count": 57,
   "id": "15f6955e",
   "metadata": {},
   "outputs": [
    {
     "data": {
      "text/plain": [
       "<matplotlib.legend.Legend at 0x208ac848f10>"
      ]
     },
     "execution_count": 57,
     "metadata": {},
     "output_type": "execute_result"
    },
    {
     "data": {
      "image/png": "[encoded data removed]",
      "text/plain": [
       "<Figure size 640x480 with 1 Axes>"
      ]
     },
     "metadata": {},
     "output_type": "display_data"
    }
   ],
   "source": [
    "# Create stacked bar chart for age_group by department\n",
    "\n",
    "bar_age_group_dep = cross_age_department.sort_values(by='30-49 years old', ascending=True).plot(kind='barh', stacked=True, color = ['tab:pink', 'tab:blue', 'goldenrod', 'grey'])\n",
    "plt.xlabel('Frequency')\n",
    "plt.ylabel('Department')\n",
    "plt.title('Customer Age Groups by Department')\n",
    "plt.legend(loc='center left', bbox_to_anchor=(1.0, 0.5), title = 'Age Group')"
   ]
  },
  {
   "cell_type": "code",
   "execution_count": 58,
   "id": "97d00390",
   "metadata": {},
   "outputs": [],
   "source": [
    "# Export bar chart\n",
    "bar_age_group_dep.figure.savefig(os.path.join(path, '04 Analysis', 'Visualizations', 'bar_age_group_departments.png'),bbox_inches='tight')"
   ]
  },
  {
   "cell_type": "markdown",
   "id": "620f7299",
   "metadata": {},
   "source": [
    "### -- 'income_group' and 'department'"
   ]
  },
  {
   "cell_type": "code",
   "execution_count": 59,
   "id": "a589ea66",
   "metadata": {},
   "outputs": [],
   "source": [
    "# Create a crosstab between 'income_group' and 'department'\n",
    "cross_income_department = pd.crosstab(active_customers_departs['department'], active_customers_departs['income_group'].sort_values(), dropna = False)"
   ]
  },
  {
   "cell_type": "code",
   "execution_count": 60,
   "id": "3857af42",
   "metadata": {},
   "outputs": [
    {
     "data": {
      "text/html": [
       "<div>\n",
       "<style scoped>\n",
       "    .dataframe tbody tr th:only-of-type {\n",
       "        vertical-align: middle;\n",
       "    }\n",
       "\n",
       "    .dataframe tbody tr th {\n",
       "        vertical-align: top;\n",
       "    }\n",
       "\n",
       "    .dataframe thead th {\n",
       "        text-align: right;\n",
       "    }\n",
       "</style>\n",
       "<table border=\"1\" class=\"dataframe\">\n",
       "  <thead>\n",
       "    <tr style=\"text-align: right;\">\n",
       "      <th>income_group</th>\n",
       "      <th>High income</th>\n",
       "      <th>Low income</th>\n",
       "      <th>Medium income</th>\n",
       "    </tr>\n",
       "    <tr>\n",
       "      <th>department</th>\n",
       "      <th></th>\n",
       "      <th></th>\n",
       "      <th></th>\n",
       "    </tr>\n",
       "  </thead>\n",
       "  <tbody>\n",
       "    <tr>\n",
       "      <th>alcohol</th>\n",
       "      <td>27851</td>\n",
       "      <td>34383</td>\n",
       "      <td>82393</td>\n",
       "    </tr>\n",
       "    <tr>\n",
       "      <th>babies</th>\n",
       "      <td>66033</td>\n",
       "      <td>73943</td>\n",
       "      <td>270416</td>\n",
       "    </tr>\n",
       "    <tr>\n",
       "      <th>bakery</th>\n",
       "      <td>181165</td>\n",
       "      <td>241396</td>\n",
       "      <td>698267</td>\n",
       "    </tr>\n",
       "    <tr>\n",
       "      <th>beverages</th>\n",
       "      <td>382734</td>\n",
       "      <td>693630</td>\n",
       "      <td>1495537</td>\n",
       "    </tr>\n",
       "    <tr>\n",
       "      <th>breakfast</th>\n",
       "      <td>101746</td>\n",
       "      <td>174107</td>\n",
       "      <td>394997</td>\n",
       "    </tr>\n",
       "    <tr>\n",
       "      <th>bulk</th>\n",
       "      <td>4582</td>\n",
       "      <td>8787</td>\n",
       "      <td>20082</td>\n",
       "    </tr>\n",
       "    <tr>\n",
       "      <th>canned goods</th>\n",
       "      <td>163485</td>\n",
       "      <td>200464</td>\n",
       "      <td>648125</td>\n",
       "    </tr>\n",
       "    <tr>\n",
       "      <th>dairy eggs</th>\n",
       "      <td>806099</td>\n",
       "      <td>1122381</td>\n",
       "      <td>3243825</td>\n",
       "    </tr>\n",
       "    <tr>\n",
       "      <th>deli</th>\n",
       "      <td>154627</td>\n",
       "      <td>227449</td>\n",
       "      <td>621758</td>\n",
       "    </tr>\n",
       "    <tr>\n",
       "      <th>dry goods pasta</th>\n",
       "      <td>130838</td>\n",
       "      <td>162565</td>\n",
       "      <td>528733</td>\n",
       "    </tr>\n",
       "    <tr>\n",
       "      <th>frozen</th>\n",
       "      <td>336354</td>\n",
       "      <td>466831</td>\n",
       "      <td>1318546</td>\n",
       "    </tr>\n",
       "    <tr>\n",
       "      <th>household</th>\n",
       "      <td>112559</td>\n",
       "      <td>169424</td>\n",
       "      <td>417874</td>\n",
       "    </tr>\n",
       "    <tr>\n",
       "      <th>international</th>\n",
       "      <td>40306</td>\n",
       "      <td>52428</td>\n",
       "      <td>163257</td>\n",
       "    </tr>\n",
       "    <tr>\n",
       "      <th>meat seafood</th>\n",
       "      <td>112134</td>\n",
       "      <td>112824</td>\n",
       "      <td>449823</td>\n",
       "    </tr>\n",
       "    <tr>\n",
       "      <th>missing</th>\n",
       "      <td>10016</td>\n",
       "      <td>14494</td>\n",
       "      <td>40258</td>\n",
       "    </tr>\n",
       "    <tr>\n",
       "      <th>other</th>\n",
       "      <td>5511</td>\n",
       "      <td>7898</td>\n",
       "      <td>21002</td>\n",
       "    </tr>\n",
       "    <tr>\n",
       "      <th>pantry</th>\n",
       "      <td>283685</td>\n",
       "      <td>381168</td>\n",
       "      <td>1117852</td>\n",
       "    </tr>\n",
       "    <tr>\n",
       "      <th>personal care</th>\n",
       "      <td>65695</td>\n",
       "      <td>99237</td>\n",
       "      <td>259374</td>\n",
       "    </tr>\n",
       "    <tr>\n",
       "      <th>pets</th>\n",
       "      <td>15925</td>\n",
       "      <td>19285</td>\n",
       "      <td>57850</td>\n",
       "    </tr>\n",
       "    <tr>\n",
       "      <th>produce</th>\n",
       "      <td>1401445</td>\n",
       "      <td>1934564</td>\n",
       "      <td>5743264</td>\n",
       "    </tr>\n",
       "    <tr>\n",
       "      <th>snacks</th>\n",
       "      <td>373786</td>\n",
       "      <td>910575</td>\n",
       "      <td>1482045</td>\n",
       "    </tr>\n",
       "  </tbody>\n",
       "</table>\n",
       "</div>"
      ],
      "text/plain": [
       "income_group     High income  Low income  Medium income\n",
       "department                                             \n",
       "alcohol                27851       34383          82393\n",
       "babies                 66033       73943         270416\n",
       "bakery                181165      241396         698267\n",
       "beverages             382734      693630        1495537\n",
       "breakfast             101746      174107         394997\n",
       "bulk                    4582        8787          20082\n",
       "canned goods          163485      200464         648125\n",
       "dairy eggs            806099     1122381        3243825\n",
       "deli                  154627      227449         621758\n",
       "dry goods pasta       130838      162565         528733\n",
       "frozen                336354      466831        1318546\n",
       "household             112559      169424         417874\n",
       "international          40306       52428         163257\n",
       "meat seafood          112134      112824         449823\n",
       "missing                10016       14494          40258\n",
       "other                   5511        7898          21002\n",
       "pantry                283685      381168        1117852\n",
       "personal care          65695       99237         259374\n",
       "pets                   15925       19285          57850\n",
       "produce              1401445     1934564        5743264\n",
       "snacks                373786      910575        1482045"
      ]
     },
     "execution_count": 60,
     "metadata": {},
     "output_type": "execute_result"
    }
   ],
   "source": [
    "# Check the output\n",
    "cross_income_department"
   ]
  },
  {
   "cell_type": "code",
   "execution_count": 61,
   "id": "c5ab323b",
   "metadata": {},
   "outputs": [
    {
     "data": {
      "text/plain": [
       "<matplotlib.legend.Legend at 0x2065674ee10>"
      ]
     },
     "execution_count": 61,
     "metadata": {},
     "output_type": "execute_result"
    },
    {
     "data": {
      "image/png": "[encoded data removed]",
      "text/plain": [
       "<Figure size 640x480 with 1 Axes>"
      ]
     },
     "metadata": {},
     "output_type": "display_data"
    }
   ],
   "source": [
    "# Create stacked bar chart for income_group by department\n",
    "bar_income_group_dep = cross_income_department.sort_values(by='Medium income', ascending=True).plot(kind='barh', stacked=True, color = ['teal', 'orchid', 'lightseagreen'])\n",
    "plt.xlabel('Frequency')\n",
    "plt.ylabel('Department')\n",
    "plt.title('Income Groups by Department')\n",
    "plt.legend(loc='center left', bbox_to_anchor=(1.0, 0.5), title = 'Income Group')"
   ]
  },
  {
   "cell_type": "code",
   "execution_count": 62,
   "id": "8b7b89f7",
   "metadata": {},
   "outputs": [],
   "source": [
    "# Export bar chart\n",
    "bar_income_group_dep.figure.savefig(os.path.join(path, '04 Analysis', 'Visualizations', 'bar_income_group_departments.png'),bbox_inches='tight')"
   ]
  },
  {
   "cell_type": "markdown",
   "id": "17f9fb09",
   "metadata": {},
   "source": [
    "### -- 'marital_dependant_group' and 'department'"
   ]
  },
  {
   "cell_type": "code",
   "execution_count": 63,
   "id": "83f7469d",
   "metadata": {},
   "outputs": [],
   "source": [
    "# Create a crosstab between 'marital_dependant_group' and 'department'\n",
    "cross_marital_department = pd.crosstab(active_customers_departs['department'], active_customers_departs['marital_dependant_group'].sort_values(), dropna = False)"
   ]
  },
  {
   "cell_type": "code",
   "execution_count": 64,
   "id": "bf59ed12",
   "metadata": {},
   "outputs": [
    {
     "data": {
      "text/html": [
       "<div>\n",
       "<style scoped>\n",
       "    .dataframe tbody tr th:only-of-type {\n",
       "        vertical-align: middle;\n",
       "    }\n",
       "\n",
       "    .dataframe tbody tr th {\n",
       "        vertical-align: top;\n",
       "    }\n",
       "\n",
       "    .dataframe thead th {\n",
       "        text-align: right;\n",
       "    }\n",
       "</style>\n",
       "<table border=\"1\" class=\"dataframe\">\n",
       "  <thead>\n",
       "    <tr style=\"text-align: right;\">\n",
       "      <th>marital_dependant_group</th>\n",
       "      <th>Married with dependants</th>\n",
       "      <th>Single with dependants</th>\n",
       "      <th>Single without dependants</th>\n",
       "    </tr>\n",
       "    <tr>\n",
       "      <th>department</th>\n",
       "      <th></th>\n",
       "      <th></th>\n",
       "      <th></th>\n",
       "    </tr>\n",
       "  </thead>\n",
       "  <tbody>\n",
       "    <tr>\n",
       "      <th>alcohol</th>\n",
       "      <td>99421</td>\n",
       "      <td>8379</td>\n",
       "      <td>36827</td>\n",
       "    </tr>\n",
       "    <tr>\n",
       "      <th>babies</th>\n",
       "      <td>287683</td>\n",
       "      <td>19381</td>\n",
       "      <td>103328</td>\n",
       "    </tr>\n",
       "    <tr>\n",
       "      <th>bakery</th>\n",
       "      <td>785749</td>\n",
       "      <td>53684</td>\n",
       "      <td>281395</td>\n",
       "    </tr>\n",
       "    <tr>\n",
       "      <th>beverages</th>\n",
       "      <td>1807453</td>\n",
       "      <td>119107</td>\n",
       "      <td>645341</td>\n",
       "    </tr>\n",
       "    <tr>\n",
       "      <th>breakfast</th>\n",
       "      <td>471220</td>\n",
       "      <td>33198</td>\n",
       "      <td>166432</td>\n",
       "    </tr>\n",
       "    <tr>\n",
       "      <th>bulk</th>\n",
       "      <td>23818</td>\n",
       "      <td>1633</td>\n",
       "      <td>8000</td>\n",
       "    </tr>\n",
       "    <tr>\n",
       "      <th>canned goods</th>\n",
       "      <td>712577</td>\n",
       "      <td>48477</td>\n",
       "      <td>251020</td>\n",
       "    </tr>\n",
       "    <tr>\n",
       "      <th>dairy eggs</th>\n",
       "      <td>3629088</td>\n",
       "      <td>250014</td>\n",
       "      <td>1293203</td>\n",
       "    </tr>\n",
       "    <tr>\n",
       "      <th>deli</th>\n",
       "      <td>702333</td>\n",
       "      <td>48119</td>\n",
       "      <td>253382</td>\n",
       "    </tr>\n",
       "    <tr>\n",
       "      <th>dry goods pasta</th>\n",
       "      <td>578298</td>\n",
       "      <td>39542</td>\n",
       "      <td>204296</td>\n",
       "    </tr>\n",
       "    <tr>\n",
       "      <th>frozen</th>\n",
       "      <td>1489390</td>\n",
       "      <td>102993</td>\n",
       "      <td>529348</td>\n",
       "    </tr>\n",
       "    <tr>\n",
       "      <th>household</th>\n",
       "      <td>495150</td>\n",
       "      <td>33349</td>\n",
       "      <td>171358</td>\n",
       "    </tr>\n",
       "    <tr>\n",
       "      <th>international</th>\n",
       "      <td>179136</td>\n",
       "      <td>12394</td>\n",
       "      <td>64461</td>\n",
       "    </tr>\n",
       "    <tr>\n",
       "      <th>meat seafood</th>\n",
       "      <td>476559</td>\n",
       "      <td>32344</td>\n",
       "      <td>165878</td>\n",
       "    </tr>\n",
       "    <tr>\n",
       "      <th>missing</th>\n",
       "      <td>45516</td>\n",
       "      <td>3317</td>\n",
       "      <td>15935</td>\n",
       "    </tr>\n",
       "    <tr>\n",
       "      <th>other</th>\n",
       "      <td>23882</td>\n",
       "      <td>1815</td>\n",
       "      <td>8714</td>\n",
       "    </tr>\n",
       "    <tr>\n",
       "      <th>pantry</th>\n",
       "      <td>1252956</td>\n",
       "      <td>85845</td>\n",
       "      <td>443904</td>\n",
       "    </tr>\n",
       "    <tr>\n",
       "      <th>personal care</th>\n",
       "      <td>297900</td>\n",
       "      <td>20201</td>\n",
       "      <td>106205</td>\n",
       "    </tr>\n",
       "    <tr>\n",
       "      <th>pets</th>\n",
       "      <td>64120</td>\n",
       "      <td>5338</td>\n",
       "      <td>23602</td>\n",
       "    </tr>\n",
       "    <tr>\n",
       "      <th>produce</th>\n",
       "      <td>6373293</td>\n",
       "      <td>430539</td>\n",
       "      <td>2275441</td>\n",
       "    </tr>\n",
       "    <tr>\n",
       "      <th>snacks</th>\n",
       "      <td>1944658</td>\n",
       "      <td>131310</td>\n",
       "      <td>690438</td>\n",
       "    </tr>\n",
       "  </tbody>\n",
       "</table>\n",
       "</div>"
      ],
      "text/plain": [
       "marital_dependant_group  Married with dependants  Single with dependants  \\\n",
       "department                                                                 \n",
       "alcohol                                    99421                    8379   \n",
       "babies                                    287683                   19381   \n",
       "bakery                                    785749                   53684   \n",
       "beverages                                1807453                  119107   \n",
       "breakfast                                 471220                   33198   \n",
       "bulk                                       23818                    1633   \n",
       "canned goods                              712577                   48477   \n",
       "dairy eggs                               3629088                  250014   \n",
       "deli                                      702333                   48119   \n",
       "dry goods pasta                           578298                   39542   \n",
       "frozen                                   1489390                  102993   \n",
       "household                                 495150                   33349   \n",
       "international                             179136                   12394   \n",
       "meat seafood                              476559                   32344   \n",
       "missing                                    45516                    3317   \n",
       "other                                      23882                    1815   \n",
       "pantry                                   1252956                   85845   \n",
       "personal care                             297900                   20201   \n",
       "pets                                       64120                    5338   \n",
       "produce                                  6373293                  430539   \n",
       "snacks                                   1944658                  131310   \n",
       "\n",
       "marital_dependant_group  Single without dependants  \n",
       "department                                          \n",
       "alcohol                                      36827  \n",
       "babies                                      103328  \n",
       "bakery                                      281395  \n",
       "beverages                                   645341  \n",
       "breakfast                                   166432  \n",
       "bulk                                          8000  \n",
       "canned goods                                251020  \n",
       "dairy eggs                                 1293203  \n",
       "deli                                        253382  \n",
       "dry goods pasta                             204296  \n",
       "frozen                                      529348  \n",
       "household                                   171358  \n",
       "international                                64461  \n",
       "meat seafood                                165878  \n",
       "missing                                      15935  \n",
       "other                                         8714  \n",
       "pantry                                      443904  \n",
       "personal care                               106205  \n",
       "pets                                         23602  \n",
       "produce                                    2275441  \n",
       "snacks                                      690438  "
      ]
     },
     "execution_count": 64,
     "metadata": {},
     "output_type": "execute_result"
    }
   ],
   "source": [
    "# Check the output\n",
    "cross_marital_department"
   ]
  },
  {
   "cell_type": "code",
   "execution_count": 65,
   "id": "b3a90a2d",
   "metadata": {
    "scrolled": true
   },
   "outputs": [
    {
     "data": {
      "text/plain": [
       "<matplotlib.legend.Legend at 0x206567fb050>"
      ]
     },
     "execution_count": 65,
     "metadata": {},
     "output_type": "execute_result"
    },
    {
     "data": {
      "image/png": "[encoded data removed]",
      "text/plain": [
       "<Figure size 640x480 with 1 Axes>"
      ]
     },
     "metadata": {},
     "output_type": "display_data"
    }
   ],
   "source": [
    "# Create stacked bar chart for marital_dependant_group by department\n",
    "bar_marital_group_dep = cross_marital_department.sort_values(by='Married with dependants', ascending=True).plot(kind='barh', stacked=True, color = ['tab:blue', 'tab:green', 'tab:orange'])\n",
    "plt.xlabel('Frequency')\n",
    "plt.ylabel('Department')\n",
    "plt.title('Customer Family Status by Department')\n",
    "plt.legend(loc='center left', bbox_to_anchor=(1.0, 0.5), title = 'Family Status')"
   ]
  },
  {
   "cell_type": "code",
   "execution_count": 66,
   "id": "e5c81e0d",
   "metadata": {},
   "outputs": [],
   "source": [
    "# Export bar chart\n",
    "bar_marital_group_dep.figure.savefig(os.path.join(path, '04 Analysis', 'Visualizations', 'bar_marital_group_departments.png'),bbox_inches='tight')"
   ]
  },
  {
   "cell_type": "markdown",
   "id": "18622002",
   "metadata": {},
   "source": [
    "### -- 'age_group' and 'regions'"
   ]
  },
  {
   "cell_type": "code",
   "execution_count": 67,
   "id": "a8b6756d",
   "metadata": {},
   "outputs": [],
   "source": [
    "# Create a crosstab between 'age_group' and 'regions'\n",
    "cross_age_region = pd.crosstab(active_customers_departs['regions'], active_customers_departs['age_group'].sort_values(), dropna = False)"
   ]
  },
  {
   "cell_type": "code",
   "execution_count": 68,
   "id": "fbdc75fb",
   "metadata": {},
   "outputs": [
    {
     "data": {
      "text/html": [
       "<div>\n",
       "<style scoped>\n",
       "    .dataframe tbody tr th:only-of-type {\n",
       "        vertical-align: middle;\n",
       "    }\n",
       "\n",
       "    .dataframe tbody tr th {\n",
       "        vertical-align: top;\n",
       "    }\n",
       "\n",
       "    .dataframe thead th {\n",
       "        text-align: right;\n",
       "    }\n",
       "</style>\n",
       "<table border=\"1\" class=\"dataframe\">\n",
       "  <thead>\n",
       "    <tr style=\"text-align: right;\">\n",
       "      <th>age_group</th>\n",
       "      <th>18-29 years old</th>\n",
       "      <th>30-49 years old</th>\n",
       "      <th>50-64 years old</th>\n",
       "      <th>65-81 years old</th>\n",
       "    </tr>\n",
       "    <tr>\n",
       "      <th>regions</th>\n",
       "      <th></th>\n",
       "      <th></th>\n",
       "      <th></th>\n",
       "      <th></th>\n",
       "    </tr>\n",
       "  </thead>\n",
       "  <tbody>\n",
       "    <tr>\n",
       "      <th>Midwest</th>\n",
       "      <td>1355548</td>\n",
       "      <td>2301632</td>\n",
       "      <td>1699398</td>\n",
       "      <td>1903728</td>\n",
       "    </tr>\n",
       "    <tr>\n",
       "      <th>Northeast</th>\n",
       "      <td>1023858</td>\n",
       "      <td>1707090</td>\n",
       "      <td>1248324</td>\n",
       "      <td>1484610</td>\n",
       "    </tr>\n",
       "    <tr>\n",
       "      <th>South</th>\n",
       "      <td>2522240</td>\n",
       "      <td>4202086</td>\n",
       "      <td>3133982</td>\n",
       "      <td>3520827</td>\n",
       "    </tr>\n",
       "    <tr>\n",
       "      <th>West</th>\n",
       "      <td>914986</td>\n",
       "      <td>1518358</td>\n",
       "      <td>1137918</td>\n",
       "      <td>1285102</td>\n",
       "    </tr>\n",
       "  </tbody>\n",
       "</table>\n",
       "</div>"
      ],
      "text/plain": [
       "age_group  18-29 years old  30-49 years old  50-64 years old  65-81 years old\n",
       "regions                                                                      \n",
       "Midwest            1355548          2301632          1699398          1903728\n",
       "Northeast          1023858          1707090          1248324          1484610\n",
       "South              2522240          4202086          3133982          3520827\n",
       "West                914986          1518358          1137918          1285102"
      ]
     },
     "execution_count": 68,
     "metadata": {},
     "output_type": "execute_result"
    }
   ],
   "source": [
    "# Check the output\n",
    "cross_age_region"
   ]
  },
  {
   "cell_type": "code",
   "execution_count": 69,
   "id": "603036cf",
   "metadata": {},
   "outputs": [
    {
     "data": {
      "text/plain": [
       "(array([0, 1, 2, 3]),\n",
       " [Text(0, 0, 'South'),\n",
       "  Text(1, 0, 'Midwest'),\n",
       "  Text(2, 0, 'Northeast'),\n",
       "  Text(3, 0, 'West')])"
      ]
     },
     "execution_count": 69,
     "metadata": {},
     "output_type": "execute_result"
    },
    {
     "data": {
      "image/png": "[encoded data removed]",
      "text/plain": [
       "<Figure size 640x480 with 1 Axes>"
      ]
     },
     "metadata": {},
     "output_type": "display_data"
    }
   ],
   "source": [
    "# Create stacked bar chart for age_group by region\n",
    "bar_age_group_reg = cross_age_region.sort_values(by='30-49 years old', ascending=False).plot(kind='bar', stacked=True, color = ['tab:pink', 'tab:blue', 'goldenrod', 'grey'])\n",
    "\n",
    "plt.ylabel('Frequency')\n",
    "plt.xlabel('Regions')\n",
    "plt.title('Customer Age Groups by Region')\n",
    "plt.legend(loc='center left', bbox_to_anchor=(1.0, 0.5), title = 'Age Group')\n",
    "\n",
    "plt.xticks(rotation = 360)"
   ]
  },
  {
   "cell_type": "code",
   "execution_count": 70,
   "id": "e0a956c6",
   "metadata": {},
   "outputs": [],
   "source": [
    "# Export bar chart\n",
    "bar_age_group_reg.figure.savefig(os.path.join(path, '04 Analysis', 'Visualizations', 'bar_age_group_regions.png'),bbox_inches='tight')"
   ]
  },
  {
   "cell_type": "markdown",
   "id": "36762cd5",
   "metadata": {},
   "source": [
    "### -- 'income_group' and 'regions'"
   ]
  },
  {
   "cell_type": "code",
   "execution_count": 71,
   "id": "fbc03009",
   "metadata": {},
   "outputs": [],
   "source": [
    "# Create a crosstab between 'income_group' and 'regions'\n",
    "cross_income_reg = pd.crosstab(active_customers_departs['regions'], active_customers_departs['income_group'].sort_values(), dropna = False)"
   ]
  },
  {
   "cell_type": "code",
   "execution_count": 72,
   "id": "5fbbd981",
   "metadata": {},
   "outputs": [
    {
     "data": {
      "text/html": [
       "<div>\n",
       "<style scoped>\n",
       "    .dataframe tbody tr th:only-of-type {\n",
       "        vertical-align: middle;\n",
       "    }\n",
       "\n",
       "    .dataframe tbody tr th {\n",
       "        vertical-align: top;\n",
       "    }\n",
       "\n",
       "    .dataframe thead th {\n",
       "        text-align: right;\n",
       "    }\n",
       "</style>\n",
       "<table border=\"1\" class=\"dataframe\">\n",
       "  <thead>\n",
       "    <tr style=\"text-align: right;\">\n",
       "      <th>income_group</th>\n",
       "      <th>High income</th>\n",
       "      <th>Low income</th>\n",
       "      <th>Medium income</th>\n",
       "    </tr>\n",
       "    <tr>\n",
       "      <th>regions</th>\n",
       "      <th></th>\n",
       "      <th></th>\n",
       "      <th></th>\n",
       "    </tr>\n",
       "  </thead>\n",
       "  <tbody>\n",
       "    <tr>\n",
       "      <th>Midwest</th>\n",
       "      <td>1126066</td>\n",
       "      <td>1639363</td>\n",
       "      <td>4494877</td>\n",
       "    </tr>\n",
       "    <tr>\n",
       "      <th>Northeast</th>\n",
       "      <td>841989</td>\n",
       "      <td>1247015</td>\n",
       "      <td>3374878</td>\n",
       "    </tr>\n",
       "    <tr>\n",
       "      <th>South</th>\n",
       "      <td>2059637</td>\n",
       "      <td>3109626</td>\n",
       "      <td>8209872</td>\n",
       "    </tr>\n",
       "    <tr>\n",
       "      <th>West</th>\n",
       "      <td>748884</td>\n",
       "      <td>1111829</td>\n",
       "      <td>2995651</td>\n",
       "    </tr>\n",
       "  </tbody>\n",
       "</table>\n",
       "</div>"
      ],
      "text/plain": [
       "income_group  High income  Low income  Medium income\n",
       "regions                                             \n",
       "Midwest           1126066     1639363        4494877\n",
       "Northeast          841989     1247015        3374878\n",
       "South             2059637     3109626        8209872\n",
       "West               748884     1111829        2995651"
      ]
     },
     "execution_count": 72,
     "metadata": {},
     "output_type": "execute_result"
    }
   ],
   "source": [
    "# Check the output\n",
    "cross_income_reg"
   ]
  },
  {
   "cell_type": "code",
   "execution_count": 73,
   "id": "4fd7daa8",
   "metadata": {},
   "outputs": [
    {
     "data": {
      "text/plain": [
       "(array([0, 1, 2, 3]),\n",
       " [Text(0, 0, 'South'),\n",
       "  Text(1, 0, 'Midwest'),\n",
       "  Text(2, 0, 'Northeast'),\n",
       "  Text(3, 0, 'West')])"
      ]
     },
     "execution_count": 73,
     "metadata": {},
     "output_type": "execute_result"
    },
    {
     "data": {
      "image/png": "[encoded data removed]",
      "text/plain": [
       "<Figure size 640x480 with 1 Axes>"
      ]
     },
     "metadata": {},
     "output_type": "display_data"
    }
   ],
   "source": [
    "# Create stacked bar chart for regions by income_group\n",
    "bar_income_group_reg = cross_income_reg.sort_values(by='Medium income', ascending=False).plot(kind='bar', stacked=True, color = ['teal', 'orchid', 'lightseagreen'])\n",
    "\n",
    "plt.ylabel('Frequency')\n",
    "plt.xlabel('Regions')\n",
    "plt.title('Customer Income Groups by Region')\n",
    "plt.legend(loc='center left', bbox_to_anchor=(1.0, 0.5), title = 'Income Group')\n",
    "\n",
    "plt.xticks(rotation = 360)"
   ]
  },
  {
   "cell_type": "code",
   "execution_count": 74,
   "id": "0dd45cfa",
   "metadata": {},
   "outputs": [],
   "source": [
    "# Export bar chart\n",
    "bar_income_group_reg.figure.savefig(os.path.join(path, '04 Analysis', 'Visualizations', 'bar_income_group_regions.png'),bbox_inches='tight')"
   ]
  },
  {
   "cell_type": "markdown",
   "id": "d4708f0d",
   "metadata": {},
   "source": [
    "### -- 'marital_dependant_group' and 'region'"
   ]
  },
  {
   "cell_type": "code",
   "execution_count": 75,
   "id": "70cf8fca",
   "metadata": {},
   "outputs": [],
   "source": [
    "# Create a crosstab between 'marital_dependant_group' and 'region'\n",
    "cross_marital_reg = pd.crosstab(active_customers_departs['regions'], active_customers_departs['marital_dependant_group'].sort_values(), dropna = False)"
   ]
  },
  {
   "cell_type": "code",
   "execution_count": 76,
   "id": "8fcb24dd",
   "metadata": {},
   "outputs": [
    {
     "data": {
      "text/html": [
       "<div>\n",
       "<style scoped>\n",
       "    .dataframe tbody tr th:only-of-type {\n",
       "        vertical-align: middle;\n",
       "    }\n",
       "\n",
       "    .dataframe tbody tr th {\n",
       "        vertical-align: top;\n",
       "    }\n",
       "\n",
       "    .dataframe thead th {\n",
       "        text-align: right;\n",
       "    }\n",
       "</style>\n",
       "<table border=\"1\" class=\"dataframe\">\n",
       "  <thead>\n",
       "    <tr style=\"text-align: right;\">\n",
       "      <th>marital_dependant_group</th>\n",
       "      <th>Married with dependants</th>\n",
       "      <th>Single with dependants</th>\n",
       "      <th>Single without dependants</th>\n",
       "    </tr>\n",
       "    <tr>\n",
       "      <th>regions</th>\n",
       "      <th></th>\n",
       "      <th></th>\n",
       "      <th></th>\n",
       "    </tr>\n",
       "  </thead>\n",
       "  <tbody>\n",
       "    <tr>\n",
       "      <th>Midwest</th>\n",
       "      <td>5086374</td>\n",
       "      <td>351401</td>\n",
       "      <td>1822531</td>\n",
       "    </tr>\n",
       "    <tr>\n",
       "      <th>Northeast</th>\n",
       "      <td>3853188</td>\n",
       "      <td>256417</td>\n",
       "      <td>1354277</td>\n",
       "    </tr>\n",
       "    <tr>\n",
       "      <th>South</th>\n",
       "      <td>9386282</td>\n",
       "      <td>655426</td>\n",
       "      <td>3337427</td>\n",
       "    </tr>\n",
       "    <tr>\n",
       "      <th>West</th>\n",
       "      <td>3414356</td>\n",
       "      <td>217735</td>\n",
       "      <td>1224273</td>\n",
       "    </tr>\n",
       "  </tbody>\n",
       "</table>\n",
       "</div>"
      ],
      "text/plain": [
       "marital_dependant_group  Married with dependants  Single with dependants  \\\n",
       "regions                                                                    \n",
       "Midwest                                  5086374                  351401   \n",
       "Northeast                                3853188                  256417   \n",
       "South                                    9386282                  655426   \n",
       "West                                     3414356                  217735   \n",
       "\n",
       "marital_dependant_group  Single without dependants  \n",
       "regions                                             \n",
       "Midwest                                    1822531  \n",
       "Northeast                                  1354277  \n",
       "South                                      3337427  \n",
       "West                                       1224273  "
      ]
     },
     "execution_count": 76,
     "metadata": {},
     "output_type": "execute_result"
    }
   ],
   "source": [
    "# Check the output\n",
    "cross_marital_reg"
   ]
  },
  {
   "cell_type": "code",
   "execution_count": 77,
   "id": "563db4d0",
   "metadata": {},
   "outputs": [
    {
     "data": {
      "text/plain": [
       "(array([0, 1, 2, 3]),\n",
       " [Text(0, 0, 'South'),\n",
       "  Text(1, 0, 'Midwest'),\n",
       "  Text(2, 0, 'Northeast'),\n",
       "  Text(3, 0, 'West')])"
      ]
     },
     "execution_count": 77,
     "metadata": {},
     "output_type": "execute_result"
    },
    {
     "data": {
      "image/png": "[encoded data removed]",
      "text/plain": [
       "<Figure size 640x480 with 1 Axes>"
      ]
     },
     "metadata": {},
     "output_type": "display_data"
    }
   ],
   "source": [
    "# Create stacked bar chart for regions by marital_dependant_group\n",
    "bar_marital_group_reg = cross_marital_reg.sort_values(by='Married with dependants', ascending=False).plot(kind='bar', stacked=True, color = ['tab:blue', 'tab:green', 'tab:orange'])\n",
    "\n",
    "plt.ylabel('Frequency')\n",
    "plt.xlabel('Regions')\n",
    "plt.title('Customer Family Status by Region')\n",
    "plt.legend(loc='center left', bbox_to_anchor=(1.0, 0.5), title = 'Family Status')\n",
    "\n",
    "plt.xticks(rotation = 360)"
   ]
  },
  {
   "cell_type": "code",
   "execution_count": 78,
   "id": "babff289",
   "metadata": {},
   "outputs": [],
   "source": [
    "# Export bar chart\n",
    "bar_marital_group_reg.figure.savefig(os.path.join(path, '04 Analysis', 'Visualizations', 'bar_marital_group_regions.png'),bbox_inches='tight')"
   ]
  },
  {
   "cell_type": "markdown",
   "id": "5dfa8d7d",
   "metadata": {},
   "source": [
    "### -- 'department' and 'regions'"
   ]
  },
  {
   "cell_type": "code",
   "execution_count": 79,
   "id": "7595bd1a",
   "metadata": {},
   "outputs": [],
   "source": [
    "# Create a crosstab between 'department' and 'regions'\n",
    "cross_depart_reg = pd.crosstab(active_customers_departs['department'], active_customers_departs['regions'].sort_values(), dropna = False)"
   ]
  },
  {
   "cell_type": "code",
   "execution_count": 80,
   "id": "a01da957",
   "metadata": {},
   "outputs": [
    {
     "data": {
      "text/html": [
       "<div>\n",
       "<style scoped>\n",
       "    .dataframe tbody tr th:only-of-type {\n",
       "        vertical-align: middle;\n",
       "    }\n",
       "\n",
       "    .dataframe tbody tr th {\n",
       "        vertical-align: top;\n",
       "    }\n",
       "\n",
       "    .dataframe thead th {\n",
       "        text-align: right;\n",
       "    }\n",
       "</style>\n",
       "<table border=\"1\" class=\"dataframe\">\n",
       "  <thead>\n",
       "    <tr style=\"text-align: right;\">\n",
       "      <th>regions</th>\n",
       "      <th>Midwest</th>\n",
       "      <th>Northeast</th>\n",
       "      <th>South</th>\n",
       "      <th>West</th>\n",
       "    </tr>\n",
       "    <tr>\n",
       "      <th>department</th>\n",
       "      <th></th>\n",
       "      <th></th>\n",
       "      <th></th>\n",
       "      <th></th>\n",
       "    </tr>\n",
       "  </thead>\n",
       "  <tbody>\n",
       "    <tr>\n",
       "      <th>alcohol</th>\n",
       "      <td>34043</td>\n",
       "      <td>25017</td>\n",
       "      <td>62363</td>\n",
       "      <td>23204</td>\n",
       "    </tr>\n",
       "    <tr>\n",
       "      <th>babies</th>\n",
       "      <td>95741</td>\n",
       "      <td>72712</td>\n",
       "      <td>180341</td>\n",
       "      <td>61598</td>\n",
       "    </tr>\n",
       "    <tr>\n",
       "      <th>bakery</th>\n",
       "      <td>261753</td>\n",
       "      <td>199300</td>\n",
       "      <td>483615</td>\n",
       "      <td>176160</td>\n",
       "    </tr>\n",
       "    <tr>\n",
       "      <th>beverages</th>\n",
       "      <td>598979</td>\n",
       "      <td>462929</td>\n",
       "      <td>1108602</td>\n",
       "      <td>401391</td>\n",
       "    </tr>\n",
       "    <tr>\n",
       "      <th>breakfast</th>\n",
       "      <td>156155</td>\n",
       "      <td>117904</td>\n",
       "      <td>289596</td>\n",
       "      <td>107195</td>\n",
       "    </tr>\n",
       "    <tr>\n",
       "      <th>bulk</th>\n",
       "      <td>7929</td>\n",
       "      <td>5599</td>\n",
       "      <td>14618</td>\n",
       "      <td>5305</td>\n",
       "    </tr>\n",
       "    <tr>\n",
       "      <th>canned goods</th>\n",
       "      <td>237459</td>\n",
       "      <td>176936</td>\n",
       "      <td>436718</td>\n",
       "      <td>160961</td>\n",
       "    </tr>\n",
       "    <tr>\n",
       "      <th>dairy eggs</th>\n",
       "      <td>1211283</td>\n",
       "      <td>913813</td>\n",
       "      <td>2235506</td>\n",
       "      <td>811703</td>\n",
       "    </tr>\n",
       "    <tr>\n",
       "      <th>deli</th>\n",
       "      <td>234464</td>\n",
       "      <td>178398</td>\n",
       "      <td>433688</td>\n",
       "      <td>157284</td>\n",
       "    </tr>\n",
       "    <tr>\n",
       "      <th>dry goods pasta</th>\n",
       "      <td>193463</td>\n",
       "      <td>143817</td>\n",
       "      <td>354428</td>\n",
       "      <td>130428</td>\n",
       "    </tr>\n",
       "    <tr>\n",
       "      <th>frozen</th>\n",
       "      <td>498225</td>\n",
       "      <td>370436</td>\n",
       "      <td>917715</td>\n",
       "      <td>335355</td>\n",
       "    </tr>\n",
       "    <tr>\n",
       "      <th>household</th>\n",
       "      <td>166992</td>\n",
       "      <td>124604</td>\n",
       "      <td>298165</td>\n",
       "      <td>110096</td>\n",
       "    </tr>\n",
       "    <tr>\n",
       "      <th>international</th>\n",
       "      <td>60666</td>\n",
       "      <td>44678</td>\n",
       "      <td>110443</td>\n",
       "      <td>40204</td>\n",
       "    </tr>\n",
       "    <tr>\n",
       "      <th>meat seafood</th>\n",
       "      <td>158260</td>\n",
       "      <td>118571</td>\n",
       "      <td>290783</td>\n",
       "      <td>107167</td>\n",
       "    </tr>\n",
       "    <tr>\n",
       "      <th>missing</th>\n",
       "      <td>15563</td>\n",
       "      <td>11512</td>\n",
       "      <td>28195</td>\n",
       "      <td>9498</td>\n",
       "    </tr>\n",
       "    <tr>\n",
       "      <th>other</th>\n",
       "      <td>7983</td>\n",
       "      <td>6268</td>\n",
       "      <td>14890</td>\n",
       "      <td>5270</td>\n",
       "    </tr>\n",
       "    <tr>\n",
       "      <th>pantry</th>\n",
       "      <td>420334</td>\n",
       "      <td>312731</td>\n",
       "      <td>769412</td>\n",
       "      <td>280228</td>\n",
       "    </tr>\n",
       "    <tr>\n",
       "      <th>personal care</th>\n",
       "      <td>100398</td>\n",
       "      <td>74765</td>\n",
       "      <td>183012</td>\n",
       "      <td>66131</td>\n",
       "    </tr>\n",
       "    <tr>\n",
       "      <th>pets</th>\n",
       "      <td>21358</td>\n",
       "      <td>17734</td>\n",
       "      <td>37950</td>\n",
       "      <td>16018</td>\n",
       "    </tr>\n",
       "    <tr>\n",
       "      <th>produce</th>\n",
       "      <td>2134115</td>\n",
       "      <td>1593004</td>\n",
       "      <td>3932855</td>\n",
       "      <td>1419299</td>\n",
       "    </tr>\n",
       "    <tr>\n",
       "      <th>snacks</th>\n",
       "      <td>645143</td>\n",
       "      <td>493154</td>\n",
       "      <td>1196240</td>\n",
       "      <td>431869</td>\n",
       "    </tr>\n",
       "  </tbody>\n",
       "</table>\n",
       "</div>"
      ],
      "text/plain": [
       "regions          Midwest  Northeast    South     West\n",
       "department                                           \n",
       "alcohol            34043      25017    62363    23204\n",
       "babies             95741      72712   180341    61598\n",
       "bakery            261753     199300   483615   176160\n",
       "beverages         598979     462929  1108602   401391\n",
       "breakfast         156155     117904   289596   107195\n",
       "bulk                7929       5599    14618     5305\n",
       "canned goods      237459     176936   436718   160961\n",
       "dairy eggs       1211283     913813  2235506   811703\n",
       "deli              234464     178398   433688   157284\n",
       "dry goods pasta   193463     143817   354428   130428\n",
       "frozen            498225     370436   917715   335355\n",
       "household         166992     124604   298165   110096\n",
       "international      60666      44678   110443    40204\n",
       "meat seafood      158260     118571   290783   107167\n",
       "missing            15563      11512    28195     9498\n",
       "other               7983       6268    14890     5270\n",
       "pantry            420334     312731   769412   280228\n",
       "personal care     100398      74765   183012    66131\n",
       "pets               21358      17734    37950    16018\n",
       "produce          2134115    1593004  3932855  1419299\n",
       "snacks            645143     493154  1196240   431869"
      ]
     },
     "execution_count": 80,
     "metadata": {},
     "output_type": "execute_result"
    }
   ],
   "source": [
    "# Check the output\n",
    "cross_depart_reg"
   ]
  },
  {
   "cell_type": "code",
   "execution_count": 81,
   "id": "5f13a8ec",
   "metadata": {},
   "outputs": [
    {
     "data": {
      "text/plain": [
       "<matplotlib.legend.Legend at 0x20657386c10>"
      ]
     },
     "execution_count": 81,
     "metadata": {},
     "output_type": "execute_result"
    },
    {
     "data": {
      "image/png": "[encoded data removed]",
      "text/plain": [
       "<Figure size 640x480 with 1 Axes>"
      ]
     },
     "metadata": {},
     "output_type": "display_data"
    }
   ],
   "source": [
    "# Create stacked bar chart for region by department\n",
    "\n",
    "bar_depart_reg = cross_depart_reg.sort_values(by='South', ascending=True).plot(kind='barh', stacked=True)\n",
    "plt.xlabel('Frequency')\n",
    "plt.ylabel('Department')\n",
    "plt.title('Regions by Department')\n",
    "plt.legend(title = 'Regions')"
   ]
  },
  {
   "cell_type": "code",
   "execution_count": 82,
   "id": "8d3cf49d",
   "metadata": {},
   "outputs": [],
   "source": [
    "# Export bar chart\n",
    "bar_depart_reg.figure.savefig(os.path.join(path, '04 Analysis', 'Visualizations', 'bar_departments_regions.png'),bbox_inches='tight')"
   ]
  },
  {
   "cell_type": "markdown",
   "id": "19bd65ea",
   "metadata": {},
   "source": [
    "### -- Crosstabs between age group and family status"
   ]
  },
  {
   "cell_type": "code",
   "execution_count": 83,
   "id": "576ef2b7",
   "metadata": {},
   "outputs": [],
   "source": [
    "# Create a crosstab between 'age_group' and 'marital_dependant_group'\n",
    "cross_age_marital = pd.crosstab(active_customers_departs['age_group'], active_customers_departs['marital_dependant_group'].sort_values(), dropna = False)"
   ]
  },
  {
   "cell_type": "code",
   "execution_count": 84,
   "id": "bd428285",
   "metadata": {},
   "outputs": [
    {
     "data": {
      "text/html": [
       "<div>\n",
       "<style scoped>\n",
       "    .dataframe tbody tr th:only-of-type {\n",
       "        vertical-align: middle;\n",
       "    }\n",
       "\n",
       "    .dataframe tbody tr th {\n",
       "        vertical-align: top;\n",
       "    }\n",
       "\n",
       "    .dataframe thead th {\n",
       "        text-align: right;\n",
       "    }\n",
       "</style>\n",
       "<table border=\"1\" class=\"dataframe\">\n",
       "  <thead>\n",
       "    <tr style=\"text-align: right;\">\n",
       "      <th>marital_dependant_group</th>\n",
       "      <th>Married with dependants</th>\n",
       "      <th>Single with dependants</th>\n",
       "      <th>Single without dependants</th>\n",
       "    </tr>\n",
       "    <tr>\n",
       "      <th>age_group</th>\n",
       "      <th></th>\n",
       "      <th></th>\n",
       "      <th></th>\n",
       "    </tr>\n",
       "  </thead>\n",
       "  <tbody>\n",
       "    <tr>\n",
       "      <th>18-29 years old</th>\n",
       "      <td>2888251</td>\n",
       "      <td>1480979</td>\n",
       "      <td>1447402</td>\n",
       "    </tr>\n",
       "    <tr>\n",
       "      <th>30-49 years old</th>\n",
       "      <td>7302834</td>\n",
       "      <td>0</td>\n",
       "      <td>2426332</td>\n",
       "    </tr>\n",
       "    <tr>\n",
       "      <th>50-64 years old</th>\n",
       "      <td>5376452</td>\n",
       "      <td>0</td>\n",
       "      <td>1843170</td>\n",
       "    </tr>\n",
       "    <tr>\n",
       "      <th>65-81 years old</th>\n",
       "      <td>6172663</td>\n",
       "      <td>0</td>\n",
       "      <td>2021604</td>\n",
       "    </tr>\n",
       "  </tbody>\n",
       "</table>\n",
       "</div>"
      ],
      "text/plain": [
       "marital_dependant_group  Married with dependants  Single with dependants  \\\n",
       "age_group                                                                  \n",
       "18-29 years old                          2888251                 1480979   \n",
       "30-49 years old                          7302834                       0   \n",
       "50-64 years old                          5376452                       0   \n",
       "65-81 years old                          6172663                       0   \n",
       "\n",
       "marital_dependant_group  Single without dependants  \n",
       "age_group                                           \n",
       "18-29 years old                            1447402  \n",
       "30-49 years old                            2426332  \n",
       "50-64 years old                            1843170  \n",
       "65-81 years old                            2021604  "
      ]
     },
     "execution_count": 84,
     "metadata": {},
     "output_type": "execute_result"
    }
   ],
   "source": [
    "# Check the output\n",
    "cross_age_marital"
   ]
  },
  {
   "cell_type": "code",
   "execution_count": 85,
   "id": "bf24e2c0",
   "metadata": {},
   "outputs": [
    {
     "data": {
      "text/plain": [
       "(array([0, 1, 2, 3]),\n",
       " [Text(0, 0, '18-29 years old'),\n",
       "  Text(1, 0, '30-49 years old'),\n",
       "  Text(2, 0, '50-64 years old'),\n",
       "  Text(3, 0, '65-81 years old')])"
      ]
     },
     "execution_count": 85,
     "metadata": {},
     "output_type": "execute_result"
    },
    {
     "data": {
      "image/png": "[encoded data removed]",
      "text/plain": [
       "<Figure size 640x480 with 1 Axes>"
      ]
     },
     "metadata": {},
     "output_type": "display_data"
    }
   ],
   "source": [
    "# Create stacked bar chart for age_group by region\n",
    "bar_age_marital = cross_age_marital.plot(kind='bar', stacked=True, color = ['tab:blue', 'tab:green', 'tab:orange'])\n",
    "plt.ylabel('Frequency')\n",
    "plt.xlabel('Age Group')\n",
    "plt.title('Customer Family Status per Age Group')\n",
    "plt.legend(bbox_to_anchor=(1.0, 0.5), title = 'Family Status')\n",
    "\n",
    "plt.xticks(rotation = 360)"
   ]
  },
  {
   "cell_type": "code",
   "execution_count": 86,
   "id": "f1694f60",
   "metadata": {},
   "outputs": [],
   "source": [
    "# Export bar chart\n",
    "bar_age_marital.figure.savefig(os.path.join(path, '04 Analysis', 'Visualizations', 'bar_age_marital.png'),bbox_inches='tight')"
   ]
  },
  {
   "cell_type": "markdown",
   "id": "567672f9",
   "metadata": {},
   "source": [
    "## 6. Additional visualization"
   ]
  },
  {
   "cell_type": "markdown",
   "id": "8e786ca2",
   "metadata": {},
   "source": [
    "### -- Income by region"
   ]
  },
  {
   "cell_type": "code",
   "execution_count": 87,
   "id": "9720128d",
   "metadata": {},
   "outputs": [
    {
     "data": {
      "text/plain": [
       "Text(0.5, 1.0, 'Total Income by Region')"
      ]
     },
     "execution_count": 87,
     "metadata": {},
     "output_type": "execute_result"
    },
    {
     "data": {
      "image/png": "[encoded data removed]",
      "text/plain": [
       "<Figure size 640x480 with 1 Axes>"
      ]
     },
     "metadata": {},
     "output_type": "display_data"
    }
   ],
   "source": [
    "# Create bar chart to show income per region\n",
    "bar_region_income = active_customers_departs.groupby('regions').prices.sum().sort_values(ascending = True).plot(kind = 'barh')\n",
    "\n",
    "plt.ylabel('Regions')\n",
    "plt.xlabel('Income')\n",
    "plt.title('Total Income by Region')\n"
   ]
  },
  {
   "cell_type": "code",
   "execution_count": 88,
   "id": "02b18af2",
   "metadata": {},
   "outputs": [],
   "source": [
    "# Export bar chart\n",
    "bar_region_income.figure.savefig(os.path.join(path, '04 Analysis', 'Visualizations', 'bar_income_regions.png'),bbox_inches='tight')"
   ]
  },
  {
   "cell_type": "markdown",
   "id": "cf07f882",
   "metadata": {},
   "source": [
    "## 7. Export final dataframe"
   ]
  },
  {
   "cell_type": "code",
   "execution_count": 89,
   "id": "f1c8fdb9",
   "metadata": {},
   "outputs": [],
   "source": [
    "# Export active_customers_departs dataframe as 'active_customers_departments_merged_final.pkl'\n",
    "active_customers_departs.to_pickle(os.path.join(path, '02 Data', 'Prepared Data', 'active_customers_departments_merged_final.pkl'))"
   ]
  }
 ],
 "metadata": {
  "kernelspec": {
   "display_name": "Python 3 (ipykernel)",
   "language": "python",
   "name": "python3"
  },
  "language_info": {
   "codemirror_mode": {
    "name": "ipython",
    "version": 3
   },
   "file_extension": ".py",
   "mimetype": "text/x-python",
   "name": "python",
   "nbconvert_exporter": "python",
   "pygments_lexer": "ipython3",
   "version": "3.11.4"
  }
 },
 "nbformat": 4,
 "nbformat_minor": 5
}
